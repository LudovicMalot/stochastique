{
 "cells": [
  {
   "cell_type": "markdown",
   "metadata": {
    "pycharm": {
     "name": "#%% md\n"
    }
   },
   "source": [
    "# Projet Diagnostic"
   ]
  },
  {
   "cell_type": "markdown",
   "metadata": {
    "pycharm": {
     "name": "#%% md\n"
    }
   },
   "source": [
    "## Chargement et brève analyse descriptive"
   ]
  },
  {
   "cell_type": "markdown",
   "metadata": {
    "pycharm": {
     "name": "#%% md\n"
    }
   },
   "source": [
    "Importation des librairies nécessaires"
   ]
  },
  {
   "cell_type": "code",
   "execution_count": 1,
   "metadata": {
    "pycharm": {
     "is_executing": true,
     "name": "#%%\n"
    }
   },
   "outputs": [],
   "source": [
    "import pandas as pd\n",
    "import os\n",
    "import pyAgrum as gum\n",
    "import pyAgrum.lib.notebook as gnb \n",
    "import sys\n",
    "import numpy as np"
   ]
  },
  {
   "cell_type": "markdown",
   "metadata": {
    "pycharm": {
     "name": "#%% md\n"
    }
   },
   "source": [
    "Chargement des données :"
   ]
  },
  {
   "cell_type": "code",
   "execution_count": 2,
   "metadata": {
    "pycharm": {
     "name": "#%%\n"
    }
   },
   "outputs": [],
   "source": [
    "ot_odr_filename = os.path.join(\".\", \"OT_ODR.csv.bz2\")\n",
    "ot_odr_df = pd.read_csv(ot_odr_filename,\n",
    "                        compression=\"bz2\",\n",
    "                        sep=\";\")\n",
    "\n",
    "equipements_filename = os.path.join(\".\", 'EQUIPEMENTS.csv')\n",
    "equipements_df = pd.read_csv(equipements_filename,\n",
    "                             sep=\";\")"
   ]
  },
  {
   "cell_type": "markdown",
   "metadata": {
    "pycharm": {
     "name": "#%% md\n"
    }
   },
   "source": [
    "Analyse des modalités des variables de signalement :"
   ]
  },
  {
   "cell_type": "code",
   "execution_count": 3,
   "metadata": {
    "pycharm": {
     "name": "#%%\n"
    }
   },
   "outputs": [
    {
     "data": {
      "text/html": [
       "<div>\n",
       "<style scoped>\n",
       "    .dataframe tbody tr th:only-of-type {\n",
       "        vertical-align: middle;\n",
       "    }\n",
       "\n",
       "    .dataframe tbody tr th {\n",
       "        vertical-align: top;\n",
       "    }\n",
       "\n",
       "    .dataframe thead th {\n",
       "        text-align: right;\n",
       "    }\n",
       "</style>\n",
       "<table border=\"1\" class=\"dataframe\">\n",
       "  <thead>\n",
       "    <tr style=\"text-align: right;\">\n",
       "      <th></th>\n",
       "      <th>SIG_ORGANE</th>\n",
       "      <th>SIG_CONTEXTE</th>\n",
       "      <th>SIG_OBS</th>\n",
       "    </tr>\n",
       "  </thead>\n",
       "  <tbody>\n",
       "    <tr>\n",
       "      <th>count</th>\n",
       "      <td>506558</td>\n",
       "      <td>506558</td>\n",
       "      <td>506558</td>\n",
       "    </tr>\n",
       "    <tr>\n",
       "      <th>unique</th>\n",
       "      <td>116</td>\n",
       "      <td>5509</td>\n",
       "      <td>59</td>\n",
       "    </tr>\n",
       "    <tr>\n",
       "      <th>top</th>\n",
       "      <td>ECLAIRAGE FEUX EXTERIEURS</td>\n",
       "      <td>ARRIERE</td>\n",
       "      <td>NE FONCTIONNE PAS</td>\n",
       "    </tr>\n",
       "    <tr>\n",
       "      <th>freq</th>\n",
       "      <td>189559</td>\n",
       "      <td>32095</td>\n",
       "      <td>150740</td>\n",
       "    </tr>\n",
       "  </tbody>\n",
       "</table>\n",
       "</div>"
      ],
      "text/plain": [
       "                       SIG_ORGANE SIG_CONTEXTE            SIG_OBS\n",
       "count                      506558       506558             506558\n",
       "unique                        116         5509                 59\n",
       "top     ECLAIRAGE FEUX EXTERIEURS      ARRIERE  NE FONCTIONNE PAS\n",
       "freq                       189559        32095             150740"
      ]
     },
     "execution_count": 3,
     "metadata": {},
     "output_type": "execute_result"
    }
   ],
   "source": [
    "var_sig = [\"SIG_ORGANE\", \"SIG_CONTEXTE\", \"SIG_OBS\"]\n",
    "ot_odr_df[var_sig].describe()"
   ]
  },
  {
   "cell_type": "markdown",
   "metadata": {
    "pycharm": {
     "name": "#%% md\n"
    }
   },
   "source": [
    "Analyse des modalités des variables type travail et OdR :"
   ]
  },
  {
   "cell_type": "code",
   "execution_count": 4,
   "metadata": {
    "pycharm": {
     "name": "#%%\n"
    }
   },
   "outputs": [
    {
     "data": {
      "text/html": [
       "<div>\n",
       "<style scoped>\n",
       "    .dataframe tbody tr th:only-of-type {\n",
       "        vertical-align: middle;\n",
       "    }\n",
       "\n",
       "    .dataframe tbody tr th {\n",
       "        vertical-align: top;\n",
       "    }\n",
       "\n",
       "    .dataframe thead th {\n",
       "        text-align: right;\n",
       "    }\n",
       "</style>\n",
       "<table border=\"1\" class=\"dataframe\">\n",
       "  <thead>\n",
       "    <tr style=\"text-align: right;\">\n",
       "      <th></th>\n",
       "      <th>TYPE_TRAVAIL</th>\n",
       "      <th>ODR_LIBELLE</th>\n",
       "    </tr>\n",
       "  </thead>\n",
       "  <tbody>\n",
       "    <tr>\n",
       "      <th>count</th>\n",
       "      <td>506558</td>\n",
       "      <td>506558</td>\n",
       "    </tr>\n",
       "    <tr>\n",
       "      <th>unique</th>\n",
       "      <td>12</td>\n",
       "      <td>1410</td>\n",
       "    </tr>\n",
       "    <tr>\n",
       "      <th>top</th>\n",
       "      <td>ELECTRICITE</td>\n",
       "      <td>REMPLACEMENT D'UNE LAMPE DE CODE / PHARE</td>\n",
       "    </tr>\n",
       "    <tr>\n",
       "      <th>freq</th>\n",
       "      <td>258129</td>\n",
       "      <td>40302</td>\n",
       "    </tr>\n",
       "  </tbody>\n",
       "</table>\n",
       "</div>"
      ],
      "text/plain": [
       "       TYPE_TRAVAIL                               ODR_LIBELLE\n",
       "count        506558                                    506558\n",
       "unique           12                                      1410\n",
       "top     ELECTRICITE  REMPLACEMENT D'UNE LAMPE DE CODE / PHARE\n",
       "freq         258129                                     40302"
      ]
     },
     "execution_count": 4,
     "metadata": {},
     "output_type": "execute_result"
    }
   ],
   "source": [
    "var_odr = [\"TYPE_TRAVAIL\", \"ODR_LIBELLE\"]\n",
    "ot_odr_df[var_odr].describe()"
   ]
  },
  {
   "cell_type": "code",
   "execution_count": 5,
   "metadata": {},
   "outputs": [
    {
     "data": {
      "text/plain": [
       "array(['CARROSSERIE', 'ELECTRICITE', 'MECANIQUE', 'MISE AU POINT',\n",
       "       'EQUIPEMENT EMBARQUE', 'EXTINCTEUR', 'STATION SERVICE', 'ROUE',\n",
       "       'CLIMATISATION', 'BATTERIE', 'DIVERS', 'CONTROLE'], dtype=object)"
      ]
     },
     "execution_count": 5,
     "metadata": {},
     "output_type": "execute_result"
    }
   ],
   "source": [
    "ot_odr_df[\"TYPE_TRAVAIL\"].unique()"
   ]
  },
  {
   "cell_type": "markdown",
   "metadata": {
    "pycharm": {
     "name": "#%% md\n"
    }
   },
   "source": [
    "## Préparation des données"
   ]
  },
  {
   "cell_type": "markdown",
   "metadata": {
    "pycharm": {
     "name": "#%% md\n"
    }
   },
   "source": [
    "On change le type des variables catégorielles avec la méthode `.astype('category')` :"
   ]
  },
  {
   "cell_type": "code",
   "execution_count": 6,
   "metadata": {
    "pycharm": {
     "name": "#%%\n"
    }
   },
   "outputs": [
    {
     "name": "stdout",
     "output_type": "stream",
     "text": [
      "<class 'pandas.core.frame.DataFrame'>\n",
      "RangeIndex: 506558 entries, 0 to 506557\n",
      "Data columns (total 15 columns):\n",
      " #   Column         Non-Null Count   Dtype   \n",
      "---  ------         --------------   -----   \n",
      " 0   OT_ID          506558 non-null  object  \n",
      " 1   ODR_ID         506558 non-null  object  \n",
      " 2   ODR_LIBELLE    506558 non-null  category\n",
      " 3   TYPE_TRAVAIL   506558 non-null  category\n",
      " 4   DUREE_TRAVAIL  506558 non-null  float64 \n",
      " 5   SYSTEM_N1      506558 non-null  category\n",
      " 6   SYSTEM_N2      506558 non-null  category\n",
      " 7   SYSTEM_N3      506558 non-null  category\n",
      " 8   EQU_ID         506558 non-null  object  \n",
      " 9   DATE_OT        506558 non-null  object  \n",
      " 10  KILOMETRAGE    506557 non-null  float64 \n",
      " 11  SIG_ORGANE     506558 non-null  category\n",
      " 12  SIG_CONTEXTE   506558 non-null  category\n",
      " 13  SIG_OBS        506558 non-null  category\n",
      " 14  LIGNE          506558 non-null  category\n",
      "dtypes: category(9), float64(2), object(4)\n",
      "memory usage: 29.7+ MB\n"
     ]
    }
   ],
   "source": [
    "var_cat = ['ODR_LIBELLE', 'TYPE_TRAVAIL',\n",
    "           'SYSTEM_N1', 'SYSTEM_N2', 'SYSTEM_N3', \n",
    "           'SIG_ORGANE', 'SIG_CONTEXTE', 'SIG_OBS', 'LIGNE']\n",
    "for var in var_cat:\n",
    "    ot_odr_df[var] = ot_odr_df[var].astype('category')\n",
    "\n",
    "ot_odr_df.info()"
   ]
  },
  {
   "cell_type": "code",
   "execution_count": 7,
   "metadata": {},
   "outputs": [
    {
     "name": "stdout",
     "output_type": "stream",
     "text": [
      "<class 'pandas.core.frame.DataFrame'>\n",
      "RangeIndex: 4887 entries, 0 to 4886\n",
      "Data columns (total 4 columns):\n",
      " #   Column        Non-Null Count  Dtype   \n",
      "---  ------        --------------  -----   \n",
      " 0   EQU_ID        4887 non-null   object  \n",
      " 1   MODELE        4887 non-null   category\n",
      " 2   CONSTRUCTEUR  4887 non-null   category\n",
      " 3   MOTEUR        4887 non-null   category\n",
      "dtypes: category(3), object(1)\n",
      "memory usage: 58.4+ KB\n"
     ]
    }
   ],
   "source": [
    "var_cat = ['MODELE', 'CONSTRUCTEUR', 'MOTEUR']\n",
    "for var in var_cat:\n",
    "    equipements_df[var] = equipements_df[var].astype('category')\n",
    "\n",
    "equipements_df.info()"
   ]
  },
  {
   "cell_type": "code",
   "execution_count": 8,
   "metadata": {},
   "outputs": [],
   "source": [
    "joined_df = ot_odr_df.set_index('EQU_ID').join(equipements_df.set_index('EQU_ID'))"
   ]
  },
  {
   "cell_type": "code",
   "execution_count": 9,
   "metadata": {},
   "outputs": [
    {
     "data": {
      "text/html": [
       "<div>\n",
       "<style scoped>\n",
       "    .dataframe tbody tr th:only-of-type {\n",
       "        vertical-align: middle;\n",
       "    }\n",
       "\n",
       "    .dataframe tbody tr th {\n",
       "        vertical-align: top;\n",
       "    }\n",
       "\n",
       "    .dataframe thead th {\n",
       "        text-align: right;\n",
       "    }\n",
       "</style>\n",
       "<table border=\"1\" class=\"dataframe\">\n",
       "  <thead>\n",
       "    <tr style=\"text-align: right;\">\n",
       "      <th></th>\n",
       "      <th>OT_ID</th>\n",
       "      <th>ODR_ID</th>\n",
       "      <th>ODR_LIBELLE</th>\n",
       "      <th>TYPE_TRAVAIL</th>\n",
       "      <th>DUREE_TRAVAIL</th>\n",
       "      <th>SYSTEM_N1</th>\n",
       "      <th>SYSTEM_N2</th>\n",
       "      <th>SYSTEM_N3</th>\n",
       "      <th>DATE_OT</th>\n",
       "      <th>KILOMETRAGE</th>\n",
       "      <th>SIG_ORGANE</th>\n",
       "      <th>SIG_CONTEXTE</th>\n",
       "      <th>SIG_OBS</th>\n",
       "      <th>LIGNE</th>\n",
       "      <th>MODELE</th>\n",
       "      <th>CONSTRUCTEUR</th>\n",
       "      <th>MOTEUR</th>\n",
       "    </tr>\n",
       "  </thead>\n",
       "  <tbody>\n",
       "    <tr>\n",
       "      <th>0</th>\n",
       "      <td>OT000002306</td>\n",
       "      <td>OM000002463</td>\n",
       "      <td>REMPLACEMENT D'UN REGLEUR DE DEBIT DE PORTE</td>\n",
       "      <td>ELECTRICITE</td>\n",
       "      <td>0.50</td>\n",
       "      <td>EQUIPEMENT DE CARROSSERIE</td>\n",
       "      <td>PORTE</td>\n",
       "      <td>COMMANDE PORTE</td>\n",
       "      <td>2012-06-29 22:41:19</td>\n",
       "      <td>324206.608000</td>\n",
       "      <td>PORTE</td>\n",
       "      <td>PLATE FORME</td>\n",
       "      <td>FONCTIONNE MAL</td>\n",
       "      <td>L0385</td>\n",
       "      <td>MD037</td>\n",
       "      <td>C007</td>\n",
       "      <td>MT010</td>\n",
       "    </tr>\n",
       "    <tr>\n",
       "      <th>1</th>\n",
       "      <td>OT000005633</td>\n",
       "      <td>OM000006163</td>\n",
       "      <td>REMPLACEMENT DE L'ELECTROVANNE DE DEGIVRAGE</td>\n",
       "      <td>MECANIQUE</td>\n",
       "      <td>1.00</td>\n",
       "      <td>EQUIPEMENT CLIMATIQUE</td>\n",
       "      <td>CHAUFFAGE/DEGIVRAGE</td>\n",
       "      <td>ORGANE DE CHAUFFAGE/DEGIVRAGE</td>\n",
       "      <td>2013-03-05 18:22:19</td>\n",
       "      <td>349306.448000</td>\n",
       "      <td>DIRECTION</td>\n",
       "      <td>EN VIRAGE/A L'ARRET</td>\n",
       "      <td>A-COUPS</td>\n",
       "      <td>L0385</td>\n",
       "      <td>MD037</td>\n",
       "      <td>C007</td>\n",
       "      <td>MT010</td>\n",
       "    </tr>\n",
       "    <tr>\n",
       "      <th>2</th>\n",
       "      <td>OT000006231</td>\n",
       "      <td>OM000006857</td>\n",
       "      <td>REMPLACEMENT D'UN HABILLAGE INT DE BAIE</td>\n",
       "      <td>CARROSSERIE</td>\n",
       "      <td>0.25</td>\n",
       "      <td>EQUIPEMENT DE CARROSSERIE</td>\n",
       "      <td>AMENAGEMENT INT</td>\n",
       "      <td>HABILLAGE INT</td>\n",
       "      <td>2013-04-05 20:17:29</td>\n",
       "      <td>352589.208000</td>\n",
       "      <td>GLACE/BAIE</td>\n",
       "      <td>DROIT/ARRIERE</td>\n",
       "      <td>TAGUE</td>\n",
       "      <td>L0385</td>\n",
       "      <td>MD037</td>\n",
       "      <td>C007</td>\n",
       "      <td>MT010</td>\n",
       "    </tr>\n",
       "    <tr>\n",
       "      <th>3</th>\n",
       "      <td>OT000012829</td>\n",
       "      <td>OM000014475</td>\n",
       "      <td>REMPLACEMENT D'UN PORTILLON LAT</td>\n",
       "      <td>CARROSSERIE</td>\n",
       "      <td>0.41</td>\n",
       "      <td>EQUIPEMENT DE CARROSSERIE</td>\n",
       "      <td>ELEMENT CARROSSERIE EXT</td>\n",
       "      <td>CARROSSERIE LAT</td>\n",
       "      <td>2013-11-07 19:10:57</td>\n",
       "      <td>372248.368000</td>\n",
       "      <td>PANNEAU</td>\n",
       "      <td>GAUCHE/LATERAL/BAS</td>\n",
       "      <td>CASSE</td>\n",
       "      <td>L0385</td>\n",
       "      <td>MD037</td>\n",
       "      <td>C007</td>\n",
       "      <td>MT010</td>\n",
       "    </tr>\n",
       "    <tr>\n",
       "      <th>4</th>\n",
       "      <td>OT000013786</td>\n",
       "      <td>OM000015291</td>\n",
       "      <td>REMPLACEMENT D'UN ECLAIRAGE INT</td>\n",
       "      <td>ELECTRICITE</td>\n",
       "      <td>0.06</td>\n",
       "      <td>EQUIPEMENT ELECTRIQUE</td>\n",
       "      <td>ECLAIRAGE-SIGNALISATION</td>\n",
       "      <td>ECLAIRAGE-SIGNALISATION INT</td>\n",
       "      <td>2013-11-21 19:15:46</td>\n",
       "      <td>374007.544000</td>\n",
       "      <td>DEMANDE ARRET</td>\n",
       "      <td>BAS/TABLEAU DE BORD/DROIT</td>\n",
       "      <td>VOYANT HS</td>\n",
       "      <td>L0385</td>\n",
       "      <td>MD037</td>\n",
       "      <td>C007</td>\n",
       "      <td>MT010</td>\n",
       "    </tr>\n",
       "    <tr>\n",
       "      <th>...</th>\n",
       "      <td>...</td>\n",
       "      <td>...</td>\n",
       "      <td>...</td>\n",
       "      <td>...</td>\n",
       "      <td>...</td>\n",
       "      <td>...</td>\n",
       "      <td>...</td>\n",
       "      <td>...</td>\n",
       "      <td>...</td>\n",
       "      <td>...</td>\n",
       "      <td>...</td>\n",
       "      <td>...</td>\n",
       "      <td>...</td>\n",
       "      <td>...</td>\n",
       "      <td>...</td>\n",
       "      <td>...</td>\n",
       "      <td>...</td>\n",
       "    </tr>\n",
       "    <tr>\n",
       "      <th>506553</th>\n",
       "      <td>OT000390943</td>\n",
       "      <td>OM000486456</td>\n",
       "      <td>REMPLACEMENT DU CONCENTRATEUR PEAGE</td>\n",
       "      <td>EQUIPEMENT EMBARQUE</td>\n",
       "      <td>0.08</td>\n",
       "      <td>EQUIPEMENT EMBARQUE</td>\n",
       "      <td>TELEBILLETIQUE</td>\n",
       "      <td>CONCENTRATEUR DE PEAGE</td>\n",
       "      <td>2019-07-02 21:15:31</td>\n",
       "      <td>923.702323</td>\n",
       "      <td>AVTT</td>\n",
       "      <td>AVANT/DROIT</td>\n",
       "      <td>FONCTIONNE MAL</td>\n",
       "      <td>L0077</td>\n",
       "      <td>MD032</td>\n",
       "      <td>C006</td>\n",
       "      <td>MT016</td>\n",
       "    </tr>\n",
       "    <tr>\n",
       "      <th>506554</th>\n",
       "      <td>OT000400206</td>\n",
       "      <td>OM000498614</td>\n",
       "      <td>REMPLACEMENT DE LA RADIO</td>\n",
       "      <td>EQUIPEMENT EMBARQUE</td>\n",
       "      <td>0.05</td>\n",
       "      <td>EQUIPEMENT EMBARQUE</td>\n",
       "      <td>AIDE A L'EXPLOITATION-MAINTENANCE</td>\n",
       "      <td>RADIO</td>\n",
       "      <td>2019-08-29 20:53:23</td>\n",
       "      <td>5418.005056</td>\n",
       "      <td>RADIO</td>\n",
       "      <td>POSTE CONDUITE</td>\n",
       "      <td>NE FONCTIONNE PAS</td>\n",
       "      <td>L0077</td>\n",
       "      <td>MD032</td>\n",
       "      <td>C006</td>\n",
       "      <td>MT016</td>\n",
       "    </tr>\n",
       "    <tr>\n",
       "      <th>506555</th>\n",
       "      <td>OT000400557</td>\n",
       "      <td>OM000499548</td>\n",
       "      <td>REMPLACEMENT D'UN FEU DE GABARIT</td>\n",
       "      <td>ELECTRICITE</td>\n",
       "      <td>0.04</td>\n",
       "      <td>EQUIPEMENT ELECTRIQUE</td>\n",
       "      <td>ECLAIRAGE-SIGNALISATION</td>\n",
       "      <td>ECLAIRAGE-SIGNALISATION EXT</td>\n",
       "      <td>2019-09-01 06:07:41</td>\n",
       "      <td>4337.170024</td>\n",
       "      <td>ECLAIRAGE FEUX EXTERIEURS</td>\n",
       "      <td>BAS/GAUCHE/LATERAL</td>\n",
       "      <td>CASSE</td>\n",
       "      <td>L0509</td>\n",
       "      <td>MD064</td>\n",
       "      <td>C007</td>\n",
       "      <td>MT024</td>\n",
       "    </tr>\n",
       "    <tr>\n",
       "      <th>506556</th>\n",
       "      <td>OT000405447</td>\n",
       "      <td>OM000505789</td>\n",
       "      <td>REMPLACEMENT D'UN PASSE SANS CONTACT</td>\n",
       "      <td>EQUIPEMENT EMBARQUE</td>\n",
       "      <td>0.06</td>\n",
       "      <td>EQUIPEMENT EMBARQUE</td>\n",
       "      <td>TELEBILLETIQUE</td>\n",
       "      <td>PASSE SANS CONTACT</td>\n",
       "      <td>2019-09-26 19:52:05</td>\n",
       "      <td>2599.051019</td>\n",
       "      <td>AVTT</td>\n",
       "      <td>EN MONTEE</td>\n",
       "      <td>VOYANT HS</td>\n",
       "      <td>L0178</td>\n",
       "      <td>MD021</td>\n",
       "      <td>C011</td>\n",
       "      <td>MT051</td>\n",
       "    </tr>\n",
       "    <tr>\n",
       "      <th>506557</th>\n",
       "      <td>OT000405447</td>\n",
       "      <td>OM000505790</td>\n",
       "      <td>REMPLACEMENT DU CONCENTRATEUR PEAGE</td>\n",
       "      <td>EQUIPEMENT EMBARQUE</td>\n",
       "      <td>0.08</td>\n",
       "      <td>EQUIPEMENT EMBARQUE</td>\n",
       "      <td>TELEBILLETIQUE</td>\n",
       "      <td>CONCENTRATEUR DE PEAGE</td>\n",
       "      <td>2019-09-26 19:52:05</td>\n",
       "      <td>2599.051019</td>\n",
       "      <td>AVTT</td>\n",
       "      <td>EN MONTEE</td>\n",
       "      <td>VOYANT HS</td>\n",
       "      <td>L0178</td>\n",
       "      <td>MD021</td>\n",
       "      <td>C011</td>\n",
       "      <td>MT051</td>\n",
       "    </tr>\n",
       "  </tbody>\n",
       "</table>\n",
       "<p>506558 rows × 17 columns</p>\n",
       "</div>"
      ],
      "text/plain": [
       "              OT_ID       ODR_ID                                  ODR_LIBELLE  \\\n",
       "0       OT000002306  OM000002463  REMPLACEMENT D'UN REGLEUR DE DEBIT DE PORTE   \n",
       "1       OT000005633  OM000006163  REMPLACEMENT DE L'ELECTROVANNE DE DEGIVRAGE   \n",
       "2       OT000006231  OM000006857      REMPLACEMENT D'UN HABILLAGE INT DE BAIE   \n",
       "3       OT000012829  OM000014475              REMPLACEMENT D'UN PORTILLON LAT   \n",
       "4       OT000013786  OM000015291              REMPLACEMENT D'UN ECLAIRAGE INT   \n",
       "...             ...          ...                                          ...   \n",
       "506553  OT000390943  OM000486456          REMPLACEMENT DU CONCENTRATEUR PEAGE   \n",
       "506554  OT000400206  OM000498614                     REMPLACEMENT DE LA RADIO   \n",
       "506555  OT000400557  OM000499548             REMPLACEMENT D'UN FEU DE GABARIT   \n",
       "506556  OT000405447  OM000505789         REMPLACEMENT D'UN PASSE SANS CONTACT   \n",
       "506557  OT000405447  OM000505790          REMPLACEMENT DU CONCENTRATEUR PEAGE   \n",
       "\n",
       "               TYPE_TRAVAIL  DUREE_TRAVAIL                  SYSTEM_N1  \\\n",
       "0               ELECTRICITE           0.50  EQUIPEMENT DE CARROSSERIE   \n",
       "1                 MECANIQUE           1.00      EQUIPEMENT CLIMATIQUE   \n",
       "2               CARROSSERIE           0.25  EQUIPEMENT DE CARROSSERIE   \n",
       "3               CARROSSERIE           0.41  EQUIPEMENT DE CARROSSERIE   \n",
       "4               ELECTRICITE           0.06      EQUIPEMENT ELECTRIQUE   \n",
       "...                     ...            ...                        ...   \n",
       "506553  EQUIPEMENT EMBARQUE           0.08        EQUIPEMENT EMBARQUE   \n",
       "506554  EQUIPEMENT EMBARQUE           0.05        EQUIPEMENT EMBARQUE   \n",
       "506555          ELECTRICITE           0.04      EQUIPEMENT ELECTRIQUE   \n",
       "506556  EQUIPEMENT EMBARQUE           0.06        EQUIPEMENT EMBARQUE   \n",
       "506557  EQUIPEMENT EMBARQUE           0.08        EQUIPEMENT EMBARQUE   \n",
       "\n",
       "                                SYSTEM_N2                      SYSTEM_N3  \\\n",
       "0                                   PORTE                 COMMANDE PORTE   \n",
       "1                     CHAUFFAGE/DEGIVRAGE  ORGANE DE CHAUFFAGE/DEGIVRAGE   \n",
       "2                         AMENAGEMENT INT                  HABILLAGE INT   \n",
       "3                 ELEMENT CARROSSERIE EXT                CARROSSERIE LAT   \n",
       "4                 ECLAIRAGE-SIGNALISATION    ECLAIRAGE-SIGNALISATION INT   \n",
       "...                                   ...                            ...   \n",
       "506553                     TELEBILLETIQUE         CONCENTRATEUR DE PEAGE   \n",
       "506554  AIDE A L'EXPLOITATION-MAINTENANCE                          RADIO   \n",
       "506555            ECLAIRAGE-SIGNALISATION    ECLAIRAGE-SIGNALISATION EXT   \n",
       "506556                     TELEBILLETIQUE             PASSE SANS CONTACT   \n",
       "506557                     TELEBILLETIQUE         CONCENTRATEUR DE PEAGE   \n",
       "\n",
       "                    DATE_OT    KILOMETRAGE                 SIG_ORGANE  \\\n",
       "0       2012-06-29 22:41:19  324206.608000                      PORTE   \n",
       "1       2013-03-05 18:22:19  349306.448000                  DIRECTION   \n",
       "2       2013-04-05 20:17:29  352589.208000                 GLACE/BAIE   \n",
       "3       2013-11-07 19:10:57  372248.368000                    PANNEAU   \n",
       "4       2013-11-21 19:15:46  374007.544000              DEMANDE ARRET   \n",
       "...                     ...            ...                        ...   \n",
       "506553  2019-07-02 21:15:31     923.702323                       AVTT   \n",
       "506554  2019-08-29 20:53:23    5418.005056                      RADIO   \n",
       "506555  2019-09-01 06:07:41    4337.170024  ECLAIRAGE FEUX EXTERIEURS   \n",
       "506556  2019-09-26 19:52:05    2599.051019                       AVTT   \n",
       "506557  2019-09-26 19:52:05    2599.051019                       AVTT   \n",
       "\n",
       "                     SIG_CONTEXTE            SIG_OBS  LIGNE MODELE  \\\n",
       "0                     PLATE FORME     FONCTIONNE MAL  L0385  MD037   \n",
       "1             EN VIRAGE/A L'ARRET            A-COUPS  L0385  MD037   \n",
       "2                   DROIT/ARRIERE              TAGUE  L0385  MD037   \n",
       "3              GAUCHE/LATERAL/BAS              CASSE  L0385  MD037   \n",
       "4       BAS/TABLEAU DE BORD/DROIT          VOYANT HS  L0385  MD037   \n",
       "...                           ...                ...    ...    ...   \n",
       "506553                AVANT/DROIT     FONCTIONNE MAL  L0077  MD032   \n",
       "506554             POSTE CONDUITE  NE FONCTIONNE PAS  L0077  MD032   \n",
       "506555         BAS/GAUCHE/LATERAL              CASSE  L0509  MD064   \n",
       "506556                  EN MONTEE          VOYANT HS  L0178  MD021   \n",
       "506557                  EN MONTEE          VOYANT HS  L0178  MD021   \n",
       "\n",
       "       CONSTRUCTEUR MOTEUR  \n",
       "0              C007  MT010  \n",
       "1              C007  MT010  \n",
       "2              C007  MT010  \n",
       "3              C007  MT010  \n",
       "4              C007  MT010  \n",
       "...             ...    ...  \n",
       "506553         C006  MT016  \n",
       "506554         C006  MT016  \n",
       "506555         C007  MT024  \n",
       "506556         C011  MT051  \n",
       "506557         C011  MT051  \n",
       "\n",
       "[506558 rows x 17 columns]"
      ]
     },
     "execution_count": 9,
     "metadata": {},
     "output_type": "execute_result"
    }
   ],
   "source": [
    "joined_df = joined_df.reset_index(drop=\"True\")\n",
    "joined_df"
   ]
  },
  {
   "cell_type": "code",
   "execution_count": 10,
   "metadata": {},
   "outputs": [
    {
     "data": {
      "text/html": [
       "<div>\n",
       "<style scoped>\n",
       "    .dataframe tbody tr th:only-of-type {\n",
       "        vertical-align: middle;\n",
       "    }\n",
       "\n",
       "    .dataframe tbody tr th {\n",
       "        vertical-align: top;\n",
       "    }\n",
       "\n",
       "    .dataframe thead th {\n",
       "        text-align: right;\n",
       "    }\n",
       "</style>\n",
       "<table border=\"1\" class=\"dataframe\">\n",
       "  <thead>\n",
       "    <tr style=\"text-align: right;\">\n",
       "      <th></th>\n",
       "      <th>ODR_LIBELLE</th>\n",
       "      <th>TYPE_TRAVAIL</th>\n",
       "      <th>DUREE_TRAVAIL</th>\n",
       "      <th>SYSTEM_N1</th>\n",
       "      <th>SYSTEM_N2</th>\n",
       "      <th>SYSTEM_N3</th>\n",
       "      <th>KILOMETRAGE</th>\n",
       "      <th>SIG_ORGANE</th>\n",
       "      <th>SIG_CONTEXTE</th>\n",
       "      <th>SIG_OBS</th>\n",
       "      <th>LIGNE</th>\n",
       "      <th>MODELE</th>\n",
       "      <th>CONSTRUCTEUR</th>\n",
       "      <th>MOTEUR</th>\n",
       "    </tr>\n",
       "  </thead>\n",
       "  <tbody>\n",
       "    <tr>\n",
       "      <th>0</th>\n",
       "      <td>REMPLACEMENT D'UN REGLEUR DE DEBIT DE PORTE</td>\n",
       "      <td>ELECTRICITE</td>\n",
       "      <td>0.50</td>\n",
       "      <td>EQUIPEMENT DE CARROSSERIE</td>\n",
       "      <td>PORTE</td>\n",
       "      <td>COMMANDE PORTE</td>\n",
       "      <td>324206.608000</td>\n",
       "      <td>PORTE</td>\n",
       "      <td>PLATE FORME</td>\n",
       "      <td>FONCTIONNE MAL</td>\n",
       "      <td>L0385</td>\n",
       "      <td>MD037</td>\n",
       "      <td>C007</td>\n",
       "      <td>MT010</td>\n",
       "    </tr>\n",
       "    <tr>\n",
       "      <th>1</th>\n",
       "      <td>REMPLACEMENT DE L'ELECTROVANNE DE DEGIVRAGE</td>\n",
       "      <td>MECANIQUE</td>\n",
       "      <td>1.00</td>\n",
       "      <td>EQUIPEMENT CLIMATIQUE</td>\n",
       "      <td>CHAUFFAGE/DEGIVRAGE</td>\n",
       "      <td>ORGANE DE CHAUFFAGE/DEGIVRAGE</td>\n",
       "      <td>349306.448000</td>\n",
       "      <td>DIRECTION</td>\n",
       "      <td>EN VIRAGE/A L'ARRET</td>\n",
       "      <td>A-COUPS</td>\n",
       "      <td>L0385</td>\n",
       "      <td>MD037</td>\n",
       "      <td>C007</td>\n",
       "      <td>MT010</td>\n",
       "    </tr>\n",
       "    <tr>\n",
       "      <th>2</th>\n",
       "      <td>REMPLACEMENT D'UN HABILLAGE INT DE BAIE</td>\n",
       "      <td>CARROSSERIE</td>\n",
       "      <td>0.25</td>\n",
       "      <td>EQUIPEMENT DE CARROSSERIE</td>\n",
       "      <td>AMENAGEMENT INT</td>\n",
       "      <td>HABILLAGE INT</td>\n",
       "      <td>352589.208000</td>\n",
       "      <td>GLACE/BAIE</td>\n",
       "      <td>DROIT/ARRIERE</td>\n",
       "      <td>TAGUE</td>\n",
       "      <td>L0385</td>\n",
       "      <td>MD037</td>\n",
       "      <td>C007</td>\n",
       "      <td>MT010</td>\n",
       "    </tr>\n",
       "    <tr>\n",
       "      <th>3</th>\n",
       "      <td>REMPLACEMENT D'UN PORTILLON LAT</td>\n",
       "      <td>CARROSSERIE</td>\n",
       "      <td>0.41</td>\n",
       "      <td>EQUIPEMENT DE CARROSSERIE</td>\n",
       "      <td>ELEMENT CARROSSERIE EXT</td>\n",
       "      <td>CARROSSERIE LAT</td>\n",
       "      <td>372248.368000</td>\n",
       "      <td>PANNEAU</td>\n",
       "      <td>GAUCHE/LATERAL/BAS</td>\n",
       "      <td>CASSE</td>\n",
       "      <td>L0385</td>\n",
       "      <td>MD037</td>\n",
       "      <td>C007</td>\n",
       "      <td>MT010</td>\n",
       "    </tr>\n",
       "    <tr>\n",
       "      <th>4</th>\n",
       "      <td>REMPLACEMENT D'UN ECLAIRAGE INT</td>\n",
       "      <td>ELECTRICITE</td>\n",
       "      <td>0.06</td>\n",
       "      <td>EQUIPEMENT ELECTRIQUE</td>\n",
       "      <td>ECLAIRAGE-SIGNALISATION</td>\n",
       "      <td>ECLAIRAGE-SIGNALISATION INT</td>\n",
       "      <td>374007.544000</td>\n",
       "      <td>DEMANDE ARRET</td>\n",
       "      <td>BAS/TABLEAU DE BORD/DROIT</td>\n",
       "      <td>VOYANT HS</td>\n",
       "      <td>L0385</td>\n",
       "      <td>MD037</td>\n",
       "      <td>C007</td>\n",
       "      <td>MT010</td>\n",
       "    </tr>\n",
       "    <tr>\n",
       "      <th>...</th>\n",
       "      <td>...</td>\n",
       "      <td>...</td>\n",
       "      <td>...</td>\n",
       "      <td>...</td>\n",
       "      <td>...</td>\n",
       "      <td>...</td>\n",
       "      <td>...</td>\n",
       "      <td>...</td>\n",
       "      <td>...</td>\n",
       "      <td>...</td>\n",
       "      <td>...</td>\n",
       "      <td>...</td>\n",
       "      <td>...</td>\n",
       "      <td>...</td>\n",
       "    </tr>\n",
       "    <tr>\n",
       "      <th>506553</th>\n",
       "      <td>REMPLACEMENT DU CONCENTRATEUR PEAGE</td>\n",
       "      <td>EQUIPEMENT EMBARQUE</td>\n",
       "      <td>0.08</td>\n",
       "      <td>EQUIPEMENT EMBARQUE</td>\n",
       "      <td>TELEBILLETIQUE</td>\n",
       "      <td>CONCENTRATEUR DE PEAGE</td>\n",
       "      <td>923.702323</td>\n",
       "      <td>AVTT</td>\n",
       "      <td>AVANT/DROIT</td>\n",
       "      <td>FONCTIONNE MAL</td>\n",
       "      <td>L0077</td>\n",
       "      <td>MD032</td>\n",
       "      <td>C006</td>\n",
       "      <td>MT016</td>\n",
       "    </tr>\n",
       "    <tr>\n",
       "      <th>506554</th>\n",
       "      <td>REMPLACEMENT DE LA RADIO</td>\n",
       "      <td>EQUIPEMENT EMBARQUE</td>\n",
       "      <td>0.05</td>\n",
       "      <td>EQUIPEMENT EMBARQUE</td>\n",
       "      <td>AIDE A L'EXPLOITATION-MAINTENANCE</td>\n",
       "      <td>RADIO</td>\n",
       "      <td>5418.005056</td>\n",
       "      <td>RADIO</td>\n",
       "      <td>POSTE CONDUITE</td>\n",
       "      <td>NE FONCTIONNE PAS</td>\n",
       "      <td>L0077</td>\n",
       "      <td>MD032</td>\n",
       "      <td>C006</td>\n",
       "      <td>MT016</td>\n",
       "    </tr>\n",
       "    <tr>\n",
       "      <th>506555</th>\n",
       "      <td>REMPLACEMENT D'UN FEU DE GABARIT</td>\n",
       "      <td>ELECTRICITE</td>\n",
       "      <td>0.04</td>\n",
       "      <td>EQUIPEMENT ELECTRIQUE</td>\n",
       "      <td>ECLAIRAGE-SIGNALISATION</td>\n",
       "      <td>ECLAIRAGE-SIGNALISATION EXT</td>\n",
       "      <td>4337.170024</td>\n",
       "      <td>ECLAIRAGE FEUX EXTERIEURS</td>\n",
       "      <td>BAS/GAUCHE/LATERAL</td>\n",
       "      <td>CASSE</td>\n",
       "      <td>L0509</td>\n",
       "      <td>MD064</td>\n",
       "      <td>C007</td>\n",
       "      <td>MT024</td>\n",
       "    </tr>\n",
       "    <tr>\n",
       "      <th>506556</th>\n",
       "      <td>REMPLACEMENT D'UN PASSE SANS CONTACT</td>\n",
       "      <td>EQUIPEMENT EMBARQUE</td>\n",
       "      <td>0.06</td>\n",
       "      <td>EQUIPEMENT EMBARQUE</td>\n",
       "      <td>TELEBILLETIQUE</td>\n",
       "      <td>PASSE SANS CONTACT</td>\n",
       "      <td>2599.051019</td>\n",
       "      <td>AVTT</td>\n",
       "      <td>EN MONTEE</td>\n",
       "      <td>VOYANT HS</td>\n",
       "      <td>L0178</td>\n",
       "      <td>MD021</td>\n",
       "      <td>C011</td>\n",
       "      <td>MT051</td>\n",
       "    </tr>\n",
       "    <tr>\n",
       "      <th>506557</th>\n",
       "      <td>REMPLACEMENT DU CONCENTRATEUR PEAGE</td>\n",
       "      <td>EQUIPEMENT EMBARQUE</td>\n",
       "      <td>0.08</td>\n",
       "      <td>EQUIPEMENT EMBARQUE</td>\n",
       "      <td>TELEBILLETIQUE</td>\n",
       "      <td>CONCENTRATEUR DE PEAGE</td>\n",
       "      <td>2599.051019</td>\n",
       "      <td>AVTT</td>\n",
       "      <td>EN MONTEE</td>\n",
       "      <td>VOYANT HS</td>\n",
       "      <td>L0178</td>\n",
       "      <td>MD021</td>\n",
       "      <td>C011</td>\n",
       "      <td>MT051</td>\n",
       "    </tr>\n",
       "  </tbody>\n",
       "</table>\n",
       "<p>506558 rows × 14 columns</p>\n",
       "</div>"
      ],
      "text/plain": [
       "                                        ODR_LIBELLE         TYPE_TRAVAIL  \\\n",
       "0       REMPLACEMENT D'UN REGLEUR DE DEBIT DE PORTE          ELECTRICITE   \n",
       "1       REMPLACEMENT DE L'ELECTROVANNE DE DEGIVRAGE            MECANIQUE   \n",
       "2           REMPLACEMENT D'UN HABILLAGE INT DE BAIE          CARROSSERIE   \n",
       "3                   REMPLACEMENT D'UN PORTILLON LAT          CARROSSERIE   \n",
       "4                   REMPLACEMENT D'UN ECLAIRAGE INT          ELECTRICITE   \n",
       "...                                             ...                  ...   \n",
       "506553          REMPLACEMENT DU CONCENTRATEUR PEAGE  EQUIPEMENT EMBARQUE   \n",
       "506554                     REMPLACEMENT DE LA RADIO  EQUIPEMENT EMBARQUE   \n",
       "506555             REMPLACEMENT D'UN FEU DE GABARIT          ELECTRICITE   \n",
       "506556         REMPLACEMENT D'UN PASSE SANS CONTACT  EQUIPEMENT EMBARQUE   \n",
       "506557          REMPLACEMENT DU CONCENTRATEUR PEAGE  EQUIPEMENT EMBARQUE   \n",
       "\n",
       "        DUREE_TRAVAIL                  SYSTEM_N1  \\\n",
       "0                0.50  EQUIPEMENT DE CARROSSERIE   \n",
       "1                1.00      EQUIPEMENT CLIMATIQUE   \n",
       "2                0.25  EQUIPEMENT DE CARROSSERIE   \n",
       "3                0.41  EQUIPEMENT DE CARROSSERIE   \n",
       "4                0.06      EQUIPEMENT ELECTRIQUE   \n",
       "...               ...                        ...   \n",
       "506553           0.08        EQUIPEMENT EMBARQUE   \n",
       "506554           0.05        EQUIPEMENT EMBARQUE   \n",
       "506555           0.04      EQUIPEMENT ELECTRIQUE   \n",
       "506556           0.06        EQUIPEMENT EMBARQUE   \n",
       "506557           0.08        EQUIPEMENT EMBARQUE   \n",
       "\n",
       "                                SYSTEM_N2                      SYSTEM_N3  \\\n",
       "0                                   PORTE                 COMMANDE PORTE   \n",
       "1                     CHAUFFAGE/DEGIVRAGE  ORGANE DE CHAUFFAGE/DEGIVRAGE   \n",
       "2                         AMENAGEMENT INT                  HABILLAGE INT   \n",
       "3                 ELEMENT CARROSSERIE EXT                CARROSSERIE LAT   \n",
       "4                 ECLAIRAGE-SIGNALISATION    ECLAIRAGE-SIGNALISATION INT   \n",
       "...                                   ...                            ...   \n",
       "506553                     TELEBILLETIQUE         CONCENTRATEUR DE PEAGE   \n",
       "506554  AIDE A L'EXPLOITATION-MAINTENANCE                          RADIO   \n",
       "506555            ECLAIRAGE-SIGNALISATION    ECLAIRAGE-SIGNALISATION EXT   \n",
       "506556                     TELEBILLETIQUE             PASSE SANS CONTACT   \n",
       "506557                     TELEBILLETIQUE         CONCENTRATEUR DE PEAGE   \n",
       "\n",
       "          KILOMETRAGE                 SIG_ORGANE               SIG_CONTEXTE  \\\n",
       "0       324206.608000                      PORTE                PLATE FORME   \n",
       "1       349306.448000                  DIRECTION        EN VIRAGE/A L'ARRET   \n",
       "2       352589.208000                 GLACE/BAIE              DROIT/ARRIERE   \n",
       "3       372248.368000                    PANNEAU         GAUCHE/LATERAL/BAS   \n",
       "4       374007.544000              DEMANDE ARRET  BAS/TABLEAU DE BORD/DROIT   \n",
       "...               ...                        ...                        ...   \n",
       "506553     923.702323                       AVTT                AVANT/DROIT   \n",
       "506554    5418.005056                      RADIO             POSTE CONDUITE   \n",
       "506555    4337.170024  ECLAIRAGE FEUX EXTERIEURS         BAS/GAUCHE/LATERAL   \n",
       "506556    2599.051019                       AVTT                  EN MONTEE   \n",
       "506557    2599.051019                       AVTT                  EN MONTEE   \n",
       "\n",
       "                  SIG_OBS  LIGNE MODELE CONSTRUCTEUR MOTEUR  \n",
       "0          FONCTIONNE MAL  L0385  MD037         C007  MT010  \n",
       "1                 A-COUPS  L0385  MD037         C007  MT010  \n",
       "2                   TAGUE  L0385  MD037         C007  MT010  \n",
       "3                   CASSE  L0385  MD037         C007  MT010  \n",
       "4               VOYANT HS  L0385  MD037         C007  MT010  \n",
       "...                   ...    ...    ...          ...    ...  \n",
       "506553     FONCTIONNE MAL  L0077  MD032         C006  MT016  \n",
       "506554  NE FONCTIONNE PAS  L0077  MD032         C006  MT016  \n",
       "506555              CASSE  L0509  MD064         C007  MT024  \n",
       "506556          VOYANT HS  L0178  MD021         C011  MT051  \n",
       "506557          VOYANT HS  L0178  MD021         C011  MT051  \n",
       "\n",
       "[506558 rows x 14 columns]"
      ]
     },
     "execution_count": 10,
     "metadata": {},
     "output_type": "execute_result"
    }
   ],
   "source": [
    "joined_df_filtered = joined_df.select_dtypes(exclude=['object'])\n",
    "joined_df_filtered"
   ]
  },
  {
   "cell_type": "code",
   "execution_count": 18,
   "metadata": {},
   "outputs": [],
   "source": [
    "joined_df_filtered = joined_df_filtered[joined_df_filtered['KILOMETRAGE'].notna()]\n",
    "# Définir des intervalles personnalisés\n",
    "bins = [0, 50000, 100000, 150000, 200000, 250000, 300000, float(\"inf\")]\n",
    "labels = ['C:0-50k', 'C:50k-100k', 'C:100k-150k', 'C:150k-200k', 'C:200k-250k', 'C:250k-300k', 'C:300k+']\n",
    "#Genie n'aime pas quand une catégorie commence par un chiffre\n",
    "\n",
    "\n",
    "# Définir une fonction pour attribuer des catégories\n",
    "def categorize_kilometrage(km):\n",
    "    if km < 50000:\n",
    "        return 'C:0-50k'\n",
    "    elif km < 100000:\n",
    "        return 'C:50k-100k'\n",
    "    elif km < 150000:\n",
    "        return 'C:100k-150k'\n",
    "    elif km < 200000:\n",
    "        return 'C:150k-200k'\n",
    "    elif km < 250000:\n",
    "        return 'C:200k-250k'\n",
    "    elif km < 300000:\n",
    "        return 'C:250k-300k'\n",
    "    else:\n",
    "        return 'C:300k+'\n",
    "\n",
    "# Appliquer la fonction pour créer la nouvelle colonne\n",
    "joined_df_filtered['KM_GROUP'] = joined_df_filtered['KILOMETRAGE'].apply(categorize_kilometrage).astype('category')"
   ]
  },
  {
   "cell_type": "code",
   "execution_count": 19,
   "metadata": {},
   "outputs": [
    {
     "data": {
      "text/plain": [
       "0         C:300k+\n",
       "1         C:300k+\n",
       "2         C:300k+\n",
       "3         C:300k+\n",
       "4         C:300k+\n",
       "           ...   \n",
       "506553    C:0-50k\n",
       "506554    C:0-50k\n",
       "506555    C:0-50k\n",
       "506556    C:0-50k\n",
       "506557    C:0-50k\n",
       "Name: KM_GROUP, Length: 506557, dtype: category\n",
       "Categories (7, object): ['C:0-50k', 'C:100k-150k', 'C:150k-200k', 'C:200k-250k', 'C:250k-300k', 'C:300k+', 'C:50k-100k']"
      ]
     },
     "execution_count": 19,
     "metadata": {},
     "output_type": "execute_result"
    }
   ],
   "source": [
    "joined_df_filtered['KM_GROUP']"
   ]
  },
  {
   "cell_type": "markdown",
   "metadata": {
    "pycharm": {
     "name": "#%% md\n"
    }
   },
   "source": [
    "## Création d'un premier modèle"
   ]
  },
  {
   "cell_type": "markdown",
   "metadata": {
    "pycharm": {
     "name": "#%% md\n"
    }
   },
   "source": [
    "Nous proposons de créer un modèle permettant d'expliquer la variable SYSTEM_N1 à partir de SIG_OBS.\n",
    "\n",
    "On commence par créer les variables du réseau."
   ]
  },
  {
   "cell_type": "code",
   "execution_count": 20,
   "metadata": {
    "pycharm": {
     "name": "#%%\n"
    }
   },
   "outputs": [],
   "source": [
    "var_to_model = [\"SYSTEM_N1\", \"SIG_OBS\", \"SIG_ORGANE\", \"KM_GROUP\"]\n",
    "\n",
    "var_bn = {}\n",
    "for var in var_to_model:\n",
    "    nb_values = len(joined_df_filtered[var].cat.categories)\n",
    "    var_bn[var] = gum.LabelizedVariable(var, var, nb_values)\n",
    "    "
   ]
  },
  {
   "cell_type": "markdown",
   "metadata": {
    "pycharm": {
     "name": "#%% md\n"
    }
   },
   "source": [
    "On renseigne les modalités des variables pour être fidèle à celles des données."
   ]
  },
  {
   "cell_type": "code",
   "execution_count": 21,
   "metadata": {
    "pycharm": {
     "name": "#%%\n"
    }
   },
   "outputs": [
    {
     "name": "stdout",
     "output_type": "stream",
     "text": [
      "SYSTEM_N1:Labelized({DIVERS|EQUIPEMENT CHASSIS|EQUIPEMENT CLIMATIQUE|EQUIPEMENT DE CARROSSERIE|EQUIPEMENT DE FREINAGE|EQUIPEMENT DE MOTORISATION|EQUIPEMENT DE TRANSMISSION|EQUIPEMENT ELECTRIQUE|EQUIPEMENT EMBARQUE|EQUIPEMENT PNEUMATIQUE})\n",
      "SIG_OBS:Labelized({A-COUPS|ABSENT|ALLUME|ARRACHE|ASPIRER|BALANCE|BLESSE|BLOQUE|BROUTE|BRUTAL|BRUYANT|CALE|CASSE|CLAQUE|CLIGNOTE|CREVE|DEBOITE|DECLENCHEMENT|DEGONFLE|DELOCALISE|DEREGLE|DESSERRE|DUR|ENFONCE|FAUX CONTACT|FENDU|FERME MAL|FONCTIONNE MAL|FUITE|FUME/CHAUFFE|INCOMPLET|INSUFFISANT|INTERMITTENT|INTERRUPTEUR H.S|JEU|LACERE|MANQUE|MAUVAIS|N'EMET PAS|N'ENCRE PAS|NE FONCTIONNE PAS|NE TIRE PAS|ODEUR|OUVRE MAL|PATINE|RAYE|REFUSE TITRE|SALE|SECOUSSE|TAGUE|TANGUE|TEMOIN OUVERTURE H.S|TIRE A DROITE|TIRE A GAUCHE|TORDU|USE/VIDE|VIBRE|VOYANT ALLUME|VOYANT HS})\n",
      "SIG_ORGANE:Labelized({ABS/ASR|ACCELERATEUR ELECTRIQUE|ACCOUDOIR|AERATEURS DE TOITURE|AIR|ALARME DISCRETE|ANNONCEUR SONORE|ANNONCEUR VISUEL|ARRET MOTEUR|ARRET URGENCE|ARTICULATION REMORQUE|AUTO-RADIO|AVTT|BAGUETTE|BARRE|BOITE VITESSES|BOITIER GESTION MOTEUR|BOITIER POLICE ELECTRONIQUE|BOUTON/ POUSSOIR/ INTERRUPTEUR|BRUITEUR|CAOU.JOINT|CARBURANT|CHAUFFAGE|CLIGNOTANTS/ DETRESSE|CLOCHE ECOLOGIQUE|COLMATAGE.F.AIR|COMBINE RADIO|COMMANDE A DISTANCE|COMMODO|COMPTAGE VOYAGEURS|COMPTEUR/ TACHYGRAPHE|DEGIVRAGE|DEMANDE ARRET|DEMARRAGE|DEPART AU PUPITRE PREPOINTAGE|DIRECTION|EAU|ECHAPPEMENT|ECLAIRAGE FEUX EXTERIEURS|ECLAIRAGE INTERIEUR|ESSUIE-GLACE|EXTINCTEUR|FEU ANTIBROUILLARD|FEU CLIGNOTANT|FEU GABARIT|FEU MARCHE AR|FEU STOP|FREIN A PIED|FREIN DE PARC|FREIN EXPLOITATION|GIROUETTE ECLAIRAGE|GIROUETTE MECANISME|GLACE/BAIE|HABILLAGE|HAUT-PARLEUR|HUILE DIRECTION|HUILE MOTEUR|INFORMATION VOYAGEURS|ISSUE SEC.|KLAXON/GONG|LAVE-GLACE|LUBRIMATIC|LUNETTE-AR|MANOMETRE|MARCHE ARRIERE|MARTEAU BRISE-GLACE|MICRO|MOTEUR|PANNEAU|PAPIER BUS|PARE-BRISE|PARE-CHOCS|PARE-JAMB.|PARE-SOLEIL|PEDALE ACCELERATEUR|PEDALE DE FREIN|PILE BTSAM|POIGNEE|PORTE|PORTILLON|PUBLICITE|PUPITRE.ICS|PURGE PORTE|RADIO|RALENTI|RALENTISSEUR|RAMPE UFR|RETROVISEUR|ROUE/PNEUMATIQUE|S A E I V|SECURITE PORTE|SELECTEUR AVTT|SELECTEUR VITESSES|SELF-SERVICE|SIEGE MACH|SIEGE VOYAGEUR|SIGNALEMENT SUR CARNET|SOUFFLET|SUSPENSION|SYSTEME D ABAISSEMENT|TACHYGRAPHE|TEMOIN DIAGNOSTIC|TIROIR CAISSE|TOIT|TRAPPE GAZ|VENTILATION|VIDEO PORTE/MARCHE ARRIERE|VIDEO-SURVEILLANCE|VITESSE|VOITURE|VOLANT|VOYAGEUR|VOYANT ALARME ROUGE|VOYANT ALERTE ORANGE|VOYANT DE BATTERIE|VOYANT ITC})\n",
      "KM_GROUP:Labelized({C:0-50k|C:100k-150k|C:150k-200k|C:200k-250k|C:250k-300k|C:300k+|C:50k-100k})\n"
     ]
    }
   ],
   "source": [
    "for var in var_bn:\n",
    "    for i, modalite in enumerate(joined_df_filtered[var].cat.categories):\n",
    "        var_bn[var].changeLabel(i, modalite)\n",
    "    print(var_bn[var])"
   ]
  },
  {
   "cell_type": "markdown",
   "metadata": {
    "pycharm": {
     "name": "#%% md\n"
    }
   },
   "source": [
    "Ensuite, on crée le réseau bayésien et on ajoute les variables sélectionnées."
   ]
  },
  {
   "cell_type": "code",
   "execution_count": 22,
   "metadata": {
    "pycharm": {
     "name": "#%%\n"
    }
   },
   "outputs": [],
   "source": [
    "bn = gum.BayesNet(\"modèle simple\")\n",
    "\n",
    "for var in var_bn.values():\n",
    "    bn.add(var)"
   ]
  },
  {
   "cell_type": "markdown",
   "metadata": {
    "pycharm": {
     "name": "#%% md\n"
    }
   },
   "source": [
    "Pour finir, on fixe la structure."
   ]
  },
  {
   "cell_type": "code",
   "execution_count": 23,
   "metadata": {
    "pycharm": {
     "name": "#%%\n"
    }
   },
   "outputs": [],
   "source": [
    "bn.addArc(\"SYSTEM_N1\", \"SIG_OBS\")\n",
    "bn.addArc(\"SYSTEM_N1\", \"SIG_ORGANE\")\n",
    "bn.addArc(\"SYSTEM_N1\", \"KM_GROUP\")"
   ]
  },
  {
   "cell_type": "markdown",
   "metadata": {
    "pycharm": {
     "name": "#%% md\n"
    }
   },
   "source": [
    "Nous pouvons utiliser temporairement un notebook Jupyter afin de vérifier graphiquement la structure et les LPC de notre modèle."
   ]
  },
  {
   "cell_type": "markdown",
   "metadata": {
    "pycharm": {
     "name": "#%% md\n"
    }
   },
   "source": [
    "* Pas sur de ce qu'il faut faire ici. Y'a l'import de gnb a utiliser peut-être ? *"
   ]
  },
  {
   "cell_type": "code",
   "execution_count": 24,
   "metadata": {
    "pycharm": {
     "name": "#%%\n"
    }
   },
   "outputs": [
    {
     "data": {
      "text/html": [
       "<svg xmlns=\"http://www.w3.org/2000/svg\" xmlns:xlink=\"http://www.w3.org/1999/xlink\" width=\"360pt\" height=\"102pt\" viewBox=\"0.00 0.00 360.00 102.20\">\n",
       "<g id=\"graph0\" class=\"graph\" transform=\"scale(0.881073 0.881073) rotate(0) translate(4 112)\">\n",
       "<title>G</title>\n",
       "<!-- SIG_ORGANE -->\n",
       "<g id=\"node1\" class=\"node\">\n",
       "<title>SIG_ORGANE</title>\n",
       "<g id=\"a_node1\"><a xlink:title=\"(2) SIG_ORGANE\">\n",
       "<ellipse fill=\"#404040\" stroke=\"black\" cx=\"70.03\" cy=\"-18\" rx=\"70.03\" ry=\"18\"/>\n",
       "<text text-anchor=\"middle\" x=\"70.03\" y=\"-12.57\" font-family=\"Times New Roman,serif\" font-size=\"14.00\" fill=\"white\">SIG_ORGANE</text>\n",
       "</a>\n",
       "</g>\n",
       "</g>\n",
       "<!-- SYSTEM_N1 -->\n",
       "<g id=\"node2\" class=\"node\">\n",
       "<title>SYSTEM_N1</title>\n",
       "<g id=\"a_node2\"><a xlink:title=\"(0) SYSTEM_N1\">\n",
       "<ellipse fill=\"#404040\" stroke=\"black\" cx=\"221.03\" cy=\"-90\" rx=\"63.54\" ry=\"18\"/>\n",
       "<text text-anchor=\"middle\" x=\"221.03\" y=\"-84.58\" font-family=\"Times New Roman,serif\" font-size=\"14.00\" fill=\"white\">SYSTEM_N1</text>\n",
       "</a>\n",
       "</g>\n",
       "</g>\n",
       "<!-- SYSTEM_N1&#45;&gt;SIG_ORGANE -->\n",
       "<g id=\"edge2\" class=\"edge\">\n",
       "<title>SYSTEM_N1-&gt;SIG_ORGANE</title>\n",
       "<g id=\"a_edge2\"><a xlink:title=\"0 → 2\">\n",
       "<path fill=\"none\" stroke=\"#4a4a4a\" d=\"M189,-74.15C166.98,-63.95 137.48,-50.27 113.36,-39.09\"/>\n",
       "<polygon fill=\"#4a4a4a\" stroke=\"#4a4a4a\" points=\"114.96,-35.97 104.42,-34.94 112.02,-42.33 114.96,-35.97\"/>\n",
       "</a>\n",
       "</g>\n",
       "</g>\n",
       "<!-- KM_GROUP -->\n",
       "<g id=\"node3\" class=\"node\">\n",
       "<title>KM_GROUP</title>\n",
       "<g id=\"a_node3\"><a xlink:title=\"(3) KM_GROUP\">\n",
       "<ellipse fill=\"#404040\" stroke=\"black\" cx=\"221.03\" cy=\"-18\" rx=\"62.54\" ry=\"18\"/>\n",
       "<text text-anchor=\"middle\" x=\"221.03\" y=\"-12.57\" font-family=\"Times New Roman,serif\" font-size=\"14.00\" fill=\"white\">KM_GROUP</text>\n",
       "</a>\n",
       "</g>\n",
       "</g>\n",
       "<!-- SYSTEM_N1&#45;&gt;KM_GROUP -->\n",
       "<g id=\"edge3\" class=\"edge\">\n",
       "<title>SYSTEM_N1-&gt;KM_GROUP</title>\n",
       "<g id=\"a_edge3\"><a xlink:title=\"0 → 3\">\n",
       "<path fill=\"none\" stroke=\"#4a4a4a\" d=\"M221.03,-71.7C221.03,-64.41 221.03,-55.73 221.03,-47.54\"/>\n",
       "<polygon fill=\"#4a4a4a\" stroke=\"#4a4a4a\" points=\"224.53,-47.62 221.03,-37.62 217.53,-47.62 224.53,-47.62\"/>\n",
       "</a>\n",
       "</g>\n",
       "</g>\n",
       "<!-- SIG_OBS -->\n",
       "<g id=\"node4\" class=\"node\">\n",
       "<title>SIG_OBS</title>\n",
       "<g id=\"a_node4\"><a xlink:title=\"(1) SIG_OBS\">\n",
       "<ellipse fill=\"#404040\" stroke=\"black\" cx=\"351.03\" cy=\"-18\" rx=\"49.57\" ry=\"18\"/>\n",
       "<text text-anchor=\"middle\" x=\"351.03\" y=\"-12.57\" font-family=\"Times New Roman,serif\" font-size=\"14.00\" fill=\"white\">SIG_OBS</text>\n",
       "</a>\n",
       "</g>\n",
       "</g>\n",
       "<!-- SYSTEM_N1&#45;&gt;SIG_OBS -->\n",
       "<g id=\"edge1\" class=\"edge\">\n",
       "<title>SYSTEM_N1-&gt;SIG_OBS</title>\n",
       "<g id=\"a_edge1\"><a xlink:title=\"0 → 1\">\n",
       "<path fill=\"none\" stroke=\"#4a4a4a\" d=\"M249.55,-73.64C268.61,-63.38 293.84,-49.79 314.38,-38.73\"/>\n",
       "<polygon fill=\"#4a4a4a\" stroke=\"#4a4a4a\" points=\"315.86,-41.91 323,-34.09 312.54,-35.75 315.86,-41.91\"/>\n",
       "</a>\n",
       "</g>\n",
       "</g>\n",
       "</g>\n",
       "</svg>"
      ],
      "text/plain": [
       "(pyAgrum.BayesNet<double>@000002553F78FED0) BN{nodes: 4, arcs: 3, domainSize: 479080, dim: 1799, mem: 14Ko 304o}"
      ]
     },
     "execution_count": 24,
     "metadata": {},
     "output_type": "execute_result"
    }
   ],
   "source": [
    "bn"
   ]
  },
  {
   "cell_type": "markdown",
   "metadata": {
    "pycharm": {
     "name": "#%% md\n"
    }
   },
   "source": [
    "Loi de probabilité de SIG_OBS, SIG_ORGANE, KM_GROUP :"
   ]
  },
  {
   "cell_type": "code",
   "execution_count": 25,
   "metadata": {
    "pycharm": {
     "name": "#%%\n"
    }
   },
   "outputs": [
    {
     "data": {
      "text/html": [
       "<table style=\"border:1px solid black;\">\n",
       "<tr><th colspan='1'></th>\n",
       "      <th colspan='59' style='border:1px solid black;color:black;background-color:#808080;'><center>SIG_OBS</center>\n",
       "      </th></tr>\n",
       "<tr><th style='border:1px solid black;color:black;background-color:#808080'><center>SYSTEM_N1</center></th><th style='border:1px solid black;border-bottom-style: double;color:black;background-color:#BBBBBB'>\n",
       "      <center>A-COUPS</center></th><th style='border:1px solid black;border-bottom-style: double;color:black;background-color:#BBBBBB'>\n",
       "      <center>ABSENT</center></th><th style='border:1px solid black;border-bottom-style: double;color:black;background-color:#BBBBBB'>\n",
       "      <center>ALLUME</center></th><th style='border:1px solid black;border-bottom-style: double;color:black;background-color:#BBBBBB'>\n",
       "      <center>ARRACHE</center></th><th style='border:1px solid black;border-bottom-style: double;color:black;background-color:#BBBBBB'>\n",
       "      <center>ASPIRER</center></th><th style='border:1px solid black;border-bottom-style: double;color:black;background-color:#BBBBBB'>\n",
       "      <center>BALANCE</center></th><th style='border:1px solid black;border-bottom-style: double;color:black;background-color:#BBBBBB'>\n",
       "      <center>BLESSE</center></th><th style='border:1px solid black;border-bottom-style: double;color:black;background-color:#BBBBBB'>\n",
       "      <center>BLOQUE</center></th><th style='border:1px solid black;border-bottom-style: double;color:black;background-color:#BBBBBB'>\n",
       "      <center>BROUTE</center></th><th style='border:1px solid black;border-bottom-style: double;color:black;background-color:#BBBBBB'>\n",
       "      <center>BRUTAL</center></th><th style='border:1px solid black;border-bottom-style: double;color:black;background-color:#BBBBBB'>\n",
       "      <center>BRUYANT</center></th><th style='border:1px solid black;border-bottom-style: double;color:black;background-color:#BBBBBB'>\n",
       "      <center>CALE</center></th><th style='border:1px solid black;border-bottom-style: double;color:black;background-color:#BBBBBB'>\n",
       "      <center>CASSE</center></th><th style='border:1px solid black;border-bottom-style: double;color:black;background-color:#BBBBBB'>\n",
       "      <center>CLAQUE</center></th><th style='border:1px solid black;border-bottom-style: double;color:black;background-color:#BBBBBB'>\n",
       "      <center>CLIGNOTE</center></th><th style='border:1px solid black;border-bottom-style: double;color:black;background-color:#BBBBBB'>\n",
       "      <center>CREVE</center></th><th style='border:1px solid black;border-bottom-style: double;color:black;background-color:#BBBBBB'>\n",
       "      <center>DEBOITE</center></th><th style='border:1px solid black;border-bottom-style: double;color:black;background-color:#BBBBBB'>\n",
       "      <center>DECLENCHEMENT</center></th><th style='border:1px solid black;border-bottom-style: double;color:black;background-color:#BBBBBB'>\n",
       "      <center>DEGONFLE</center></th><th style='border:1px solid black;border-bottom-style: double;color:black;background-color:#BBBBBB'>\n",
       "      <center>DELOCALISE</center></th><th style='border:1px solid black;border-bottom-style: double;color:black;background-color:#BBBBBB'>\n",
       "      <center>DEREGLE</center></th><th style='border:1px solid black;border-bottom-style: double;color:black;background-color:#BBBBBB'>\n",
       "      <center>DESSERRE</center></th><th style='border:1px solid black;border-bottom-style: double;color:black;background-color:#BBBBBB'>\n",
       "      <center>DUR</center></th><th style='border:1px solid black;border-bottom-style: double;color:black;background-color:#BBBBBB'>\n",
       "      <center>ENFONCE</center></th><th style='border:1px solid black;border-bottom-style: double;color:black;background-color:#BBBBBB'>\n",
       "      <center>FAUX CONTACT</center></th><th style='border:1px solid black;border-bottom-style: double;color:black;background-color:#BBBBBB'>\n",
       "      <center>FENDU</center></th><th style='border:1px solid black;border-bottom-style: double;color:black;background-color:#BBBBBB'>\n",
       "      <center>FERME MAL</center></th><th style='border:1px solid black;border-bottom-style: double;color:black;background-color:#BBBBBB'>\n",
       "      <center>FONCTIONNE MAL</center></th><th style='border:1px solid black;border-bottom-style: double;color:black;background-color:#BBBBBB'>\n",
       "      <center>FUITE</center></th><th style='border:1px solid black;border-bottom-style: double;color:black;background-color:#BBBBBB'>\n",
       "      <center>FUME/CHAUFFE</center></th><th style='border:1px solid black;border-bottom-style: double;color:black;background-color:#BBBBBB'>\n",
       "      <center>INCOMPLET</center></th><th style='border:1px solid black;border-bottom-style: double;color:black;background-color:#BBBBBB'>\n",
       "      <center>INSUFFISANT</center></th><th style='border:1px solid black;border-bottom-style: double;color:black;background-color:#BBBBBB'>\n",
       "      <center>INTERMITTENT</center></th><th style='border:1px solid black;border-bottom-style: double;color:black;background-color:#BBBBBB'>\n",
       "      <center>INTERRUPTEUR H.S</center></th><th style='border:1px solid black;border-bottom-style: double;color:black;background-color:#BBBBBB'>\n",
       "      <center>JEU</center></th><th style='border:1px solid black;border-bottom-style: double;color:black;background-color:#BBBBBB'>\n",
       "      <center>LACERE</center></th><th style='border:1px solid black;border-bottom-style: double;color:black;background-color:#BBBBBB'>\n",
       "      <center>MANQUE</center></th><th style='border:1px solid black;border-bottom-style: double;color:black;background-color:#BBBBBB'>\n",
       "      <center>MAUVAIS</center></th><th style='border:1px solid black;border-bottom-style: double;color:black;background-color:#BBBBBB'>\n",
       "      <center>N'EMET PAS</center></th><th style='border:1px solid black;border-bottom-style: double;color:black;background-color:#BBBBBB'>\n",
       "      <center>N'ENCRE PAS</center></th><th style='border:1px solid black;border-bottom-style: double;color:black;background-color:#BBBBBB'>\n",
       "      <center>NE FONCTIONNE PAS</center></th><th style='border:1px solid black;border-bottom-style: double;color:black;background-color:#BBBBBB'>\n",
       "      <center>NE TIRE PAS</center></th><th style='border:1px solid black;border-bottom-style: double;color:black;background-color:#BBBBBB'>\n",
       "      <center>ODEUR</center></th><th style='border:1px solid black;border-bottom-style: double;color:black;background-color:#BBBBBB'>\n",
       "      <center>OUVRE MAL</center></th><th style='border:1px solid black;border-bottom-style: double;color:black;background-color:#BBBBBB'>\n",
       "      <center>PATINE</center></th><th style='border:1px solid black;border-bottom-style: double;color:black;background-color:#BBBBBB'>\n",
       "      <center>RAYE</center></th><th style='border:1px solid black;border-bottom-style: double;color:black;background-color:#BBBBBB'>\n",
       "      <center>REFUSE TITRE</center></th><th style='border:1px solid black;border-bottom-style: double;color:black;background-color:#BBBBBB'>\n",
       "      <center>SALE</center></th><th style='border:1px solid black;border-bottom-style: double;color:black;background-color:#BBBBBB'>\n",
       "      <center>SECOUSSE</center></th><th style='border:1px solid black;border-bottom-style: double;color:black;background-color:#BBBBBB'>\n",
       "      <center>TAGUE</center></th><th style='border:1px solid black;border-bottom-style: double;color:black;background-color:#BBBBBB'>\n",
       "      <center>TANGUE</center></th><th style='border:1px solid black;border-bottom-style: double;color:black;background-color:#BBBBBB'>\n",
       "      <center>TEMOIN OUVERTURE H.S</center></th><th style='border:1px solid black;border-bottom-style: double;color:black;background-color:#BBBBBB'>\n",
       "      <center>TIRE A DROITE</center></th><th style='border:1px solid black;border-bottom-style: double;color:black;background-color:#BBBBBB'>\n",
       "      <center>TIRE A GAUCHE</center></th><th style='border:1px solid black;border-bottom-style: double;color:black;background-color:#BBBBBB'>\n",
       "      <center>TORDU</center></th><th style='border:1px solid black;border-bottom-style: double;color:black;background-color:#BBBBBB'>\n",
       "      <center>USE/VIDE</center></th><th style='border:1px solid black;border-bottom-style: double;color:black;background-color:#BBBBBB'>\n",
       "      <center>VIBRE</center></th><th style='border:1px solid black;border-bottom-style: double;color:black;background-color:#BBBBBB'>\n",
       "      <center>VOYANT ALLUME</center></th><th style='border:1px solid black;border-bottom-style: double;color:black;background-color:#BBBBBB'>\n",
       "      <center>VOYANT HS</center></th></tr>\n",
       "<tr><th style='border:1px solid black;color:black;background-color:#BBBBBB'><center>DIVERS</center></th><td style='text-align:right;'>0.0000</td><td style='text-align:right;'>0.0000</td><td style='text-align:right;'>0.0000</td><td style='text-align:right;'>0.0000</td><td style='text-align:right;'>0.0000</td><td style='text-align:right;'>0.0000</td><td style='text-align:right;'>0.0000</td><td style='text-align:right;'>0.0000</td><td style='text-align:right;'>0.0000</td><td style='text-align:right;'>0.0000</td><td style='text-align:right;'>0.0000</td><td style='text-align:right;'>0.0000</td><td style='text-align:right;'>0.0000</td><td style='text-align:right;'>0.0000</td><td style='text-align:right;'>0.0000</td><td style='text-align:right;'>0.0000</td><td style='text-align:right;'>0.0000</td><td style='text-align:right;'>0.0000</td><td style='text-align:right;'>0.0000</td><td style='text-align:right;'>0.0000</td><td style='text-align:right;'>0.0000</td><td style='text-align:right;'>0.0000</td><td style='text-align:right;'>0.0000</td><td style='text-align:right;'>0.0000</td><td style='text-align:right;'>0.0000</td><td style='text-align:right;'>0.0000</td><td style='text-align:right;'>0.0000</td><td style='text-align:right;'>0.0000</td><td style='text-align:right;'>0.0000</td><td style='text-align:right;'>0.0000</td><td style='text-align:right;'>0.0000</td><td style='text-align:right;'>0.0000</td><td style='text-align:right;'>0.0000</td><td style='text-align:right;'>0.0000</td><td style='text-align:right;'>0.0000</td><td style='text-align:right;'>0.0000</td><td style='text-align:right;'>0.0000</td><td style='text-align:right;'>0.0000</td><td style='text-align:right;'>0.0000</td><td style='text-align:right;'>0.0000</td><td style='text-align:right;'>0.0000</td><td style='text-align:right;'>0.0000</td><td style='text-align:right;'>0.0000</td><td style='text-align:right;'>0.0000</td><td style='text-align:right;'>0.0000</td><td style='text-align:right;'>0.0000</td><td style='text-align:right;'>0.0000</td><td style='text-align:right;'>0.0000</td><td style='text-align:right;'>0.0000</td><td style='text-align:right;'>0.0000</td><td style='text-align:right;'>0.0000</td><td style='text-align:right;'>0.0000</td><td style='text-align:right;'>0.0000</td><td style='text-align:right;'>0.0000</td><td style='text-align:right;'>0.0000</td><td style='text-align:right;'>0.0000</td><td style='text-align:right;'>0.0000</td><td style='text-align:right;'>0.0000</td><td style='text-align:right;'>0.0000</td></tr>\n",
       "<tr><th style='border:1px solid black;color:black;background-color:#BBBBBB'><center>EQUIPEMENT CHASSIS</center></th><td style='text-align:right;'>0.0000</td><td style='text-align:right;'>0.0000</td><td style='text-align:right;'>0.0000</td><td style='text-align:right;'>0.0000</td><td style='text-align:right;'>0.0000</td><td style='text-align:right;'>0.0000</td><td style='text-align:right;'>0.0000</td><td style='text-align:right;'>0.0000</td><td style='text-align:right;'>0.0000</td><td style='text-align:right;'>0.0000</td><td style='text-align:right;'>0.0000</td><td style='text-align:right;'>0.0000</td><td style='text-align:right;'>0.0000</td><td style='text-align:right;'>0.0000</td><td style='text-align:right;'>0.0000</td><td style='text-align:right;'>0.0000</td><td style='text-align:right;'>0.0000</td><td style='text-align:right;'>0.0000</td><td style='text-align:right;'>0.0000</td><td style='text-align:right;'>0.0000</td><td style='text-align:right;'>0.0000</td><td style='text-align:right;'>0.0000</td><td style='text-align:right;'>0.0000</td><td style='text-align:right;'>0.0000</td><td style='text-align:right;'>0.0000</td><td style='text-align:right;'>0.0000</td><td style='text-align:right;'>0.0000</td><td style='text-align:right;'>0.0000</td><td style='text-align:right;'>0.0000</td><td style='text-align:right;'>0.0000</td><td style='text-align:right;'>0.0000</td><td style='text-align:right;'>0.0000</td><td style='text-align:right;'>0.0000</td><td style='text-align:right;'>0.0000</td><td style='text-align:right;'>0.0000</td><td style='text-align:right;'>0.0000</td><td style='text-align:right;'>0.0000</td><td style='text-align:right;'>0.0000</td><td style='text-align:right;'>0.0000</td><td style='text-align:right;'>0.0000</td><td style='text-align:right;'>0.0000</td><td style='text-align:right;'>0.0000</td><td style='text-align:right;'>0.0000</td><td style='text-align:right;'>0.0000</td><td style='text-align:right;'>0.0000</td><td style='text-align:right;'>0.0000</td><td style='text-align:right;'>0.0000</td><td style='text-align:right;'>0.0000</td><td style='text-align:right;'>0.0000</td><td style='text-align:right;'>0.0000</td><td style='text-align:right;'>0.0000</td><td style='text-align:right;'>0.0000</td><td style='text-align:right;'>0.0000</td><td style='text-align:right;'>0.0000</td><td style='text-align:right;'>0.0000</td><td style='text-align:right;'>0.0000</td><td style='text-align:right;'>0.0000</td><td style='text-align:right;'>0.0000</td><td style='text-align:right;'>0.0000</td></tr>\n",
       "<tr><th style='border:1px solid black;color:black;background-color:#BBBBBB'><center>EQUIPEMENT CLIMATIQUE</center></th><td style='text-align:right;'>0.0000</td><td style='text-align:right;'>0.0000</td><td style='text-align:right;'>0.0000</td><td style='text-align:right;'>0.0000</td><td style='text-align:right;'>0.0000</td><td style='text-align:right;'>0.0000</td><td style='text-align:right;'>0.0000</td><td style='text-align:right;'>0.0000</td><td style='text-align:right;'>0.0000</td><td style='text-align:right;'>0.0000</td><td style='text-align:right;'>0.0000</td><td style='text-align:right;'>0.0000</td><td style='text-align:right;'>0.0000</td><td style='text-align:right;'>0.0000</td><td style='text-align:right;'>0.0000</td><td style='text-align:right;'>0.0000</td><td style='text-align:right;'>0.0000</td><td style='text-align:right;'>0.0000</td><td style='text-align:right;'>0.0000</td><td style='text-align:right;'>0.0000</td><td style='text-align:right;'>0.0000</td><td style='text-align:right;'>0.0000</td><td style='text-align:right;'>0.0000</td><td style='text-align:right;'>0.0000</td><td style='text-align:right;'>0.0000</td><td style='text-align:right;'>0.0000</td><td style='text-align:right;'>0.0000</td><td style='text-align:right;'>0.0000</td><td style='text-align:right;'>0.0000</td><td style='text-align:right;'>0.0000</td><td style='text-align:right;'>0.0000</td><td style='text-align:right;'>0.0000</td><td style='text-align:right;'>0.0000</td><td style='text-align:right;'>0.0000</td><td style='text-align:right;'>0.0000</td><td style='text-align:right;'>0.0000</td><td style='text-align:right;'>0.0000</td><td style='text-align:right;'>0.0000</td><td style='text-align:right;'>0.0000</td><td style='text-align:right;'>0.0000</td><td style='text-align:right;'>0.0000</td><td style='text-align:right;'>0.0000</td><td style='text-align:right;'>0.0000</td><td style='text-align:right;'>0.0000</td><td style='text-align:right;'>0.0000</td><td style='text-align:right;'>0.0000</td><td style='text-align:right;'>0.0000</td><td style='text-align:right;'>0.0000</td><td style='text-align:right;'>0.0000</td><td style='text-align:right;'>0.0000</td><td style='text-align:right;'>0.0000</td><td style='text-align:right;'>0.0000</td><td style='text-align:right;'>0.0000</td><td style='text-align:right;'>0.0000</td><td style='text-align:right;'>0.0000</td><td style='text-align:right;'>0.0000</td><td style='text-align:right;'>0.0000</td><td style='text-align:right;'>0.0000</td><td style='text-align:right;'>0.0000</td></tr>\n",
       "<tr><th style='border:1px solid black;color:black;background-color:#BBBBBB'><center>EQUIPEMENT DE CARROSSERIE</center></th><td style='text-align:right;'>0.0000</td><td style='text-align:right;'>0.0000</td><td style='text-align:right;'>0.0000</td><td style='text-align:right;'>0.0000</td><td style='text-align:right;'>0.0000</td><td style='text-align:right;'>0.0000</td><td style='text-align:right;'>0.0000</td><td style='text-align:right;'>0.0000</td><td style='text-align:right;'>0.0000</td><td style='text-align:right;'>0.0000</td><td style='text-align:right;'>0.0000</td><td style='text-align:right;'>0.0000</td><td style='text-align:right;'>0.0000</td><td style='text-align:right;'>0.0000</td><td style='text-align:right;'>0.0000</td><td style='text-align:right;'>0.0000</td><td style='text-align:right;'>0.0000</td><td style='text-align:right;'>0.0000</td><td style='text-align:right;'>0.0000</td><td style='text-align:right;'>0.0000</td><td style='text-align:right;'>0.0000</td><td style='text-align:right;'>0.0000</td><td style='text-align:right;'>0.0000</td><td style='text-align:right;'>0.0000</td><td style='text-align:right;'>0.0000</td><td style='text-align:right;'>0.0000</td><td style='text-align:right;'>0.0000</td><td style='text-align:right;'>0.0000</td><td style='text-align:right;'>0.0000</td><td style='text-align:right;'>0.0000</td><td style='text-align:right;'>0.0000</td><td style='text-align:right;'>0.0000</td><td style='text-align:right;'>0.0000</td><td style='text-align:right;'>0.0000</td><td style='text-align:right;'>0.0000</td><td style='text-align:right;'>0.0000</td><td style='text-align:right;'>0.0000</td><td style='text-align:right;'>0.0000</td><td style='text-align:right;'>0.0000</td><td style='text-align:right;'>0.0000</td><td style='text-align:right;'>0.0000</td><td style='text-align:right;'>0.0000</td><td style='text-align:right;'>0.0000</td><td style='text-align:right;'>0.0000</td><td style='text-align:right;'>0.0000</td><td style='text-align:right;'>0.0000</td><td style='text-align:right;'>0.0000</td><td style='text-align:right;'>0.0000</td><td style='text-align:right;'>0.0000</td><td style='text-align:right;'>0.0000</td><td style='text-align:right;'>0.0000</td><td style='text-align:right;'>0.0000</td><td style='text-align:right;'>0.0000</td><td style='text-align:right;'>0.0000</td><td style='text-align:right;'>0.0000</td><td style='text-align:right;'>0.0000</td><td style='text-align:right;'>0.0000</td><td style='text-align:right;'>0.0000</td><td style='text-align:right;'>0.0000</td></tr>\n",
       "<tr><th style='border:1px solid black;color:black;background-color:#BBBBBB'><center>EQUIPEMENT DE FREINAGE</center></th><td style='text-align:right;'>0.0000</td><td style='text-align:right;'>0.0000</td><td style='text-align:right;'>0.0000</td><td style='text-align:right;'>0.0000</td><td style='text-align:right;'>0.0000</td><td style='text-align:right;'>0.0000</td><td style='text-align:right;'>0.0000</td><td style='text-align:right;'>0.0000</td><td style='text-align:right;'>0.0000</td><td style='text-align:right;'>0.0000</td><td style='text-align:right;'>0.0000</td><td style='text-align:right;'>0.0000</td><td style='text-align:right;'>0.0000</td><td style='text-align:right;'>0.0000</td><td style='text-align:right;'>0.0000</td><td style='text-align:right;'>0.0000</td><td style='text-align:right;'>0.0000</td><td style='text-align:right;'>0.0000</td><td style='text-align:right;'>0.0000</td><td style='text-align:right;'>0.0000</td><td style='text-align:right;'>0.0000</td><td style='text-align:right;'>0.0000</td><td style='text-align:right;'>0.0000</td><td style='text-align:right;'>0.0000</td><td style='text-align:right;'>0.0000</td><td style='text-align:right;'>0.0000</td><td style='text-align:right;'>0.0000</td><td style='text-align:right;'>0.0000</td><td style='text-align:right;'>0.0000</td><td style='text-align:right;'>0.0000</td><td style='text-align:right;'>0.0000</td><td style='text-align:right;'>0.0000</td><td style='text-align:right;'>0.0000</td><td style='text-align:right;'>0.0000</td><td style='text-align:right;'>0.0000</td><td style='text-align:right;'>0.0000</td><td style='text-align:right;'>0.0000</td><td style='text-align:right;'>0.0000</td><td style='text-align:right;'>0.0000</td><td style='text-align:right;'>0.0000</td><td style='text-align:right;'>0.0000</td><td style='text-align:right;'>0.0000</td><td style='text-align:right;'>0.0000</td><td style='text-align:right;'>0.0000</td><td style='text-align:right;'>0.0000</td><td style='text-align:right;'>0.0000</td><td style='text-align:right;'>0.0000</td><td style='text-align:right;'>0.0000</td><td style='text-align:right;'>0.0000</td><td style='text-align:right;'>0.0000</td><td style='text-align:right;'>0.0000</td><td style='text-align:right;'>0.0000</td><td style='text-align:right;'>0.0000</td><td style='text-align:right;'>0.0000</td><td style='text-align:right;'>0.0000</td><td style='text-align:right;'>0.0000</td><td style='text-align:right;'>0.0000</td><td style='text-align:right;'>0.0000</td><td style='text-align:right;'>0.0000</td></tr>\n",
       "<tr><th style='border:1px solid black;color:black;background-color:#BBBBBB'><center>EQUIPEMENT DE MOTORISATION</center></th><td style='text-align:right;'>0.0000</td><td style='text-align:right;'>0.0000</td><td style='text-align:right;'>0.0000</td><td style='text-align:right;'>0.0000</td><td style='text-align:right;'>0.0000</td><td style='text-align:right;'>0.0000</td><td style='text-align:right;'>0.0000</td><td style='text-align:right;'>0.0000</td><td style='text-align:right;'>0.0000</td><td style='text-align:right;'>0.0000</td><td style='text-align:right;'>0.0000</td><td style='text-align:right;'>0.0000</td><td style='text-align:right;'>0.0000</td><td style='text-align:right;'>0.0000</td><td style='text-align:right;'>0.0000</td><td style='text-align:right;'>0.0000</td><td style='text-align:right;'>0.0000</td><td style='text-align:right;'>0.0000</td><td style='text-align:right;'>0.0000</td><td style='text-align:right;'>0.0000</td><td style='text-align:right;'>0.0000</td><td style='text-align:right;'>0.0000</td><td style='text-align:right;'>0.0000</td><td style='text-align:right;'>0.0000</td><td style='text-align:right;'>0.0000</td><td style='text-align:right;'>0.0000</td><td style='text-align:right;'>0.0000</td><td style='text-align:right;'>0.0000</td><td style='text-align:right;'>0.0000</td><td style='text-align:right;'>0.0000</td><td style='text-align:right;'>0.0000</td><td style='text-align:right;'>0.0000</td><td style='text-align:right;'>0.0000</td><td style='text-align:right;'>0.0000</td><td style='text-align:right;'>0.0000</td><td style='text-align:right;'>0.0000</td><td style='text-align:right;'>0.0000</td><td style='text-align:right;'>0.0000</td><td style='text-align:right;'>0.0000</td><td style='text-align:right;'>0.0000</td><td style='text-align:right;'>0.0000</td><td style='text-align:right;'>0.0000</td><td style='text-align:right;'>0.0000</td><td style='text-align:right;'>0.0000</td><td style='text-align:right;'>0.0000</td><td style='text-align:right;'>0.0000</td><td style='text-align:right;'>0.0000</td><td style='text-align:right;'>0.0000</td><td style='text-align:right;'>0.0000</td><td style='text-align:right;'>0.0000</td><td style='text-align:right;'>0.0000</td><td style='text-align:right;'>0.0000</td><td style='text-align:right;'>0.0000</td><td style='text-align:right;'>0.0000</td><td style='text-align:right;'>0.0000</td><td style='text-align:right;'>0.0000</td><td style='text-align:right;'>0.0000</td><td style='text-align:right;'>0.0000</td><td style='text-align:right;'>0.0000</td></tr>\n",
       "<tr><th style='border:1px solid black;color:black;background-color:#BBBBBB'><center>EQUIPEMENT DE TRANSMISSION</center></th><td style='text-align:right;'>0.0000</td><td style='text-align:right;'>0.0000</td><td style='text-align:right;'>0.0000</td><td style='text-align:right;'>0.0000</td><td style='text-align:right;'>0.0000</td><td style='text-align:right;'>0.0000</td><td style='text-align:right;'>0.0000</td><td style='text-align:right;'>0.0000</td><td style='text-align:right;'>0.0000</td><td style='text-align:right;'>0.0000</td><td style='text-align:right;'>0.0000</td><td style='text-align:right;'>0.0000</td><td style='text-align:right;'>0.0000</td><td style='text-align:right;'>0.0000</td><td style='text-align:right;'>0.0000</td><td style='text-align:right;'>0.0000</td><td style='text-align:right;'>0.0000</td><td style='text-align:right;'>0.0000</td><td style='text-align:right;'>0.0000</td><td style='text-align:right;'>0.0000</td><td style='text-align:right;'>0.0000</td><td style='text-align:right;'>0.0000</td><td style='text-align:right;'>0.0000</td><td style='text-align:right;'>0.0000</td><td style='text-align:right;'>0.0000</td><td style='text-align:right;'>0.0000</td><td style='text-align:right;'>0.0000</td><td style='text-align:right;'>0.0000</td><td style='text-align:right;'>0.0000</td><td style='text-align:right;'>0.0000</td><td style='text-align:right;'>0.0000</td><td style='text-align:right;'>0.0000</td><td style='text-align:right;'>0.0000</td><td style='text-align:right;'>0.0000</td><td style='text-align:right;'>0.0000</td><td style='text-align:right;'>0.0000</td><td style='text-align:right;'>0.0000</td><td style='text-align:right;'>0.0000</td><td style='text-align:right;'>0.0000</td><td style='text-align:right;'>0.0000</td><td style='text-align:right;'>0.0000</td><td style='text-align:right;'>0.0000</td><td style='text-align:right;'>0.0000</td><td style='text-align:right;'>0.0000</td><td style='text-align:right;'>0.0000</td><td style='text-align:right;'>0.0000</td><td style='text-align:right;'>0.0000</td><td style='text-align:right;'>0.0000</td><td style='text-align:right;'>0.0000</td><td style='text-align:right;'>0.0000</td><td style='text-align:right;'>0.0000</td><td style='text-align:right;'>0.0000</td><td style='text-align:right;'>0.0000</td><td style='text-align:right;'>0.0000</td><td style='text-align:right;'>0.0000</td><td style='text-align:right;'>0.0000</td><td style='text-align:right;'>0.0000</td><td style='text-align:right;'>0.0000</td><td style='text-align:right;'>0.0000</td></tr>\n",
       "<tr><th style='border:1px solid black;color:black;background-color:#BBBBBB'><center>EQUIPEMENT ELECTRIQUE</center></th><td style='text-align:right;'>0.0000</td><td style='text-align:right;'>0.0000</td><td style='text-align:right;'>0.0000</td><td style='text-align:right;'>0.0000</td><td style='text-align:right;'>0.0000</td><td style='text-align:right;'>0.0000</td><td style='text-align:right;'>0.0000</td><td style='text-align:right;'>0.0000</td><td style='text-align:right;'>0.0000</td><td style='text-align:right;'>0.0000</td><td style='text-align:right;'>0.0000</td><td style='text-align:right;'>0.0000</td><td style='text-align:right;'>0.0000</td><td style='text-align:right;'>0.0000</td><td style='text-align:right;'>0.0000</td><td style='text-align:right;'>0.0000</td><td style='text-align:right;'>0.0000</td><td style='text-align:right;'>0.0000</td><td style='text-align:right;'>0.0000</td><td style='text-align:right;'>0.0000</td><td style='text-align:right;'>0.0000</td><td style='text-align:right;'>0.0000</td><td style='text-align:right;'>0.0000</td><td style='text-align:right;'>0.0000</td><td style='text-align:right;'>0.0000</td><td style='text-align:right;'>0.0000</td><td style='text-align:right;'>0.0000</td><td style='text-align:right;'>0.0000</td><td style='text-align:right;'>0.0000</td><td style='text-align:right;'>0.0000</td><td style='text-align:right;'>0.0000</td><td style='text-align:right;'>0.0000</td><td style='text-align:right;'>0.0000</td><td style='text-align:right;'>0.0000</td><td style='text-align:right;'>0.0000</td><td style='text-align:right;'>0.0000</td><td style='text-align:right;'>0.0000</td><td style='text-align:right;'>0.0000</td><td style='text-align:right;'>0.0000</td><td style='text-align:right;'>0.0000</td><td style='text-align:right;'>0.0000</td><td style='text-align:right;'>0.0000</td><td style='text-align:right;'>0.0000</td><td style='text-align:right;'>0.0000</td><td style='text-align:right;'>0.0000</td><td style='text-align:right;'>0.0000</td><td style='text-align:right;'>0.0000</td><td style='text-align:right;'>0.0000</td><td style='text-align:right;'>0.0000</td><td style='text-align:right;'>0.0000</td><td style='text-align:right;'>0.0000</td><td style='text-align:right;'>0.0000</td><td style='text-align:right;'>0.0000</td><td style='text-align:right;'>0.0000</td><td style='text-align:right;'>0.0000</td><td style='text-align:right;'>0.0000</td><td style='text-align:right;'>0.0000</td><td style='text-align:right;'>0.0000</td><td style='text-align:right;'>0.0000</td></tr>\n",
       "<tr><th style='border:1px solid black;color:black;background-color:#BBBBBB'><center>EQUIPEMENT EMBARQUE</center></th><td style='text-align:right;'>0.0000</td><td style='text-align:right;'>0.0000</td><td style='text-align:right;'>0.0000</td><td style='text-align:right;'>0.0000</td><td style='text-align:right;'>0.0000</td><td style='text-align:right;'>0.0000</td><td style='text-align:right;'>0.0000</td><td style='text-align:right;'>0.0000</td><td style='text-align:right;'>0.0000</td><td style='text-align:right;'>0.0000</td><td style='text-align:right;'>0.0000</td><td style='text-align:right;'>0.0000</td><td style='text-align:right;'>0.0000</td><td style='text-align:right;'>0.0000</td><td style='text-align:right;'>0.0000</td><td style='text-align:right;'>0.0000</td><td style='text-align:right;'>0.0000</td><td style='text-align:right;'>0.0000</td><td style='text-align:right;'>0.0000</td><td style='text-align:right;'>0.0000</td><td style='text-align:right;'>0.0000</td><td style='text-align:right;'>0.0000</td><td style='text-align:right;'>0.0000</td><td style='text-align:right;'>0.0000</td><td style='text-align:right;'>0.0000</td><td style='text-align:right;'>0.0000</td><td style='text-align:right;'>0.0000</td><td style='text-align:right;'>0.0000</td><td style='text-align:right;'>0.0000</td><td style='text-align:right;'>0.0000</td><td style='text-align:right;'>0.0000</td><td style='text-align:right;'>0.0000</td><td style='text-align:right;'>0.0000</td><td style='text-align:right;'>0.0000</td><td style='text-align:right;'>0.0000</td><td style='text-align:right;'>0.0000</td><td style='text-align:right;'>0.0000</td><td style='text-align:right;'>0.0000</td><td style='text-align:right;'>0.0000</td><td style='text-align:right;'>0.0000</td><td style='text-align:right;'>0.0000</td><td style='text-align:right;'>0.0000</td><td style='text-align:right;'>0.0000</td><td style='text-align:right;'>0.0000</td><td style='text-align:right;'>0.0000</td><td style='text-align:right;'>0.0000</td><td style='text-align:right;'>0.0000</td><td style='text-align:right;'>0.0000</td><td style='text-align:right;'>0.0000</td><td style='text-align:right;'>0.0000</td><td style='text-align:right;'>0.0000</td><td style='text-align:right;'>0.0000</td><td style='text-align:right;'>0.0000</td><td style='text-align:right;'>0.0000</td><td style='text-align:right;'>0.0000</td><td style='text-align:right;'>0.0000</td><td style='text-align:right;'>0.0000</td><td style='text-align:right;'>0.0000</td><td style='text-align:right;'>0.0000</td></tr>\n",
       "<tr><th style='border:1px solid black;color:black;background-color:#BBBBBB'><center>EQUIPEMENT PNEUMATIQUE</center></th><td style='text-align:right;'>0.0000</td><td style='text-align:right;'>0.0000</td><td style='text-align:right;'>0.0000</td><td style='text-align:right;'>0.0000</td><td style='text-align:right;'>0.0000</td><td style='text-align:right;'>0.0000</td><td style='text-align:right;'>0.0000</td><td style='text-align:right;'>0.0000</td><td style='text-align:right;'>0.0000</td><td style='text-align:right;'>0.0000</td><td style='text-align:right;'>0.0000</td><td style='text-align:right;'>0.0000</td><td style='text-align:right;'>0.0000</td><td style='text-align:right;'>0.0000</td><td style='text-align:right;'>0.0000</td><td style='text-align:right;'>0.0000</td><td style='text-align:right;'>0.0000</td><td style='text-align:right;'>0.0000</td><td style='text-align:right;'>0.0000</td><td style='text-align:right;'>0.0000</td><td style='text-align:right;'>0.0000</td><td style='text-align:right;'>0.0000</td><td style='text-align:right;'>0.0000</td><td style='text-align:right;'>0.0000</td><td style='text-align:right;'>0.0000</td><td style='text-align:right;'>0.0000</td><td style='text-align:right;'>0.0000</td><td style='text-align:right;'>0.0000</td><td style='text-align:right;'>0.0000</td><td style='text-align:right;'>0.0000</td><td style='text-align:right;'>0.0000</td><td style='text-align:right;'>0.0000</td><td style='text-align:right;'>0.0000</td><td style='text-align:right;'>0.0000</td><td style='text-align:right;'>0.0000</td><td style='text-align:right;'>0.0000</td><td style='text-align:right;'>0.0000</td><td style='text-align:right;'>0.0000</td><td style='text-align:right;'>0.0000</td><td style='text-align:right;'>0.0000</td><td style='text-align:right;'>0.0000</td><td style='text-align:right;'>0.0000</td><td style='text-align:right;'>0.0000</td><td style='text-align:right;'>0.0000</td><td style='text-align:right;'>0.0000</td><td style='text-align:right;'>0.0000</td><td style='text-align:right;'>0.0000</td><td style='text-align:right;'>0.0000</td><td style='text-align:right;'>0.0000</td><td style='text-align:right;'>0.0000</td><td style='text-align:right;'>0.0000</td><td style='text-align:right;'>0.0000</td><td style='text-align:right;'>0.0000</td><td style='text-align:right;'>0.0000</td><td style='text-align:right;'>0.0000</td><td style='text-align:right;'>0.0000</td><td style='text-align:right;'>0.0000</td><td style='text-align:right;'>0.0000</td><td style='text-align:right;'>0.0000</td></tr>\n",
       "</table>"
      ],
      "text/plain": [
       "(pyAgrum.Potential<double>@000002551F43ABB0) \n",
       "      ||  SIG_OBS                                                                                                                                                                                                                                                                                                                                                                                                                                                                                                                                                                                                    |\n",
       "SYSTEM||A-COUPS  |ABSENT   |ALLUME   |ARRACHE  |ASPIRER  |BALANCE  |BLESSE   |BLOQUE   |BROUTE   |BRUTAL   |BRUYANT  |CALE     |CASSE    |CLAQUE   |CLIGNOTE |CREVE    |DEBOITE  |DECLENCHE|DEGONFLE |DELOCALIS|DEREGLE  |DESSERRE |DUR      |ENFONCE  |FAUX CONT|FENDU    |FERME MAL|FONCTIONN|FUITE    |FUME/CHAU|INCOMPLET|INSUFFISA|INTERMITT|INTERRUPT|JEU      |LACERE   |MANQUE   |MAUVAIS  |N'EMET PA|N'ENCRE P|NE FONCTI|NE TIRE P|ODEUR    |OUVRE MAL|PATINE   |RAYE     |REFUSE TI|SALE     |SECOUSSE |TAGUE    |TANGUE   |TEMOIN OU|TIRE A DR|TIRE A GA|TORDU    |USE/VIDE |VIBRE    |VOYANT AL|VOYANT HS|\n",
       "------||---------|---------|---------|---------|---------|---------|---------|---------|---------|---------|---------|---------|---------|---------|---------|---------|---------|---------|---------|---------|---------|---------|---------|---------|---------|---------|---------|---------|---------|---------|---------|---------|---------|---------|---------|---------|---------|---------|---------|---------|---------|---------|---------|---------|---------|---------|---------|---------|---------|---------|---------|---------|---------|---------|---------|---------|---------|---------|---------|\n",
       "DIVERS|| 0.0000  | 0.0000  | 0.0000  | 0.0000  | 0.0000  | 0.0000  | 0.0000  | 0.0000  | 0.0000  | 0.0000  | 0.0000  | 0.0000  | 0.0000  | 0.0000  | 0.0000  | 0.0000  | 0.0000  | 0.0000  | 0.0000  | 0.0000  | 0.0000  | 0.0000  | 0.0000  | 0.0000  | 0.0000  | 0.0000  | 0.0000  | 0.0000  | 0.0000  | 0.0000  | 0.0000  | 0.0000  | 0.0000  | 0.0000  | 0.0000  | 0.0000  | 0.0000  | 0.0000  | 0.0000  | 0.0000  | 0.0000  | 0.0000  | 0.0000  | 0.0000  | 0.0000  | 0.0000  | 0.0000  | 0.0000  | 0.0000  | 0.0000  | 0.0000  | 0.0000  | 0.0000  | 0.0000  | 0.0000  | 0.0000  | 0.0000  | 0.0000  | 0.0000  |\n",
       "EQUIPE|| 0.0000  | 0.0000  | 0.0000  | 0.0000  | 0.0000  | 0.0000  | 0.0000  | 0.0000  | 0.0000  | 0.0000  | 0.0000  | 0.0000  | 0.0000  | 0.0000  | 0.0000  | 0.0000  | 0.0000  | 0.0000  | 0.0000  | 0.0000  | 0.0000  | 0.0000  | 0.0000  | 0.0000  | 0.0000  | 0.0000  | 0.0000  | 0.0000  | 0.0000  | 0.0000  | 0.0000  | 0.0000  | 0.0000  | 0.0000  | 0.0000  | 0.0000  | 0.0000  | 0.0000  | 0.0000  | 0.0000  | 0.0000  | 0.0000  | 0.0000  | 0.0000  | 0.0000  | 0.0000  | 0.0000  | 0.0000  | 0.0000  | 0.0000  | 0.0000  | 0.0000  | 0.0000  | 0.0000  | 0.0000  | 0.0000  | 0.0000  | 0.0000  | 0.0000  |\n",
       "EQUIPE|| 0.0000  | 0.0000  | 0.0000  | 0.0000  | 0.0000  | 0.0000  | 0.0000  | 0.0000  | 0.0000  | 0.0000  | 0.0000  | 0.0000  | 0.0000  | 0.0000  | 0.0000  | 0.0000  | 0.0000  | 0.0000  | 0.0000  | 0.0000  | 0.0000  | 0.0000  | 0.0000  | 0.0000  | 0.0000  | 0.0000  | 0.0000  | 0.0000  | 0.0000  | 0.0000  | 0.0000  | 0.0000  | 0.0000  | 0.0000  | 0.0000  | 0.0000  | 0.0000  | 0.0000  | 0.0000  | 0.0000  | 0.0000  | 0.0000  | 0.0000  | 0.0000  | 0.0000  | 0.0000  | 0.0000  | 0.0000  | 0.0000  | 0.0000  | 0.0000  | 0.0000  | 0.0000  | 0.0000  | 0.0000  | 0.0000  | 0.0000  | 0.0000  | 0.0000  |\n",
       "EQUIPE|| 0.0000  | 0.0000  | 0.0000  | 0.0000  | 0.0000  | 0.0000  | 0.0000  | 0.0000  | 0.0000  | 0.0000  | 0.0000  | 0.0000  | 0.0000  | 0.0000  | 0.0000  | 0.0000  | 0.0000  | 0.0000  | 0.0000  | 0.0000  | 0.0000  | 0.0000  | 0.0000  | 0.0000  | 0.0000  | 0.0000  | 0.0000  | 0.0000  | 0.0000  | 0.0000  | 0.0000  | 0.0000  | 0.0000  | 0.0000  | 0.0000  | 0.0000  | 0.0000  | 0.0000  | 0.0000  | 0.0000  | 0.0000  | 0.0000  | 0.0000  | 0.0000  | 0.0000  | 0.0000  | 0.0000  | 0.0000  | 0.0000  | 0.0000  | 0.0000  | 0.0000  | 0.0000  | 0.0000  | 0.0000  | 0.0000  | 0.0000  | 0.0000  | 0.0000  |\n",
       "EQUIPE|| 0.0000  | 0.0000  | 0.0000  | 0.0000  | 0.0000  | 0.0000  | 0.0000  | 0.0000  | 0.0000  | 0.0000  | 0.0000  | 0.0000  | 0.0000  | 0.0000  | 0.0000  | 0.0000  | 0.0000  | 0.0000  | 0.0000  | 0.0000  | 0.0000  | 0.0000  | 0.0000  | 0.0000  | 0.0000  | 0.0000  | 0.0000  | 0.0000  | 0.0000  | 0.0000  | 0.0000  | 0.0000  | 0.0000  | 0.0000  | 0.0000  | 0.0000  | 0.0000  | 0.0000  | 0.0000  | 0.0000  | 0.0000  | 0.0000  | 0.0000  | 0.0000  | 0.0000  | 0.0000  | 0.0000  | 0.0000  | 0.0000  | 0.0000  | 0.0000  | 0.0000  | 0.0000  | 0.0000  | 0.0000  | 0.0000  | 0.0000  | 0.0000  | 0.0000  |\n",
       "EQUIPE|| 0.0000  | 0.0000  | 0.0000  | 0.0000  | 0.0000  | 0.0000  | 0.0000  | 0.0000  | 0.0000  | 0.0000  | 0.0000  | 0.0000  | 0.0000  | 0.0000  | 0.0000  | 0.0000  | 0.0000  | 0.0000  | 0.0000  | 0.0000  | 0.0000  | 0.0000  | 0.0000  | 0.0000  | 0.0000  | 0.0000  | 0.0000  | 0.0000  | 0.0000  | 0.0000  | 0.0000  | 0.0000  | 0.0000  | 0.0000  | 0.0000  | 0.0000  | 0.0000  | 0.0000  | 0.0000  | 0.0000  | 0.0000  | 0.0000  | 0.0000  | 0.0000  | 0.0000  | 0.0000  | 0.0000  | 0.0000  | 0.0000  | 0.0000  | 0.0000  | 0.0000  | 0.0000  | 0.0000  | 0.0000  | 0.0000  | 0.0000  | 0.0000  | 0.0000  |\n",
       "EQUIPE|| 0.0000  | 0.0000  | 0.0000  | 0.0000  | 0.0000  | 0.0000  | 0.0000  | 0.0000  | 0.0000  | 0.0000  | 0.0000  | 0.0000  | 0.0000  | 0.0000  | 0.0000  | 0.0000  | 0.0000  | 0.0000  | 0.0000  | 0.0000  | 0.0000  | 0.0000  | 0.0000  | 0.0000  | 0.0000  | 0.0000  | 0.0000  | 0.0000  | 0.0000  | 0.0000  | 0.0000  | 0.0000  | 0.0000  | 0.0000  | 0.0000  | 0.0000  | 0.0000  | 0.0000  | 0.0000  | 0.0000  | 0.0000  | 0.0000  | 0.0000  | 0.0000  | 0.0000  | 0.0000  | 0.0000  | 0.0000  | 0.0000  | 0.0000  | 0.0000  | 0.0000  | 0.0000  | 0.0000  | 0.0000  | 0.0000  | 0.0000  | 0.0000  | 0.0000  |\n",
       "EQUIPE|| 0.0000  | 0.0000  | 0.0000  | 0.0000  | 0.0000  | 0.0000  | 0.0000  | 0.0000  | 0.0000  | 0.0000  | 0.0000  | 0.0000  | 0.0000  | 0.0000  | 0.0000  | 0.0000  | 0.0000  | 0.0000  | 0.0000  | 0.0000  | 0.0000  | 0.0000  | 0.0000  | 0.0000  | 0.0000  | 0.0000  | 0.0000  | 0.0000  | 0.0000  | 0.0000  | 0.0000  | 0.0000  | 0.0000  | 0.0000  | 0.0000  | 0.0000  | 0.0000  | 0.0000  | 0.0000  | 0.0000  | 0.0000  | 0.0000  | 0.0000  | 0.0000  | 0.0000  | 0.0000  | 0.0000  | 0.0000  | 0.0000  | 0.0000  | 0.0000  | 0.0000  | 0.0000  | 0.0000  | 0.0000  | 0.0000  | 0.0000  | 0.0000  | 0.0000  |\n",
       "EQUIPE|| 0.0000  | 0.0000  | 0.0000  | 0.0000  | 0.0000  | 0.0000  | 0.0000  | 0.0000  | 0.0000  | 0.0000  | 0.0000  | 0.0000  | 0.0000  | 0.0000  | 0.0000  | 0.0000  | 0.0000  | 0.0000  | 0.0000  | 0.0000  | 0.0000  | 0.0000  | 0.0000  | 0.0000  | 0.0000  | 0.0000  | 0.0000  | 0.0000  | 0.0000  | 0.0000  | 0.0000  | 0.0000  | 0.0000  | 0.0000  | 0.0000  | 0.0000  | 0.0000  | 0.0000  | 0.0000  | 0.0000  | 0.0000  | 0.0000  | 0.0000  | 0.0000  | 0.0000  | 0.0000  | 0.0000  | 0.0000  | 0.0000  | 0.0000  | 0.0000  | 0.0000  | 0.0000  | 0.0000  | 0.0000  | 0.0000  | 0.0000  | 0.0000  | 0.0000  |\n",
       "EQUIPE|| 0.0000  | 0.0000  | 0.0000  | 0.0000  | 0.0000  | 0.0000  | 0.0000  | 0.0000  | 0.0000  | 0.0000  | 0.0000  | 0.0000  | 0.0000  | 0.0000  | 0.0000  | 0.0000  | 0.0000  | 0.0000  | 0.0000  | 0.0000  | 0.0000  | 0.0000  | 0.0000  | 0.0000  | 0.0000  | 0.0000  | 0.0000  | 0.0000  | 0.0000  | 0.0000  | 0.0000  | 0.0000  | 0.0000  | 0.0000  | 0.0000  | 0.0000  | 0.0000  | 0.0000  | 0.0000  | 0.0000  | 0.0000  | 0.0000  | 0.0000  | 0.0000  | 0.0000  | 0.0000  | 0.0000  | 0.0000  | 0.0000  | 0.0000  | 0.0000  | 0.0000  | 0.0000  | 0.0000  | 0.0000  | 0.0000  | 0.0000  | 0.0000  | 0.0000  |"
      ]
     },
     "execution_count": 25,
     "metadata": {},
     "output_type": "execute_result"
    }
   ],
   "source": [
    "bn.cpt(\"SIG_OBS\")"
   ]
  },
  {
   "cell_type": "code",
   "execution_count": 26,
   "metadata": {},
   "outputs": [
    {
     "data": {
      "text/html": [
       "<table style=\"border:1px solid black;\">\n",
       "<tr><th colspan='1'></th>\n",
       "      <th colspan='116' style='border:1px solid black;color:black;background-color:#808080;'><center>SIG_ORGANE</center>\n",
       "      </th></tr>\n",
       "<tr><th style='border:1px solid black;color:black;background-color:#808080'><center>SYSTEM_N1</center></th><th style='border:1px solid black;border-bottom-style: double;color:black;background-color:#BBBBBB'>\n",
       "      <center>ABS/ASR</center></th><th style='border:1px solid black;border-bottom-style: double;color:black;background-color:#BBBBBB'>\n",
       "      <center>ACCELERATEUR ELECTRIQUE</center></th><th style='border:1px solid black;border-bottom-style: double;color:black;background-color:#BBBBBB'>\n",
       "      <center>ACCOUDOIR</center></th><th style='border:1px solid black;border-bottom-style: double;color:black;background-color:#BBBBBB'>\n",
       "      <center>AERATEURS DE TOITURE</center></th><th style='border:1px solid black;border-bottom-style: double;color:black;background-color:#BBBBBB'>\n",
       "      <center>AIR</center></th><th style='border:1px solid black;border-bottom-style: double;color:black;background-color:#BBBBBB'>\n",
       "      <center>ALARME DISCRETE</center></th><th style='border:1px solid black;border-bottom-style: double;color:black;background-color:#BBBBBB'>\n",
       "      <center>ANNONCEUR SONORE</center></th><th style='border:1px solid black;border-bottom-style: double;color:black;background-color:#BBBBBB'>\n",
       "      <center>ANNONCEUR VISUEL</center></th><th style='border:1px solid black;border-bottom-style: double;color:black;background-color:#BBBBBB'>\n",
       "      <center>ARRET MOTEUR</center></th><th style='border:1px solid black;border-bottom-style: double;color:black;background-color:#BBBBBB'>\n",
       "      <center>ARRET URGENCE</center></th><th style='border:1px solid black;border-bottom-style: double;color:black;background-color:#BBBBBB'>\n",
       "      <center>ARTICULATION REMORQUE</center></th><th style='border:1px solid black;border-bottom-style: double;color:black;background-color:#BBBBBB'>\n",
       "      <center>AUTO-RADIO</center></th><th style='border:1px solid black;border-bottom-style: double;color:black;background-color:#BBBBBB'>\n",
       "      <center>AVTT</center></th><th style='border:1px solid black;border-bottom-style: double;color:black;background-color:#BBBBBB'>\n",
       "      <center>BAGUETTE</center></th><th style='border:1px solid black;border-bottom-style: double;color:black;background-color:#BBBBBB'>\n",
       "      <center>BARRE</center></th><th style='border:1px solid black;border-bottom-style: double;color:black;background-color:#BBBBBB'>\n",
       "      <center>BOITE VITESSES</center></th><th style='border:1px solid black;border-bottom-style: double;color:black;background-color:#BBBBBB'>\n",
       "      <center>BOITIER GESTION MOTEUR</center></th><th style='border:1px solid black;border-bottom-style: double;color:black;background-color:#BBBBBB'>\n",
       "      <center>BOITIER POLICE ELECTRONIQUE</center></th><th style='border:1px solid black;border-bottom-style: double;color:black;background-color:#BBBBBB'>\n",
       "      <center>BOUTON/ POUSSOIR/ INTERRUPTEUR</center></th><th style='border:1px solid black;border-bottom-style: double;color:black;background-color:#BBBBBB'>\n",
       "      <center>BRUITEUR</center></th><th style='border:1px solid black;border-bottom-style: double;color:black;background-color:#BBBBBB'>\n",
       "      <center>CAOU.JOINT</center></th><th style='border:1px solid black;border-bottom-style: double;color:black;background-color:#BBBBBB'>\n",
       "      <center>CARBURANT</center></th><th style='border:1px solid black;border-bottom-style: double;color:black;background-color:#BBBBBB'>\n",
       "      <center>CHAUFFAGE</center></th><th style='border:1px solid black;border-bottom-style: double;color:black;background-color:#BBBBBB'>\n",
       "      <center>CLIGNOTANTS/ DETRESSE</center></th><th style='border:1px solid black;border-bottom-style: double;color:black;background-color:#BBBBBB'>\n",
       "      <center>CLOCHE ECOLOGIQUE</center></th><th style='border:1px solid black;border-bottom-style: double;color:black;background-color:#BBBBBB'>\n",
       "      <center>COLMATAGE.F.AIR</center></th><th style='border:1px solid black;border-bottom-style: double;color:black;background-color:#BBBBBB'>\n",
       "      <center>COMBINE RADIO</center></th><th style='border:1px solid black;border-bottom-style: double;color:black;background-color:#BBBBBB'>\n",
       "      <center>COMMANDE A DISTANCE</center></th><th style='border:1px solid black;border-bottom-style: double;color:black;background-color:#BBBBBB'>\n",
       "      <center>COMMODO</center></th><th style='border:1px solid black;border-bottom-style: double;color:black;background-color:#BBBBBB'>\n",
       "      <center>COMPTAGE VOYAGEURS</center></th><th style='border:1px solid black;border-bottom-style: double;color:black;background-color:#BBBBBB'>\n",
       "      <center>COMPTEUR/ TACHYGRAPHE</center></th><th style='border:1px solid black;border-bottom-style: double;color:black;background-color:#BBBBBB'>\n",
       "      <center>DEGIVRAGE</center></th><th style='border:1px solid black;border-bottom-style: double;color:black;background-color:#BBBBBB'>\n",
       "      <center>DEMANDE ARRET</center></th><th style='border:1px solid black;border-bottom-style: double;color:black;background-color:#BBBBBB'>\n",
       "      <center>DEMARRAGE</center></th><th style='border:1px solid black;border-bottom-style: double;color:black;background-color:#BBBBBB'>\n",
       "      <center>DEPART AU PUPITRE PREPOINTAGE</center></th><th style='border:1px solid black;border-bottom-style: double;color:black;background-color:#BBBBBB'>\n",
       "      <center>DIRECTION</center></th><th style='border:1px solid black;border-bottom-style: double;color:black;background-color:#BBBBBB'>\n",
       "      <center>EAU</center></th><th style='border:1px solid black;border-bottom-style: double;color:black;background-color:#BBBBBB'>\n",
       "      <center>ECHAPPEMENT</center></th><th style='border:1px solid black;border-bottom-style: double;color:black;background-color:#BBBBBB'>\n",
       "      <center>ECLAIRAGE FEUX EXTERIEURS</center></th><th style='border:1px solid black;border-bottom-style: double;color:black;background-color:#BBBBBB'>\n",
       "      <center>ECLAIRAGE INTERIEUR</center></th><th style='border:1px solid black;border-bottom-style: double;color:black;background-color:#BBBBBB'>\n",
       "      <center>ESSUIE-GLACE</center></th><th style='border:1px solid black;border-bottom-style: double;color:black;background-color:#BBBBBB'>\n",
       "      <center>EXTINCTEUR</center></th><th style='border:1px solid black;border-bottom-style: double;color:black;background-color:#BBBBBB'>\n",
       "      <center>FEU ANTIBROUILLARD</center></th><th style='border:1px solid black;border-bottom-style: double;color:black;background-color:#BBBBBB'>\n",
       "      <center>FEU CLIGNOTANT</center></th><th style='border:1px solid black;border-bottom-style: double;color:black;background-color:#BBBBBB'>\n",
       "      <center>FEU GABARIT</center></th><th style='border:1px solid black;border-bottom-style: double;color:black;background-color:#BBBBBB'>\n",
       "      <center>FEU MARCHE AR</center></th><th style='border:1px solid black;border-bottom-style: double;color:black;background-color:#BBBBBB'>\n",
       "      <center>FEU STOP</center></th><th style='border:1px solid black;border-bottom-style: double;color:black;background-color:#BBBBBB'>\n",
       "      <center>FREIN A PIED</center></th><th style='border:1px solid black;border-bottom-style: double;color:black;background-color:#BBBBBB'>\n",
       "      <center>FREIN DE PARC</center></th><th style='border:1px solid black;border-bottom-style: double;color:black;background-color:#BBBBBB'>\n",
       "      <center>FREIN EXPLOITATION</center></th><th style='border:1px solid black;border-bottom-style: double;color:black;background-color:#BBBBBB'>\n",
       "      <center>GIROUETTE ECLAIRAGE</center></th><th style='border:1px solid black;border-bottom-style: double;color:black;background-color:#BBBBBB'>\n",
       "      <center>GIROUETTE MECANISME</center></th><th style='border:1px solid black;border-bottom-style: double;color:black;background-color:#BBBBBB'>\n",
       "      <center>GLACE/BAIE</center></th><th style='border:1px solid black;border-bottom-style: double;color:black;background-color:#BBBBBB'>\n",
       "      <center>HABILLAGE</center></th><th style='border:1px solid black;border-bottom-style: double;color:black;background-color:#BBBBBB'>\n",
       "      <center>HAUT-PARLEUR</center></th><th style='border:1px solid black;border-bottom-style: double;color:black;background-color:#BBBBBB'>\n",
       "      <center>HUILE DIRECTION</center></th><th style='border:1px solid black;border-bottom-style: double;color:black;background-color:#BBBBBB'>\n",
       "      <center>HUILE MOTEUR</center></th><th style='border:1px solid black;border-bottom-style: double;color:black;background-color:#BBBBBB'>\n",
       "      <center>INFORMATION VOYAGEURS</center></th><th style='border:1px solid black;border-bottom-style: double;color:black;background-color:#BBBBBB'>\n",
       "      <center>ISSUE SEC.</center></th><th style='border:1px solid black;border-bottom-style: double;color:black;background-color:#BBBBBB'>\n",
       "      <center>KLAXON/GONG</center></th><th style='border:1px solid black;border-bottom-style: double;color:black;background-color:#BBBBBB'>\n",
       "      <center>LAVE-GLACE</center></th><th style='border:1px solid black;border-bottom-style: double;color:black;background-color:#BBBBBB'>\n",
       "      <center>LUBRIMATIC</center></th><th style='border:1px solid black;border-bottom-style: double;color:black;background-color:#BBBBBB'>\n",
       "      <center>LUNETTE-AR</center></th><th style='border:1px solid black;border-bottom-style: double;color:black;background-color:#BBBBBB'>\n",
       "      <center>MANOMETRE</center></th><th style='border:1px solid black;border-bottom-style: double;color:black;background-color:#BBBBBB'>\n",
       "      <center>MARCHE ARRIERE</center></th><th style='border:1px solid black;border-bottom-style: double;color:black;background-color:#BBBBBB'>\n",
       "      <center>MARTEAU BRISE-GLACE</center></th><th style='border:1px solid black;border-bottom-style: double;color:black;background-color:#BBBBBB'>\n",
       "      <center>MICRO</center></th><th style='border:1px solid black;border-bottom-style: double;color:black;background-color:#BBBBBB'>\n",
       "      <center>MOTEUR</center></th><th style='border:1px solid black;border-bottom-style: double;color:black;background-color:#BBBBBB'>\n",
       "      <center>PANNEAU</center></th><th style='border:1px solid black;border-bottom-style: double;color:black;background-color:#BBBBBB'>\n",
       "      <center>PAPIER BUS</center></th><th style='border:1px solid black;border-bottom-style: double;color:black;background-color:#BBBBBB'>\n",
       "      <center>PARE-BRISE</center></th><th style='border:1px solid black;border-bottom-style: double;color:black;background-color:#BBBBBB'>\n",
       "      <center>PARE-CHOCS</center></th><th style='border:1px solid black;border-bottom-style: double;color:black;background-color:#BBBBBB'>\n",
       "      <center>PARE-JAMB.</center></th><th style='border:1px solid black;border-bottom-style: double;color:black;background-color:#BBBBBB'>\n",
       "      <center>PARE-SOLEIL</center></th><th style='border:1px solid black;border-bottom-style: double;color:black;background-color:#BBBBBB'>\n",
       "      <center>PEDALE ACCELERATEUR</center></th><th style='border:1px solid black;border-bottom-style: double;color:black;background-color:#BBBBBB'>\n",
       "      <center>PEDALE DE FREIN</center></th><th style='border:1px solid black;border-bottom-style: double;color:black;background-color:#BBBBBB'>\n",
       "      <center>PILE BTSAM</center></th><th style='border:1px solid black;border-bottom-style: double;color:black;background-color:#BBBBBB'>\n",
       "      <center>POIGNEE</center></th><th style='border:1px solid black;border-bottom-style: double;color:black;background-color:#BBBBBB'>\n",
       "      <center>PORTE</center></th><th style='border:1px solid black;border-bottom-style: double;color:black;background-color:#BBBBBB'>\n",
       "      <center>PORTILLON</center></th><th style='border:1px solid black;border-bottom-style: double;color:black;background-color:#BBBBBB'>\n",
       "      <center>PUBLICITE</center></th><th style='border:1px solid black;border-bottom-style: double;color:black;background-color:#BBBBBB'>\n",
       "      <center>PUPITRE.ICS</center></th><th style='border:1px solid black;border-bottom-style: double;color:black;background-color:#BBBBBB'>\n",
       "      <center>PURGE PORTE</center></th><th style='border:1px solid black;border-bottom-style: double;color:black;background-color:#BBBBBB'>\n",
       "      <center>RADIO</center></th><th style='border:1px solid black;border-bottom-style: double;color:black;background-color:#BBBBBB'>\n",
       "      <center>RALENTI</center></th><th style='border:1px solid black;border-bottom-style: double;color:black;background-color:#BBBBBB'>\n",
       "      <center>RALENTISSEUR</center></th><th style='border:1px solid black;border-bottom-style: double;color:black;background-color:#BBBBBB'>\n",
       "      <center>RAMPE UFR</center></th><th style='border:1px solid black;border-bottom-style: double;color:black;background-color:#BBBBBB'>\n",
       "      <center>RETROVISEUR</center></th><th style='border:1px solid black;border-bottom-style: double;color:black;background-color:#BBBBBB'>\n",
       "      <center>ROUE/PNEUMATIQUE</center></th><th style='border:1px solid black;border-bottom-style: double;color:black;background-color:#BBBBBB'>\n",
       "      <center>S A E I V</center></th><th style='border:1px solid black;border-bottom-style: double;color:black;background-color:#BBBBBB'>\n",
       "      <center>SECURITE PORTE</center></th><th style='border:1px solid black;border-bottom-style: double;color:black;background-color:#BBBBBB'>\n",
       "      <center>SELECTEUR AVTT</center></th><th style='border:1px solid black;border-bottom-style: double;color:black;background-color:#BBBBBB'>\n",
       "      <center>SELECTEUR VITESSES</center></th><th style='border:1px solid black;border-bottom-style: double;color:black;background-color:#BBBBBB'>\n",
       "      <center>SELF-SERVICE</center></th><th style='border:1px solid black;border-bottom-style: double;color:black;background-color:#BBBBBB'>\n",
       "      <center>SIEGE MACH</center></th><th style='border:1px solid black;border-bottom-style: double;color:black;background-color:#BBBBBB'>\n",
       "      <center>SIEGE VOYAGEUR</center></th><th style='border:1px solid black;border-bottom-style: double;color:black;background-color:#BBBBBB'>\n",
       "      <center>SIGNALEMENT SUR CARNET</center></th><th style='border:1px solid black;border-bottom-style: double;color:black;background-color:#BBBBBB'>\n",
       "      <center>SOUFFLET</center></th><th style='border:1px solid black;border-bottom-style: double;color:black;background-color:#BBBBBB'>\n",
       "      <center>SUSPENSION</center></th><th style='border:1px solid black;border-bottom-style: double;color:black;background-color:#BBBBBB'>\n",
       "      <center>SYSTEME D ABAISSEMENT</center></th><th style='border:1px solid black;border-bottom-style: double;color:black;background-color:#BBBBBB'>\n",
       "      <center>TACHYGRAPHE</center></th><th style='border:1px solid black;border-bottom-style: double;color:black;background-color:#BBBBBB'>\n",
       "      <center>TEMOIN DIAGNOSTIC</center></th><th style='border:1px solid black;border-bottom-style: double;color:black;background-color:#BBBBBB'>\n",
       "      <center>TIROIR CAISSE</center></th><th style='border:1px solid black;border-bottom-style: double;color:black;background-color:#BBBBBB'>\n",
       "      <center>TOIT</center></th><th style='border:1px solid black;border-bottom-style: double;color:black;background-color:#BBBBBB'>\n",
       "      <center>TRAPPE GAZ</center></th><th style='border:1px solid black;border-bottom-style: double;color:black;background-color:#BBBBBB'>\n",
       "      <center>VENTILATION</center></th><th style='border:1px solid black;border-bottom-style: double;color:black;background-color:#BBBBBB'>\n",
       "      <center>VIDEO PORTE/MARCHE ARRIERE</center></th><th style='border:1px solid black;border-bottom-style: double;color:black;background-color:#BBBBBB'>\n",
       "      <center>VIDEO-SURVEILLANCE</center></th><th style='border:1px solid black;border-bottom-style: double;color:black;background-color:#BBBBBB'>\n",
       "      <center>VITESSE</center></th><th style='border:1px solid black;border-bottom-style: double;color:black;background-color:#BBBBBB'>\n",
       "      <center>VOITURE</center></th><th style='border:1px solid black;border-bottom-style: double;color:black;background-color:#BBBBBB'>\n",
       "      <center>VOLANT</center></th><th style='border:1px solid black;border-bottom-style: double;color:black;background-color:#BBBBBB'>\n",
       "      <center>VOYAGEUR</center></th><th style='border:1px solid black;border-bottom-style: double;color:black;background-color:#BBBBBB'>\n",
       "      <center>VOYANT ALARME ROUGE</center></th><th style='border:1px solid black;border-bottom-style: double;color:black;background-color:#BBBBBB'>\n",
       "      <center>VOYANT ALERTE ORANGE</center></th><th style='border:1px solid black;border-bottom-style: double;color:black;background-color:#BBBBBB'>\n",
       "      <center>VOYANT DE BATTERIE</center></th><th style='border:1px solid black;border-bottom-style: double;color:black;background-color:#BBBBBB'>\n",
       "      <center>VOYANT ITC</center></th></tr>\n",
       "<tr><th style='border:1px solid black;color:black;background-color:#BBBBBB'><center>DIVERS</center></th><td style='text-align:right;'>0.0000</td><td style='text-align:right;'>0.0000</td><td style='text-align:right;'>0.0000</td><td style='text-align:right;'>0.0000</td><td style='text-align:right;'>0.0000</td><td style='text-align:right;'>0.0000</td><td style='text-align:right;'>0.0000</td><td style='text-align:right;'>0.0000</td><td style='text-align:right;'>0.0000</td><td style='text-align:right;'>0.0000</td><td style='text-align:right;'>0.0000</td><td style='text-align:right;'>0.0000</td><td style='text-align:right;'>0.0000</td><td style='text-align:right;'>0.0000</td><td style='text-align:right;'>0.0000</td><td style='text-align:right;'>0.0000</td><td style='text-align:right;'>0.0000</td><td style='text-align:right;'>0.0000</td><td style='text-align:right;'>0.0000</td><td style='text-align:right;'>0.0000</td><td style='text-align:right;'>0.0000</td><td style='text-align:right;'>0.0000</td><td style='text-align:right;'>0.0000</td><td style='text-align:right;'>0.0000</td><td style='text-align:right;'>0.0000</td><td style='text-align:right;'>0.0000</td><td style='text-align:right;'>0.0000</td><td style='text-align:right;'>0.0000</td><td style='text-align:right;'>0.0000</td><td style='text-align:right;'>0.0000</td><td style='text-align:right;'>0.0000</td><td style='text-align:right;'>0.0000</td><td style='text-align:right;'>0.0000</td><td style='text-align:right;'>0.0000</td><td style='text-align:right;'>0.0000</td><td style='text-align:right;'>0.0000</td><td style='text-align:right;'>0.0000</td><td style='text-align:right;'>0.0000</td><td style='text-align:right;'>0.0000</td><td style='text-align:right;'>0.0000</td><td style='text-align:right;'>0.0000</td><td style='text-align:right;'>0.0000</td><td style='text-align:right;'>0.0000</td><td style='text-align:right;'>0.0000</td><td style='text-align:right;'>0.0000</td><td style='text-align:right;'>0.0000</td><td style='text-align:right;'>0.0000</td><td style='text-align:right;'>0.0000</td><td style='text-align:right;'>0.0000</td><td style='text-align:right;'>0.0000</td><td style='text-align:right;'>0.0000</td><td style='text-align:right;'>0.0000</td><td style='text-align:right;'>0.0000</td><td style='text-align:right;'>0.0000</td><td style='text-align:right;'>0.0000</td><td style='text-align:right;'>0.0000</td><td style='text-align:right;'>0.0000</td><td style='text-align:right;'>0.0000</td><td style='text-align:right;'>0.0000</td><td style='text-align:right;'>0.0000</td><td style='text-align:right;'>0.0000</td><td style='text-align:right;'>0.0000</td><td style='text-align:right;'>0.0000</td><td style='text-align:right;'>0.0000</td><td style='text-align:right;'>0.0000</td><td style='text-align:right;'>0.0000</td><td style='text-align:right;'>0.0000</td><td style='text-align:right;'>0.0000</td><td style='text-align:right;'>0.0000</td><td style='text-align:right;'>0.0000</td><td style='text-align:right;'>0.0000</td><td style='text-align:right;'>0.0000</td><td style='text-align:right;'>0.0000</td><td style='text-align:right;'>0.0000</td><td style='text-align:right;'>0.0000</td><td style='text-align:right;'>0.0000</td><td style='text-align:right;'>0.0000</td><td style='text-align:right;'>0.0000</td><td style='text-align:right;'>0.0000</td><td style='text-align:right;'>0.0000</td><td style='text-align:right;'>0.0000</td><td style='text-align:right;'>0.0000</td><td style='text-align:right;'>0.0000</td><td style='text-align:right;'>0.0000</td><td style='text-align:right;'>0.0000</td><td style='text-align:right;'>0.0000</td><td style='text-align:right;'>0.0000</td><td style='text-align:right;'>0.0000</td><td style='text-align:right;'>0.0000</td><td style='text-align:right;'>0.0000</td><td style='text-align:right;'>0.0000</td><td style='text-align:right;'>0.0000</td><td style='text-align:right;'>0.0000</td><td style='text-align:right;'>0.0000</td><td style='text-align:right;'>0.0000</td><td style='text-align:right;'>0.0000</td><td style='text-align:right;'>0.0000</td><td style='text-align:right;'>0.0000</td><td style='text-align:right;'>0.0000</td><td style='text-align:right;'>0.0000</td><td style='text-align:right;'>0.0000</td><td style='text-align:right;'>0.0000</td><td style='text-align:right;'>0.0000</td><td style='text-align:right;'>0.0000</td><td style='text-align:right;'>0.0000</td><td style='text-align:right;'>0.0000</td><td style='text-align:right;'>0.0000</td><td style='text-align:right;'>0.0000</td><td style='text-align:right;'>0.0000</td><td style='text-align:right;'>0.0000</td><td style='text-align:right;'>0.0000</td><td style='text-align:right;'>0.0000</td><td style='text-align:right;'>0.0000</td><td style='text-align:right;'>0.0000</td><td style='text-align:right;'>0.0000</td><td style='text-align:right;'>0.0000</td></tr>\n",
       "<tr><th style='border:1px solid black;color:black;background-color:#BBBBBB'><center>EQUIPEMENT CHASSIS</center></th><td style='text-align:right;'>0.0000</td><td style='text-align:right;'>0.0000</td><td style='text-align:right;'>0.0000</td><td style='text-align:right;'>0.0000</td><td style='text-align:right;'>0.0000</td><td style='text-align:right;'>0.0000</td><td style='text-align:right;'>0.0000</td><td style='text-align:right;'>0.0000</td><td style='text-align:right;'>0.0000</td><td style='text-align:right;'>0.0000</td><td style='text-align:right;'>0.0000</td><td style='text-align:right;'>0.0000</td><td style='text-align:right;'>0.0000</td><td style='text-align:right;'>0.0000</td><td style='text-align:right;'>0.0000</td><td style='text-align:right;'>0.0000</td><td style='text-align:right;'>0.0000</td><td style='text-align:right;'>0.0000</td><td style='text-align:right;'>0.0000</td><td style='text-align:right;'>0.0000</td><td style='text-align:right;'>0.0000</td><td style='text-align:right;'>0.0000</td><td style='text-align:right;'>0.0000</td><td style='text-align:right;'>0.0000</td><td style='text-align:right;'>0.0000</td><td style='text-align:right;'>0.0000</td><td style='text-align:right;'>0.0000</td><td style='text-align:right;'>0.0000</td><td style='text-align:right;'>0.0000</td><td style='text-align:right;'>0.0000</td><td style='text-align:right;'>0.0000</td><td style='text-align:right;'>0.0000</td><td style='text-align:right;'>0.0000</td><td style='text-align:right;'>0.0000</td><td style='text-align:right;'>0.0000</td><td style='text-align:right;'>0.0000</td><td style='text-align:right;'>0.0000</td><td style='text-align:right;'>0.0000</td><td style='text-align:right;'>0.0000</td><td style='text-align:right;'>0.0000</td><td style='text-align:right;'>0.0000</td><td style='text-align:right;'>0.0000</td><td style='text-align:right;'>0.0000</td><td style='text-align:right;'>0.0000</td><td style='text-align:right;'>0.0000</td><td style='text-align:right;'>0.0000</td><td style='text-align:right;'>0.0000</td><td style='text-align:right;'>0.0000</td><td style='text-align:right;'>0.0000</td><td style='text-align:right;'>0.0000</td><td style='text-align:right;'>0.0000</td><td style='text-align:right;'>0.0000</td><td style='text-align:right;'>0.0000</td><td style='text-align:right;'>0.0000</td><td style='text-align:right;'>0.0000</td><td style='text-align:right;'>0.0000</td><td style='text-align:right;'>0.0000</td><td style='text-align:right;'>0.0000</td><td style='text-align:right;'>0.0000</td><td style='text-align:right;'>0.0000</td><td style='text-align:right;'>0.0000</td><td style='text-align:right;'>0.0000</td><td style='text-align:right;'>0.0000</td><td style='text-align:right;'>0.0000</td><td style='text-align:right;'>0.0000</td><td style='text-align:right;'>0.0000</td><td style='text-align:right;'>0.0000</td><td style='text-align:right;'>0.0000</td><td style='text-align:right;'>0.0000</td><td style='text-align:right;'>0.0000</td><td style='text-align:right;'>0.0000</td><td style='text-align:right;'>0.0000</td><td style='text-align:right;'>0.0000</td><td style='text-align:right;'>0.0000</td><td style='text-align:right;'>0.0000</td><td style='text-align:right;'>0.0000</td><td style='text-align:right;'>0.0000</td><td style='text-align:right;'>0.0000</td><td style='text-align:right;'>0.0000</td><td style='text-align:right;'>0.0000</td><td style='text-align:right;'>0.0000</td><td style='text-align:right;'>0.0000</td><td style='text-align:right;'>0.0000</td><td style='text-align:right;'>0.0000</td><td style='text-align:right;'>0.0000</td><td style='text-align:right;'>0.0000</td><td style='text-align:right;'>0.0000</td><td style='text-align:right;'>0.0000</td><td style='text-align:right;'>0.0000</td><td style='text-align:right;'>0.0000</td><td style='text-align:right;'>0.0000</td><td style='text-align:right;'>0.0000</td><td style='text-align:right;'>0.0000</td><td style='text-align:right;'>0.0000</td><td style='text-align:right;'>0.0000</td><td style='text-align:right;'>0.0000</td><td style='text-align:right;'>0.0000</td><td style='text-align:right;'>0.0000</td><td style='text-align:right;'>0.0000</td><td style='text-align:right;'>0.0000</td><td style='text-align:right;'>0.0000</td><td style='text-align:right;'>0.0000</td><td style='text-align:right;'>0.0000</td><td style='text-align:right;'>0.0000</td><td style='text-align:right;'>0.0000</td><td style='text-align:right;'>0.0000</td><td style='text-align:right;'>0.0000</td><td style='text-align:right;'>0.0000</td><td style='text-align:right;'>0.0000</td><td style='text-align:right;'>0.0000</td><td style='text-align:right;'>0.0000</td><td style='text-align:right;'>0.0000</td><td style='text-align:right;'>0.0000</td><td style='text-align:right;'>0.0000</td><td style='text-align:right;'>0.0000</td><td style='text-align:right;'>0.0000</td></tr>\n",
       "<tr><th style='border:1px solid black;color:black;background-color:#BBBBBB'><center>EQUIPEMENT CLIMATIQUE</center></th><td style='text-align:right;'>0.0000</td><td style='text-align:right;'>0.0000</td><td style='text-align:right;'>0.0000</td><td style='text-align:right;'>0.0000</td><td style='text-align:right;'>0.0000</td><td style='text-align:right;'>0.0000</td><td style='text-align:right;'>0.0000</td><td style='text-align:right;'>0.0000</td><td style='text-align:right;'>0.0000</td><td style='text-align:right;'>0.0000</td><td style='text-align:right;'>0.0000</td><td style='text-align:right;'>0.0000</td><td style='text-align:right;'>0.0000</td><td style='text-align:right;'>0.0000</td><td style='text-align:right;'>0.0000</td><td style='text-align:right;'>0.0000</td><td style='text-align:right;'>0.0000</td><td style='text-align:right;'>0.0000</td><td style='text-align:right;'>0.0000</td><td style='text-align:right;'>0.0000</td><td style='text-align:right;'>0.0000</td><td style='text-align:right;'>0.0000</td><td style='text-align:right;'>0.0000</td><td style='text-align:right;'>0.0000</td><td style='text-align:right;'>0.0000</td><td style='text-align:right;'>0.0000</td><td style='text-align:right;'>0.0000</td><td style='text-align:right;'>0.0000</td><td style='text-align:right;'>0.0000</td><td style='text-align:right;'>0.0000</td><td style='text-align:right;'>0.0000</td><td style='text-align:right;'>0.0000</td><td style='text-align:right;'>0.0000</td><td style='text-align:right;'>0.0000</td><td style='text-align:right;'>0.0000</td><td style='text-align:right;'>0.0000</td><td style='text-align:right;'>0.0000</td><td style='text-align:right;'>0.0000</td><td style='text-align:right;'>0.0000</td><td style='text-align:right;'>0.0000</td><td style='text-align:right;'>0.0000</td><td style='text-align:right;'>0.0000</td><td style='text-align:right;'>0.0000</td><td style='text-align:right;'>0.0000</td><td style='text-align:right;'>0.0000</td><td style='text-align:right;'>0.0000</td><td style='text-align:right;'>0.0000</td><td style='text-align:right;'>0.0000</td><td style='text-align:right;'>0.0000</td><td style='text-align:right;'>0.0000</td><td style='text-align:right;'>0.0000</td><td style='text-align:right;'>0.0000</td><td style='text-align:right;'>0.0000</td><td style='text-align:right;'>0.0000</td><td style='text-align:right;'>0.0000</td><td style='text-align:right;'>0.0000</td><td style='text-align:right;'>0.0000</td><td style='text-align:right;'>0.0000</td><td style='text-align:right;'>0.0000</td><td style='text-align:right;'>0.0000</td><td style='text-align:right;'>0.0000</td><td style='text-align:right;'>0.0000</td><td style='text-align:right;'>0.0000</td><td style='text-align:right;'>0.0000</td><td style='text-align:right;'>0.0000</td><td style='text-align:right;'>0.0000</td><td style='text-align:right;'>0.0000</td><td style='text-align:right;'>0.0000</td><td style='text-align:right;'>0.0000</td><td style='text-align:right;'>0.0000</td><td style='text-align:right;'>0.0000</td><td style='text-align:right;'>0.0000</td><td style='text-align:right;'>0.0000</td><td style='text-align:right;'>0.0000</td><td style='text-align:right;'>0.0000</td><td style='text-align:right;'>0.0000</td><td style='text-align:right;'>0.0000</td><td style='text-align:right;'>0.0000</td><td style='text-align:right;'>0.0000</td><td style='text-align:right;'>0.0000</td><td style='text-align:right;'>0.0000</td><td style='text-align:right;'>0.0000</td><td style='text-align:right;'>0.0000</td><td style='text-align:right;'>0.0000</td><td style='text-align:right;'>0.0000</td><td style='text-align:right;'>0.0000</td><td style='text-align:right;'>0.0000</td><td style='text-align:right;'>0.0000</td><td style='text-align:right;'>0.0000</td><td style='text-align:right;'>0.0000</td><td style='text-align:right;'>0.0000</td><td style='text-align:right;'>0.0000</td><td style='text-align:right;'>0.0000</td><td style='text-align:right;'>0.0000</td><td style='text-align:right;'>0.0000</td><td style='text-align:right;'>0.0000</td><td style='text-align:right;'>0.0000</td><td style='text-align:right;'>0.0000</td><td style='text-align:right;'>0.0000</td><td style='text-align:right;'>0.0000</td><td style='text-align:right;'>0.0000</td><td style='text-align:right;'>0.0000</td><td style='text-align:right;'>0.0000</td><td style='text-align:right;'>0.0000</td><td style='text-align:right;'>0.0000</td><td style='text-align:right;'>0.0000</td><td style='text-align:right;'>0.0000</td><td style='text-align:right;'>0.0000</td><td style='text-align:right;'>0.0000</td><td style='text-align:right;'>0.0000</td><td style='text-align:right;'>0.0000</td><td style='text-align:right;'>0.0000</td><td style='text-align:right;'>0.0000</td><td style='text-align:right;'>0.0000</td><td style='text-align:right;'>0.0000</td><td style='text-align:right;'>0.0000</td></tr>\n",
       "<tr><th style='border:1px solid black;color:black;background-color:#BBBBBB'><center>EQUIPEMENT DE CARROSSERIE</center></th><td style='text-align:right;'>0.0000</td><td style='text-align:right;'>0.0000</td><td style='text-align:right;'>0.0000</td><td style='text-align:right;'>0.0000</td><td style='text-align:right;'>0.0000</td><td style='text-align:right;'>0.0000</td><td style='text-align:right;'>0.0000</td><td style='text-align:right;'>0.0000</td><td style='text-align:right;'>0.0000</td><td style='text-align:right;'>0.0000</td><td style='text-align:right;'>0.0000</td><td style='text-align:right;'>0.0000</td><td style='text-align:right;'>0.0000</td><td style='text-align:right;'>0.0000</td><td style='text-align:right;'>0.0000</td><td style='text-align:right;'>0.0000</td><td style='text-align:right;'>0.0000</td><td style='text-align:right;'>0.0000</td><td style='text-align:right;'>0.0000</td><td style='text-align:right;'>0.0000</td><td style='text-align:right;'>0.0000</td><td style='text-align:right;'>0.0000</td><td style='text-align:right;'>0.0000</td><td style='text-align:right;'>0.0000</td><td style='text-align:right;'>0.0000</td><td style='text-align:right;'>0.0000</td><td style='text-align:right;'>0.0000</td><td style='text-align:right;'>0.0000</td><td style='text-align:right;'>0.0000</td><td style='text-align:right;'>0.0000</td><td style='text-align:right;'>0.0000</td><td style='text-align:right;'>0.0000</td><td style='text-align:right;'>0.0000</td><td style='text-align:right;'>0.0000</td><td style='text-align:right;'>0.0000</td><td style='text-align:right;'>0.0000</td><td style='text-align:right;'>0.0000</td><td style='text-align:right;'>0.0000</td><td style='text-align:right;'>0.0000</td><td style='text-align:right;'>0.0000</td><td style='text-align:right;'>0.0000</td><td style='text-align:right;'>0.0000</td><td style='text-align:right;'>0.0000</td><td style='text-align:right;'>0.0000</td><td style='text-align:right;'>0.0000</td><td style='text-align:right;'>0.0000</td><td style='text-align:right;'>0.0000</td><td style='text-align:right;'>0.0000</td><td style='text-align:right;'>0.0000</td><td style='text-align:right;'>0.0000</td><td style='text-align:right;'>0.0000</td><td style='text-align:right;'>0.0000</td><td style='text-align:right;'>0.0000</td><td style='text-align:right;'>0.0000</td><td style='text-align:right;'>0.0000</td><td style='text-align:right;'>0.0000</td><td style='text-align:right;'>0.0000</td><td style='text-align:right;'>0.0000</td><td style='text-align:right;'>0.0000</td><td style='text-align:right;'>0.0000</td><td style='text-align:right;'>0.0000</td><td style='text-align:right;'>0.0000</td><td style='text-align:right;'>0.0000</td><td style='text-align:right;'>0.0000</td><td style='text-align:right;'>0.0000</td><td style='text-align:right;'>0.0000</td><td style='text-align:right;'>0.0000</td><td style='text-align:right;'>0.0000</td><td style='text-align:right;'>0.0000</td><td style='text-align:right;'>0.0000</td><td style='text-align:right;'>0.0000</td><td style='text-align:right;'>0.0000</td><td style='text-align:right;'>0.0000</td><td style='text-align:right;'>0.0000</td><td style='text-align:right;'>0.0000</td><td style='text-align:right;'>0.0000</td><td style='text-align:right;'>0.0000</td><td style='text-align:right;'>0.0000</td><td style='text-align:right;'>0.0000</td><td style='text-align:right;'>0.0000</td><td style='text-align:right;'>0.0000</td><td style='text-align:right;'>0.0000</td><td style='text-align:right;'>0.0000</td><td style='text-align:right;'>0.0000</td><td style='text-align:right;'>0.0000</td><td style='text-align:right;'>0.0000</td><td style='text-align:right;'>0.0000</td><td style='text-align:right;'>0.0000</td><td style='text-align:right;'>0.0000</td><td style='text-align:right;'>0.0000</td><td style='text-align:right;'>0.0000</td><td style='text-align:right;'>0.0000</td><td style='text-align:right;'>0.0000</td><td style='text-align:right;'>0.0000</td><td style='text-align:right;'>0.0000</td><td style='text-align:right;'>0.0000</td><td style='text-align:right;'>0.0000</td><td style='text-align:right;'>0.0000</td><td style='text-align:right;'>0.0000</td><td style='text-align:right;'>0.0000</td><td style='text-align:right;'>0.0000</td><td style='text-align:right;'>0.0000</td><td style='text-align:right;'>0.0000</td><td style='text-align:right;'>0.0000</td><td style='text-align:right;'>0.0000</td><td style='text-align:right;'>0.0000</td><td style='text-align:right;'>0.0000</td><td style='text-align:right;'>0.0000</td><td style='text-align:right;'>0.0000</td><td style='text-align:right;'>0.0000</td><td style='text-align:right;'>0.0000</td><td style='text-align:right;'>0.0000</td><td style='text-align:right;'>0.0000</td><td style='text-align:right;'>0.0000</td><td style='text-align:right;'>0.0000</td><td style='text-align:right;'>0.0000</td></tr>\n",
       "<tr><th style='border:1px solid black;color:black;background-color:#BBBBBB'><center>EQUIPEMENT DE FREINAGE</center></th><td style='text-align:right;'>0.0000</td><td style='text-align:right;'>0.0000</td><td style='text-align:right;'>0.0000</td><td style='text-align:right;'>0.0000</td><td style='text-align:right;'>0.0000</td><td style='text-align:right;'>0.0000</td><td style='text-align:right;'>0.0000</td><td style='text-align:right;'>0.0000</td><td style='text-align:right;'>0.0000</td><td style='text-align:right;'>0.0000</td><td style='text-align:right;'>0.0000</td><td style='text-align:right;'>0.0000</td><td style='text-align:right;'>0.0000</td><td style='text-align:right;'>0.0000</td><td style='text-align:right;'>0.0000</td><td style='text-align:right;'>0.0000</td><td style='text-align:right;'>0.0000</td><td style='text-align:right;'>0.0000</td><td style='text-align:right;'>0.0000</td><td style='text-align:right;'>0.0000</td><td style='text-align:right;'>0.0000</td><td style='text-align:right;'>0.0000</td><td style='text-align:right;'>0.0000</td><td style='text-align:right;'>0.0000</td><td style='text-align:right;'>0.0000</td><td style='text-align:right;'>0.0000</td><td style='text-align:right;'>0.0000</td><td style='text-align:right;'>0.0000</td><td style='text-align:right;'>0.0000</td><td style='text-align:right;'>0.0000</td><td style='text-align:right;'>0.0000</td><td style='text-align:right;'>0.0000</td><td style='text-align:right;'>0.0000</td><td style='text-align:right;'>0.0000</td><td style='text-align:right;'>0.0000</td><td style='text-align:right;'>0.0000</td><td style='text-align:right;'>0.0000</td><td style='text-align:right;'>0.0000</td><td style='text-align:right;'>0.0000</td><td style='text-align:right;'>0.0000</td><td style='text-align:right;'>0.0000</td><td style='text-align:right;'>0.0000</td><td style='text-align:right;'>0.0000</td><td style='text-align:right;'>0.0000</td><td style='text-align:right;'>0.0000</td><td style='text-align:right;'>0.0000</td><td style='text-align:right;'>0.0000</td><td style='text-align:right;'>0.0000</td><td style='text-align:right;'>0.0000</td><td style='text-align:right;'>0.0000</td><td style='text-align:right;'>0.0000</td><td style='text-align:right;'>0.0000</td><td style='text-align:right;'>0.0000</td><td style='text-align:right;'>0.0000</td><td style='text-align:right;'>0.0000</td><td style='text-align:right;'>0.0000</td><td style='text-align:right;'>0.0000</td><td style='text-align:right;'>0.0000</td><td style='text-align:right;'>0.0000</td><td style='text-align:right;'>0.0000</td><td style='text-align:right;'>0.0000</td><td style='text-align:right;'>0.0000</td><td style='text-align:right;'>0.0000</td><td style='text-align:right;'>0.0000</td><td style='text-align:right;'>0.0000</td><td style='text-align:right;'>0.0000</td><td style='text-align:right;'>0.0000</td><td style='text-align:right;'>0.0000</td><td style='text-align:right;'>0.0000</td><td style='text-align:right;'>0.0000</td><td style='text-align:right;'>0.0000</td><td style='text-align:right;'>0.0000</td><td style='text-align:right;'>0.0000</td><td style='text-align:right;'>0.0000</td><td style='text-align:right;'>0.0000</td><td style='text-align:right;'>0.0000</td><td style='text-align:right;'>0.0000</td><td style='text-align:right;'>0.0000</td><td style='text-align:right;'>0.0000</td><td style='text-align:right;'>0.0000</td><td style='text-align:right;'>0.0000</td><td style='text-align:right;'>0.0000</td><td style='text-align:right;'>0.0000</td><td style='text-align:right;'>0.0000</td><td style='text-align:right;'>0.0000</td><td style='text-align:right;'>0.0000</td><td style='text-align:right;'>0.0000</td><td style='text-align:right;'>0.0000</td><td style='text-align:right;'>0.0000</td><td style='text-align:right;'>0.0000</td><td style='text-align:right;'>0.0000</td><td style='text-align:right;'>0.0000</td><td style='text-align:right;'>0.0000</td><td style='text-align:right;'>0.0000</td><td style='text-align:right;'>0.0000</td><td style='text-align:right;'>0.0000</td><td style='text-align:right;'>0.0000</td><td style='text-align:right;'>0.0000</td><td style='text-align:right;'>0.0000</td><td style='text-align:right;'>0.0000</td><td style='text-align:right;'>0.0000</td><td style='text-align:right;'>0.0000</td><td style='text-align:right;'>0.0000</td><td style='text-align:right;'>0.0000</td><td style='text-align:right;'>0.0000</td><td style='text-align:right;'>0.0000</td><td style='text-align:right;'>0.0000</td><td style='text-align:right;'>0.0000</td><td style='text-align:right;'>0.0000</td><td style='text-align:right;'>0.0000</td><td style='text-align:right;'>0.0000</td><td style='text-align:right;'>0.0000</td><td style='text-align:right;'>0.0000</td><td style='text-align:right;'>0.0000</td><td style='text-align:right;'>0.0000</td><td style='text-align:right;'>0.0000</td></tr>\n",
       "<tr><th style='border:1px solid black;color:black;background-color:#BBBBBB'><center>EQUIPEMENT DE MOTORISATION</center></th><td style='text-align:right;'>0.0000</td><td style='text-align:right;'>0.0000</td><td style='text-align:right;'>0.0000</td><td style='text-align:right;'>0.0000</td><td style='text-align:right;'>0.0000</td><td style='text-align:right;'>0.0000</td><td style='text-align:right;'>0.0000</td><td style='text-align:right;'>0.0000</td><td style='text-align:right;'>0.0000</td><td style='text-align:right;'>0.0000</td><td style='text-align:right;'>0.0000</td><td style='text-align:right;'>0.0000</td><td style='text-align:right;'>0.0000</td><td style='text-align:right;'>0.0000</td><td style='text-align:right;'>0.0000</td><td style='text-align:right;'>0.0000</td><td style='text-align:right;'>0.0000</td><td style='text-align:right;'>0.0000</td><td style='text-align:right;'>0.0000</td><td style='text-align:right;'>0.0000</td><td style='text-align:right;'>0.0000</td><td style='text-align:right;'>0.0000</td><td style='text-align:right;'>0.0000</td><td style='text-align:right;'>0.0000</td><td style='text-align:right;'>0.0000</td><td style='text-align:right;'>0.0000</td><td style='text-align:right;'>0.0000</td><td style='text-align:right;'>0.0000</td><td style='text-align:right;'>0.0000</td><td style='text-align:right;'>0.0000</td><td style='text-align:right;'>0.0000</td><td style='text-align:right;'>0.0000</td><td style='text-align:right;'>0.0000</td><td style='text-align:right;'>0.0000</td><td style='text-align:right;'>0.0000</td><td style='text-align:right;'>0.0000</td><td style='text-align:right;'>0.0000</td><td style='text-align:right;'>0.0000</td><td style='text-align:right;'>0.0000</td><td style='text-align:right;'>0.0000</td><td style='text-align:right;'>0.0000</td><td style='text-align:right;'>0.0000</td><td style='text-align:right;'>0.0000</td><td style='text-align:right;'>0.0000</td><td style='text-align:right;'>0.0000</td><td style='text-align:right;'>0.0000</td><td style='text-align:right;'>0.0000</td><td style='text-align:right;'>0.0000</td><td style='text-align:right;'>0.0000</td><td style='text-align:right;'>0.0000</td><td style='text-align:right;'>0.0000</td><td style='text-align:right;'>0.0000</td><td style='text-align:right;'>0.0000</td><td style='text-align:right;'>0.0000</td><td style='text-align:right;'>0.0000</td><td style='text-align:right;'>0.0000</td><td style='text-align:right;'>0.0000</td><td style='text-align:right;'>0.0000</td><td style='text-align:right;'>0.0000</td><td style='text-align:right;'>0.0000</td><td style='text-align:right;'>0.0000</td><td style='text-align:right;'>0.0000</td><td style='text-align:right;'>0.0000</td><td style='text-align:right;'>0.0000</td><td style='text-align:right;'>0.0000</td><td style='text-align:right;'>0.0000</td><td style='text-align:right;'>0.0000</td><td style='text-align:right;'>0.0000</td><td style='text-align:right;'>0.0000</td><td style='text-align:right;'>0.0000</td><td style='text-align:right;'>0.0000</td><td style='text-align:right;'>0.0000</td><td style='text-align:right;'>0.0000</td><td style='text-align:right;'>0.0000</td><td style='text-align:right;'>0.0000</td><td style='text-align:right;'>0.0000</td><td style='text-align:right;'>0.0000</td><td style='text-align:right;'>0.0000</td><td style='text-align:right;'>0.0000</td><td style='text-align:right;'>0.0000</td><td style='text-align:right;'>0.0000</td><td style='text-align:right;'>0.0000</td><td style='text-align:right;'>0.0000</td><td style='text-align:right;'>0.0000</td><td style='text-align:right;'>0.0000</td><td style='text-align:right;'>0.0000</td><td style='text-align:right;'>0.0000</td><td style='text-align:right;'>0.0000</td><td style='text-align:right;'>0.0000</td><td style='text-align:right;'>0.0000</td><td style='text-align:right;'>0.0000</td><td style='text-align:right;'>0.0000</td><td style='text-align:right;'>0.0000</td><td style='text-align:right;'>0.0000</td><td style='text-align:right;'>0.0000</td><td style='text-align:right;'>0.0000</td><td style='text-align:right;'>0.0000</td><td style='text-align:right;'>0.0000</td><td style='text-align:right;'>0.0000</td><td style='text-align:right;'>0.0000</td><td style='text-align:right;'>0.0000</td><td style='text-align:right;'>0.0000</td><td style='text-align:right;'>0.0000</td><td style='text-align:right;'>0.0000</td><td style='text-align:right;'>0.0000</td><td style='text-align:right;'>0.0000</td><td style='text-align:right;'>0.0000</td><td style='text-align:right;'>0.0000</td><td style='text-align:right;'>0.0000</td><td style='text-align:right;'>0.0000</td><td style='text-align:right;'>0.0000</td><td style='text-align:right;'>0.0000</td><td style='text-align:right;'>0.0000</td><td style='text-align:right;'>0.0000</td><td style='text-align:right;'>0.0000</td><td style='text-align:right;'>0.0000</td></tr>\n",
       "<tr><th style='border:1px solid black;color:black;background-color:#BBBBBB'><center>EQUIPEMENT DE TRANSMISSION</center></th><td style='text-align:right;'>0.0000</td><td style='text-align:right;'>0.0000</td><td style='text-align:right;'>0.0000</td><td style='text-align:right;'>0.0000</td><td style='text-align:right;'>0.0000</td><td style='text-align:right;'>0.0000</td><td style='text-align:right;'>0.0000</td><td style='text-align:right;'>0.0000</td><td style='text-align:right;'>0.0000</td><td style='text-align:right;'>0.0000</td><td style='text-align:right;'>0.0000</td><td style='text-align:right;'>0.0000</td><td style='text-align:right;'>0.0000</td><td style='text-align:right;'>0.0000</td><td style='text-align:right;'>0.0000</td><td style='text-align:right;'>0.0000</td><td style='text-align:right;'>0.0000</td><td style='text-align:right;'>0.0000</td><td style='text-align:right;'>0.0000</td><td style='text-align:right;'>0.0000</td><td style='text-align:right;'>0.0000</td><td style='text-align:right;'>0.0000</td><td style='text-align:right;'>0.0000</td><td style='text-align:right;'>0.0000</td><td style='text-align:right;'>0.0000</td><td style='text-align:right;'>0.0000</td><td style='text-align:right;'>0.0000</td><td style='text-align:right;'>0.0000</td><td style='text-align:right;'>0.0000</td><td style='text-align:right;'>0.0000</td><td style='text-align:right;'>0.0000</td><td style='text-align:right;'>0.0000</td><td style='text-align:right;'>0.0000</td><td style='text-align:right;'>0.0000</td><td style='text-align:right;'>0.0000</td><td style='text-align:right;'>0.0000</td><td style='text-align:right;'>0.0000</td><td style='text-align:right;'>0.0000</td><td style='text-align:right;'>0.0000</td><td style='text-align:right;'>0.0000</td><td style='text-align:right;'>0.0000</td><td style='text-align:right;'>0.0000</td><td style='text-align:right;'>0.0000</td><td style='text-align:right;'>0.0000</td><td style='text-align:right;'>0.0000</td><td style='text-align:right;'>0.0000</td><td style='text-align:right;'>0.0000</td><td style='text-align:right;'>0.0000</td><td style='text-align:right;'>0.0000</td><td style='text-align:right;'>0.0000</td><td style='text-align:right;'>0.0000</td><td style='text-align:right;'>0.0000</td><td style='text-align:right;'>0.0000</td><td style='text-align:right;'>0.0000</td><td style='text-align:right;'>0.0000</td><td style='text-align:right;'>0.0000</td><td style='text-align:right;'>0.0000</td><td style='text-align:right;'>0.0000</td><td style='text-align:right;'>0.0000</td><td style='text-align:right;'>0.0000</td><td style='text-align:right;'>0.0000</td><td style='text-align:right;'>0.0000</td><td style='text-align:right;'>0.0000</td><td style='text-align:right;'>0.0000</td><td style='text-align:right;'>0.0000</td><td style='text-align:right;'>0.0000</td><td style='text-align:right;'>0.0000</td><td style='text-align:right;'>0.0000</td><td style='text-align:right;'>0.0000</td><td style='text-align:right;'>0.0000</td><td style='text-align:right;'>0.0000</td><td style='text-align:right;'>0.0000</td><td style='text-align:right;'>0.0000</td><td style='text-align:right;'>0.0000</td><td style='text-align:right;'>0.0000</td><td style='text-align:right;'>0.0000</td><td style='text-align:right;'>0.0000</td><td style='text-align:right;'>0.0000</td><td style='text-align:right;'>0.0000</td><td style='text-align:right;'>0.0000</td><td style='text-align:right;'>0.0000</td><td style='text-align:right;'>0.0000</td><td style='text-align:right;'>0.0000</td><td style='text-align:right;'>0.0000</td><td style='text-align:right;'>0.0000</td><td style='text-align:right;'>0.0000</td><td style='text-align:right;'>0.0000</td><td style='text-align:right;'>0.0000</td><td style='text-align:right;'>0.0000</td><td style='text-align:right;'>0.0000</td><td style='text-align:right;'>0.0000</td><td style='text-align:right;'>0.0000</td><td style='text-align:right;'>0.0000</td><td style='text-align:right;'>0.0000</td><td style='text-align:right;'>0.0000</td><td style='text-align:right;'>0.0000</td><td style='text-align:right;'>0.0000</td><td style='text-align:right;'>0.0000</td><td style='text-align:right;'>0.0000</td><td style='text-align:right;'>0.0000</td><td style='text-align:right;'>0.0000</td><td style='text-align:right;'>0.0000</td><td style='text-align:right;'>0.0000</td><td style='text-align:right;'>0.0000</td><td style='text-align:right;'>0.0000</td><td style='text-align:right;'>0.0000</td><td style='text-align:right;'>0.0000</td><td style='text-align:right;'>0.0000</td><td style='text-align:right;'>0.0000</td><td style='text-align:right;'>0.0000</td><td style='text-align:right;'>0.0000</td><td style='text-align:right;'>0.0000</td><td style='text-align:right;'>0.0000</td><td style='text-align:right;'>0.0000</td><td style='text-align:right;'>0.0000</td><td style='text-align:right;'>0.0000</td></tr>\n",
       "<tr><th style='border:1px solid black;color:black;background-color:#BBBBBB'><center>EQUIPEMENT ELECTRIQUE</center></th><td style='text-align:right;'>0.0000</td><td style='text-align:right;'>0.0000</td><td style='text-align:right;'>0.0000</td><td style='text-align:right;'>0.0000</td><td style='text-align:right;'>0.0000</td><td style='text-align:right;'>0.0000</td><td style='text-align:right;'>0.0000</td><td style='text-align:right;'>0.0000</td><td style='text-align:right;'>0.0000</td><td style='text-align:right;'>0.0000</td><td style='text-align:right;'>0.0000</td><td style='text-align:right;'>0.0000</td><td style='text-align:right;'>0.0000</td><td style='text-align:right;'>0.0000</td><td style='text-align:right;'>0.0000</td><td style='text-align:right;'>0.0000</td><td style='text-align:right;'>0.0000</td><td style='text-align:right;'>0.0000</td><td style='text-align:right;'>0.0000</td><td style='text-align:right;'>0.0000</td><td style='text-align:right;'>0.0000</td><td style='text-align:right;'>0.0000</td><td style='text-align:right;'>0.0000</td><td style='text-align:right;'>0.0000</td><td style='text-align:right;'>0.0000</td><td style='text-align:right;'>0.0000</td><td style='text-align:right;'>0.0000</td><td style='text-align:right;'>0.0000</td><td style='text-align:right;'>0.0000</td><td style='text-align:right;'>0.0000</td><td style='text-align:right;'>0.0000</td><td style='text-align:right;'>0.0000</td><td style='text-align:right;'>0.0000</td><td style='text-align:right;'>0.0000</td><td style='text-align:right;'>0.0000</td><td style='text-align:right;'>0.0000</td><td style='text-align:right;'>0.0000</td><td style='text-align:right;'>0.0000</td><td style='text-align:right;'>0.0000</td><td style='text-align:right;'>0.0000</td><td style='text-align:right;'>0.0000</td><td style='text-align:right;'>0.0000</td><td style='text-align:right;'>0.0000</td><td style='text-align:right;'>0.0000</td><td style='text-align:right;'>0.0000</td><td style='text-align:right;'>0.0000</td><td style='text-align:right;'>0.0000</td><td style='text-align:right;'>0.0000</td><td style='text-align:right;'>0.0000</td><td style='text-align:right;'>0.0000</td><td style='text-align:right;'>0.0000</td><td style='text-align:right;'>0.0000</td><td style='text-align:right;'>0.0000</td><td style='text-align:right;'>0.0000</td><td style='text-align:right;'>0.0000</td><td style='text-align:right;'>0.0000</td><td style='text-align:right;'>0.0000</td><td style='text-align:right;'>0.0000</td><td style='text-align:right;'>0.0000</td><td style='text-align:right;'>0.0000</td><td style='text-align:right;'>0.0000</td><td style='text-align:right;'>0.0000</td><td style='text-align:right;'>0.0000</td><td style='text-align:right;'>0.0000</td><td style='text-align:right;'>0.0000</td><td style='text-align:right;'>0.0000</td><td style='text-align:right;'>0.0000</td><td style='text-align:right;'>0.0000</td><td style='text-align:right;'>0.0000</td><td style='text-align:right;'>0.0000</td><td style='text-align:right;'>0.0000</td><td style='text-align:right;'>0.0000</td><td style='text-align:right;'>0.0000</td><td style='text-align:right;'>0.0000</td><td style='text-align:right;'>0.0000</td><td style='text-align:right;'>0.0000</td><td style='text-align:right;'>0.0000</td><td style='text-align:right;'>0.0000</td><td style='text-align:right;'>0.0000</td><td style='text-align:right;'>0.0000</td><td style='text-align:right;'>0.0000</td><td style='text-align:right;'>0.0000</td><td style='text-align:right;'>0.0000</td><td style='text-align:right;'>0.0000</td><td style='text-align:right;'>0.0000</td><td style='text-align:right;'>0.0000</td><td style='text-align:right;'>0.0000</td><td style='text-align:right;'>0.0000</td><td style='text-align:right;'>0.0000</td><td style='text-align:right;'>0.0000</td><td style='text-align:right;'>0.0000</td><td style='text-align:right;'>0.0000</td><td style='text-align:right;'>0.0000</td><td style='text-align:right;'>0.0000</td><td style='text-align:right;'>0.0000</td><td style='text-align:right;'>0.0000</td><td style='text-align:right;'>0.0000</td><td style='text-align:right;'>0.0000</td><td style='text-align:right;'>0.0000</td><td style='text-align:right;'>0.0000</td><td style='text-align:right;'>0.0000</td><td style='text-align:right;'>0.0000</td><td style='text-align:right;'>0.0000</td><td style='text-align:right;'>0.0000</td><td style='text-align:right;'>0.0000</td><td style='text-align:right;'>0.0000</td><td style='text-align:right;'>0.0000</td><td style='text-align:right;'>0.0000</td><td style='text-align:right;'>0.0000</td><td style='text-align:right;'>0.0000</td><td style='text-align:right;'>0.0000</td><td style='text-align:right;'>0.0000</td><td style='text-align:right;'>0.0000</td><td style='text-align:right;'>0.0000</td><td style='text-align:right;'>0.0000</td><td style='text-align:right;'>0.0000</td></tr>\n",
       "<tr><th style='border:1px solid black;color:black;background-color:#BBBBBB'><center>EQUIPEMENT EMBARQUE</center></th><td style='text-align:right;'>0.0000</td><td style='text-align:right;'>0.0000</td><td style='text-align:right;'>0.0000</td><td style='text-align:right;'>0.0000</td><td style='text-align:right;'>0.0000</td><td style='text-align:right;'>0.0000</td><td style='text-align:right;'>0.0000</td><td style='text-align:right;'>0.0000</td><td style='text-align:right;'>0.0000</td><td style='text-align:right;'>0.0000</td><td style='text-align:right;'>0.0000</td><td style='text-align:right;'>0.0000</td><td style='text-align:right;'>0.0000</td><td style='text-align:right;'>0.0000</td><td style='text-align:right;'>0.0000</td><td style='text-align:right;'>0.0000</td><td style='text-align:right;'>0.0000</td><td style='text-align:right;'>0.0000</td><td style='text-align:right;'>0.0000</td><td style='text-align:right;'>0.0000</td><td style='text-align:right;'>0.0000</td><td style='text-align:right;'>0.0000</td><td style='text-align:right;'>0.0000</td><td style='text-align:right;'>0.0000</td><td style='text-align:right;'>0.0000</td><td style='text-align:right;'>0.0000</td><td style='text-align:right;'>0.0000</td><td style='text-align:right;'>0.0000</td><td style='text-align:right;'>0.0000</td><td style='text-align:right;'>0.0000</td><td style='text-align:right;'>0.0000</td><td style='text-align:right;'>0.0000</td><td style='text-align:right;'>0.0000</td><td style='text-align:right;'>0.0000</td><td style='text-align:right;'>0.0000</td><td style='text-align:right;'>0.0000</td><td style='text-align:right;'>0.0000</td><td style='text-align:right;'>0.0000</td><td style='text-align:right;'>0.0000</td><td style='text-align:right;'>0.0000</td><td style='text-align:right;'>0.0000</td><td style='text-align:right;'>0.0000</td><td style='text-align:right;'>0.0000</td><td style='text-align:right;'>0.0000</td><td style='text-align:right;'>0.0000</td><td style='text-align:right;'>0.0000</td><td style='text-align:right;'>0.0000</td><td style='text-align:right;'>0.0000</td><td style='text-align:right;'>0.0000</td><td style='text-align:right;'>0.0000</td><td style='text-align:right;'>0.0000</td><td style='text-align:right;'>0.0000</td><td style='text-align:right;'>0.0000</td><td style='text-align:right;'>0.0000</td><td style='text-align:right;'>0.0000</td><td style='text-align:right;'>0.0000</td><td style='text-align:right;'>0.0000</td><td style='text-align:right;'>0.0000</td><td style='text-align:right;'>0.0000</td><td style='text-align:right;'>0.0000</td><td style='text-align:right;'>0.0000</td><td style='text-align:right;'>0.0000</td><td style='text-align:right;'>0.0000</td><td style='text-align:right;'>0.0000</td><td style='text-align:right;'>0.0000</td><td style='text-align:right;'>0.0000</td><td style='text-align:right;'>0.0000</td><td style='text-align:right;'>0.0000</td><td style='text-align:right;'>0.0000</td><td style='text-align:right;'>0.0000</td><td style='text-align:right;'>0.0000</td><td style='text-align:right;'>0.0000</td><td style='text-align:right;'>0.0000</td><td style='text-align:right;'>0.0000</td><td style='text-align:right;'>0.0000</td><td style='text-align:right;'>0.0000</td><td style='text-align:right;'>0.0000</td><td style='text-align:right;'>0.0000</td><td style='text-align:right;'>0.0000</td><td style='text-align:right;'>0.0000</td><td style='text-align:right;'>0.0000</td><td style='text-align:right;'>0.0000</td><td style='text-align:right;'>0.0000</td><td style='text-align:right;'>0.0000</td><td style='text-align:right;'>0.0000</td><td style='text-align:right;'>0.0000</td><td style='text-align:right;'>0.0000</td><td style='text-align:right;'>0.0000</td><td style='text-align:right;'>0.0000</td><td style='text-align:right;'>0.0000</td><td style='text-align:right;'>0.0000</td><td style='text-align:right;'>0.0000</td><td style='text-align:right;'>0.0000</td><td style='text-align:right;'>0.0000</td><td style='text-align:right;'>0.0000</td><td style='text-align:right;'>0.0000</td><td style='text-align:right;'>0.0000</td><td style='text-align:right;'>0.0000</td><td style='text-align:right;'>0.0000</td><td style='text-align:right;'>0.0000</td><td style='text-align:right;'>0.0000</td><td style='text-align:right;'>0.0000</td><td style='text-align:right;'>0.0000</td><td style='text-align:right;'>0.0000</td><td style='text-align:right;'>0.0000</td><td style='text-align:right;'>0.0000</td><td style='text-align:right;'>0.0000</td><td style='text-align:right;'>0.0000</td><td style='text-align:right;'>0.0000</td><td style='text-align:right;'>0.0000</td><td style='text-align:right;'>0.0000</td><td style='text-align:right;'>0.0000</td><td style='text-align:right;'>0.0000</td><td style='text-align:right;'>0.0000</td><td style='text-align:right;'>0.0000</td><td style='text-align:right;'>0.0000</td></tr>\n",
       "<tr><th style='border:1px solid black;color:black;background-color:#BBBBBB'><center>EQUIPEMENT PNEUMATIQUE</center></th><td style='text-align:right;'>0.0000</td><td style='text-align:right;'>0.0000</td><td style='text-align:right;'>0.0000</td><td style='text-align:right;'>0.0000</td><td style='text-align:right;'>0.0000</td><td style='text-align:right;'>0.0000</td><td style='text-align:right;'>0.0000</td><td style='text-align:right;'>0.0000</td><td style='text-align:right;'>0.0000</td><td style='text-align:right;'>0.0000</td><td style='text-align:right;'>0.0000</td><td style='text-align:right;'>0.0000</td><td style='text-align:right;'>0.0000</td><td style='text-align:right;'>0.0000</td><td style='text-align:right;'>0.0000</td><td style='text-align:right;'>0.0000</td><td style='text-align:right;'>0.0000</td><td style='text-align:right;'>0.0000</td><td style='text-align:right;'>0.0000</td><td style='text-align:right;'>0.0000</td><td style='text-align:right;'>0.0000</td><td style='text-align:right;'>0.0000</td><td style='text-align:right;'>0.0000</td><td style='text-align:right;'>0.0000</td><td style='text-align:right;'>0.0000</td><td style='text-align:right;'>0.0000</td><td style='text-align:right;'>0.0000</td><td style='text-align:right;'>0.0000</td><td style='text-align:right;'>0.0000</td><td style='text-align:right;'>0.0000</td><td style='text-align:right;'>0.0000</td><td style='text-align:right;'>0.0000</td><td style='text-align:right;'>0.0000</td><td style='text-align:right;'>0.0000</td><td style='text-align:right;'>0.0000</td><td style='text-align:right;'>0.0000</td><td style='text-align:right;'>0.0000</td><td style='text-align:right;'>0.0000</td><td style='text-align:right;'>0.0000</td><td style='text-align:right;'>0.0000</td><td style='text-align:right;'>0.0000</td><td style='text-align:right;'>0.0000</td><td style='text-align:right;'>0.0000</td><td style='text-align:right;'>0.0000</td><td style='text-align:right;'>0.0000</td><td style='text-align:right;'>0.0000</td><td style='text-align:right;'>0.0000</td><td style='text-align:right;'>0.0000</td><td style='text-align:right;'>0.0000</td><td style='text-align:right;'>0.0000</td><td style='text-align:right;'>0.0000</td><td style='text-align:right;'>0.0000</td><td style='text-align:right;'>0.0000</td><td style='text-align:right;'>0.0000</td><td style='text-align:right;'>0.0000</td><td style='text-align:right;'>0.0000</td><td style='text-align:right;'>0.0000</td><td style='text-align:right;'>0.0000</td><td style='text-align:right;'>0.0000</td><td style='text-align:right;'>0.0000</td><td style='text-align:right;'>0.0000</td><td style='text-align:right;'>0.0000</td><td style='text-align:right;'>0.0000</td><td style='text-align:right;'>0.0000</td><td style='text-align:right;'>0.0000</td><td style='text-align:right;'>0.0000</td><td style='text-align:right;'>0.0000</td><td style='text-align:right;'>0.0000</td><td style='text-align:right;'>0.0000</td><td style='text-align:right;'>0.0000</td><td style='text-align:right;'>0.0000</td><td style='text-align:right;'>0.0000</td><td style='text-align:right;'>0.0000</td><td style='text-align:right;'>0.0000</td><td style='text-align:right;'>0.0000</td><td style='text-align:right;'>0.0000</td><td style='text-align:right;'>0.0000</td><td style='text-align:right;'>0.0000</td><td style='text-align:right;'>0.0000</td><td style='text-align:right;'>0.0000</td><td style='text-align:right;'>0.0000</td><td style='text-align:right;'>0.0000</td><td style='text-align:right;'>0.0000</td><td style='text-align:right;'>0.0000</td><td style='text-align:right;'>0.0000</td><td style='text-align:right;'>0.0000</td><td style='text-align:right;'>0.0000</td><td style='text-align:right;'>0.0000</td><td style='text-align:right;'>0.0000</td><td style='text-align:right;'>0.0000</td><td style='text-align:right;'>0.0000</td><td style='text-align:right;'>0.0000</td><td style='text-align:right;'>0.0000</td><td style='text-align:right;'>0.0000</td><td style='text-align:right;'>0.0000</td><td style='text-align:right;'>0.0000</td><td style='text-align:right;'>0.0000</td><td style='text-align:right;'>0.0000</td><td style='text-align:right;'>0.0000</td><td style='text-align:right;'>0.0000</td><td style='text-align:right;'>0.0000</td><td style='text-align:right;'>0.0000</td><td style='text-align:right;'>0.0000</td><td style='text-align:right;'>0.0000</td><td style='text-align:right;'>0.0000</td><td style='text-align:right;'>0.0000</td><td style='text-align:right;'>0.0000</td><td style='text-align:right;'>0.0000</td><td style='text-align:right;'>0.0000</td><td style='text-align:right;'>0.0000</td><td style='text-align:right;'>0.0000</td><td style='text-align:right;'>0.0000</td><td style='text-align:right;'>0.0000</td><td style='text-align:right;'>0.0000</td><td style='text-align:right;'>0.0000</td><td style='text-align:right;'>0.0000</td></tr>\n",
       "</table>"
      ],
      "text/plain": [
       "(pyAgrum.Potential<double>@000002551F43AD90) \n",
       "      ||  SIG_ORGANE                                                                                                                                                                                                                                                                                                                                                                                                                                                                                                                                                                                                                                                                                                                                                                                                                                                                                                                                                                                                                                                                                                                                                                                           |\n",
       "SYSTEM||ABS/ASR  |ACCELERAT|ACCOUDOIR|AERATEURS|AIR      |ALARME DI|ANNONCEUR|ANNONCEUR|ARRET MOT|ARRET URG|ARTICULAT|AUTO-RADI|AVTT     |BAGUETTE |BARRE    |BOITE VIT|BOITIER G|BOITIER P|BOUTON/ P|BRUITEUR |CAOU.JOIN|CARBURANT|CHAUFFAGE|CLIGNOTAN|CLOCHE EC|COLMATAGE|COMBINE R|COMMANDE |COMMODO  |COMPTAGE |COMPTEUR/|DEGIVRAGE|DEMANDE A|DEMARRAGE|DEPART AU|DIRECTION|EAU      |ECHAPPEME|ECLAIRAGE|ECLAIRAGE|ESSUIE-GL|EXTINCTEU|FEU ANTIB|FEU CLIGN|FEU GABAR|FEU MARCH|FEU STOP |FREIN A P|FREIN DE |FREIN EXP|GIROUETTE|GIROUETTE|GLACE/BAI|HABILLAGE|HAUT-PARL|HUILE DIR|HUILE MOT|INFORMATI|ISSUE SEC|KLAXON/GO|LAVE-GLAC|LUBRIMATI|LUNETTE-A|MANOMETRE|MARCHE AR|MARTEAU B|MICRO    |MOTEUR   |PANNEAU  |PAPIER BU|PARE-BRIS|PARE-CHOC|PARE-JAMB|PARE-SOLE|PEDALE AC|PEDALE DE|PILE BTSA|POIGNEE  |PORTE    |PORTILLON|PUBLICITE|PUPITRE.I|PURGE POR|RADIO    |RALENTI  |RALENTISS|RAMPE UFR|RETROVISE|ROUE/PNEU|S A E I V|SECURITE |SELECTEUR|SELECTEUR|SELF-SERV|SIEGE MAC|SIEGE VOY|SIGNALEME|SOUFFLET |SUSPENSIO|SYSTEME D|TACHYGRAP|TEMOIN DI|TIROIR CA|TOIT     |TRAPPE GA|VENTILATI|VIDEO POR|VIDEO-SUR|VITESSE  |VOITURE  |VOLANT   |VOYAGEUR |VOYANT AL|VOYANT AL|VOYANT DE|VOYANT IT|\n",
       "------||---------|---------|---------|---------|---------|---------|---------|---------|---------|---------|---------|---------|---------|---------|---------|---------|---------|---------|---------|---------|---------|---------|---------|---------|---------|---------|---------|---------|---------|---------|---------|---------|---------|---------|---------|---------|---------|---------|---------|---------|---------|---------|---------|---------|---------|---------|---------|---------|---------|---------|---------|---------|---------|---------|---------|---------|---------|---------|---------|---------|---------|---------|---------|---------|---------|---------|---------|---------|---------|---------|---------|---------|---------|---------|---------|---------|---------|---------|---------|---------|---------|---------|---------|---------|---------|---------|---------|---------|---------|---------|---------|---------|---------|---------|---------|---------|---------|---------|---------|---------|---------|---------|---------|---------|---------|---------|---------|---------|---------|---------|---------|---------|---------|---------|---------|---------|\n",
       "DIVERS|| 0.0000  | 0.0000  | 0.0000  | 0.0000  | 0.0000  | 0.0000  | 0.0000  | 0.0000  | 0.0000  | 0.0000  | 0.0000  | 0.0000  | 0.0000  | 0.0000  | 0.0000  | 0.0000  | 0.0000  | 0.0000  | 0.0000  | 0.0000  | 0.0000  | 0.0000  | 0.0000  | 0.0000  | 0.0000  | 0.0000  | 0.0000  | 0.0000  | 0.0000  | 0.0000  | 0.0000  | 0.0000  | 0.0000  | 0.0000  | 0.0000  | 0.0000  | 0.0000  | 0.0000  | 0.0000  | 0.0000  | 0.0000  | 0.0000  | 0.0000  | 0.0000  | 0.0000  | 0.0000  | 0.0000  | 0.0000  | 0.0000  | 0.0000  | 0.0000  | 0.0000  | 0.0000  | 0.0000  | 0.0000  | 0.0000  | 0.0000  | 0.0000  | 0.0000  | 0.0000  | 0.0000  | 0.0000  | 0.0000  | 0.0000  | 0.0000  | 0.0000  | 0.0000  | 0.0000  | 0.0000  | 0.0000  | 0.0000  | 0.0000  | 0.0000  | 0.0000  | 0.0000  | 0.0000  | 0.0000  | 0.0000  | 0.0000  | 0.0000  | 0.0000  | 0.0000  | 0.0000  | 0.0000  | 0.0000  | 0.0000  | 0.0000  | 0.0000  | 0.0000  | 0.0000  | 0.0000  | 0.0000  | 0.0000  | 0.0000  | 0.0000  | 0.0000  | 0.0000  | 0.0000  | 0.0000  | 0.0000  | 0.0000  | 0.0000  | 0.0000  | 0.0000  | 0.0000  | 0.0000  | 0.0000  | 0.0000  | 0.0000  | 0.0000  | 0.0000  | 0.0000  | 0.0000  | 0.0000  | 0.0000  | 0.0000  |\n",
       "EQUIPE|| 0.0000  | 0.0000  | 0.0000  | 0.0000  | 0.0000  | 0.0000  | 0.0000  | 0.0000  | 0.0000  | 0.0000  | 0.0000  | 0.0000  | 0.0000  | 0.0000  | 0.0000  | 0.0000  | 0.0000  | 0.0000  | 0.0000  | 0.0000  | 0.0000  | 0.0000  | 0.0000  | 0.0000  | 0.0000  | 0.0000  | 0.0000  | 0.0000  | 0.0000  | 0.0000  | 0.0000  | 0.0000  | 0.0000  | 0.0000  | 0.0000  | 0.0000  | 0.0000  | 0.0000  | 0.0000  | 0.0000  | 0.0000  | 0.0000  | 0.0000  | 0.0000  | 0.0000  | 0.0000  | 0.0000  | 0.0000  | 0.0000  | 0.0000  | 0.0000  | 0.0000  | 0.0000  | 0.0000  | 0.0000  | 0.0000  | 0.0000  | 0.0000  | 0.0000  | 0.0000  | 0.0000  | 0.0000  | 0.0000  | 0.0000  | 0.0000  | 0.0000  | 0.0000  | 0.0000  | 0.0000  | 0.0000  | 0.0000  | 0.0000  | 0.0000  | 0.0000  | 0.0000  | 0.0000  | 0.0000  | 0.0000  | 0.0000  | 0.0000  | 0.0000  | 0.0000  | 0.0000  | 0.0000  | 0.0000  | 0.0000  | 0.0000  | 0.0000  | 0.0000  | 0.0000  | 0.0000  | 0.0000  | 0.0000  | 0.0000  | 0.0000  | 0.0000  | 0.0000  | 0.0000  | 0.0000  | 0.0000  | 0.0000  | 0.0000  | 0.0000  | 0.0000  | 0.0000  | 0.0000  | 0.0000  | 0.0000  | 0.0000  | 0.0000  | 0.0000  | 0.0000  | 0.0000  | 0.0000  | 0.0000  | 0.0000  |\n",
       "EQUIPE|| 0.0000  | 0.0000  | 0.0000  | 0.0000  | 0.0000  | 0.0000  | 0.0000  | 0.0000  | 0.0000  | 0.0000  | 0.0000  | 0.0000  | 0.0000  | 0.0000  | 0.0000  | 0.0000  | 0.0000  | 0.0000  | 0.0000  | 0.0000  | 0.0000  | 0.0000  | 0.0000  | 0.0000  | 0.0000  | 0.0000  | 0.0000  | 0.0000  | 0.0000  | 0.0000  | 0.0000  | 0.0000  | 0.0000  | 0.0000  | 0.0000  | 0.0000  | 0.0000  | 0.0000  | 0.0000  | 0.0000  | 0.0000  | 0.0000  | 0.0000  | 0.0000  | 0.0000  | 0.0000  | 0.0000  | 0.0000  | 0.0000  | 0.0000  | 0.0000  | 0.0000  | 0.0000  | 0.0000  | 0.0000  | 0.0000  | 0.0000  | 0.0000  | 0.0000  | 0.0000  | 0.0000  | 0.0000  | 0.0000  | 0.0000  | 0.0000  | 0.0000  | 0.0000  | 0.0000  | 0.0000  | 0.0000  | 0.0000  | 0.0000  | 0.0000  | 0.0000  | 0.0000  | 0.0000  | 0.0000  | 0.0000  | 0.0000  | 0.0000  | 0.0000  | 0.0000  | 0.0000  | 0.0000  | 0.0000  | 0.0000  | 0.0000  | 0.0000  | 0.0000  | 0.0000  | 0.0000  | 0.0000  | 0.0000  | 0.0000  | 0.0000  | 0.0000  | 0.0000  | 0.0000  | 0.0000  | 0.0000  | 0.0000  | 0.0000  | 0.0000  | 0.0000  | 0.0000  | 0.0000  | 0.0000  | 0.0000  | 0.0000  | 0.0000  | 0.0000  | 0.0000  | 0.0000  | 0.0000  | 0.0000  | 0.0000  |\n",
       "EQUIPE|| 0.0000  | 0.0000  | 0.0000  | 0.0000  | 0.0000  | 0.0000  | 0.0000  | 0.0000  | 0.0000  | 0.0000  | 0.0000  | 0.0000  | 0.0000  | 0.0000  | 0.0000  | 0.0000  | 0.0000  | 0.0000  | 0.0000  | 0.0000  | 0.0000  | 0.0000  | 0.0000  | 0.0000  | 0.0000  | 0.0000  | 0.0000  | 0.0000  | 0.0000  | 0.0000  | 0.0000  | 0.0000  | 0.0000  | 0.0000  | 0.0000  | 0.0000  | 0.0000  | 0.0000  | 0.0000  | 0.0000  | 0.0000  | 0.0000  | 0.0000  | 0.0000  | 0.0000  | 0.0000  | 0.0000  | 0.0000  | 0.0000  | 0.0000  | 0.0000  | 0.0000  | 0.0000  | 0.0000  | 0.0000  | 0.0000  | 0.0000  | 0.0000  | 0.0000  | 0.0000  | 0.0000  | 0.0000  | 0.0000  | 0.0000  | 0.0000  | 0.0000  | 0.0000  | 0.0000  | 0.0000  | 0.0000  | 0.0000  | 0.0000  | 0.0000  | 0.0000  | 0.0000  | 0.0000  | 0.0000  | 0.0000  | 0.0000  | 0.0000  | 0.0000  | 0.0000  | 0.0000  | 0.0000  | 0.0000  | 0.0000  | 0.0000  | 0.0000  | 0.0000  | 0.0000  | 0.0000  | 0.0000  | 0.0000  | 0.0000  | 0.0000  | 0.0000  | 0.0000  | 0.0000  | 0.0000  | 0.0000  | 0.0000  | 0.0000  | 0.0000  | 0.0000  | 0.0000  | 0.0000  | 0.0000  | 0.0000  | 0.0000  | 0.0000  | 0.0000  | 0.0000  | 0.0000  | 0.0000  | 0.0000  | 0.0000  |\n",
       "EQUIPE|| 0.0000  | 0.0000  | 0.0000  | 0.0000  | 0.0000  | 0.0000  | 0.0000  | 0.0000  | 0.0000  | 0.0000  | 0.0000  | 0.0000  | 0.0000  | 0.0000  | 0.0000  | 0.0000  | 0.0000  | 0.0000  | 0.0000  | 0.0000  | 0.0000  | 0.0000  | 0.0000  | 0.0000  | 0.0000  | 0.0000  | 0.0000  | 0.0000  | 0.0000  | 0.0000  | 0.0000  | 0.0000  | 0.0000  | 0.0000  | 0.0000  | 0.0000  | 0.0000  | 0.0000  | 0.0000  | 0.0000  | 0.0000  | 0.0000  | 0.0000  | 0.0000  | 0.0000  | 0.0000  | 0.0000  | 0.0000  | 0.0000  | 0.0000  | 0.0000  | 0.0000  | 0.0000  | 0.0000  | 0.0000  | 0.0000  | 0.0000  | 0.0000  | 0.0000  | 0.0000  | 0.0000  | 0.0000  | 0.0000  | 0.0000  | 0.0000  | 0.0000  | 0.0000  | 0.0000  | 0.0000  | 0.0000  | 0.0000  | 0.0000  | 0.0000  | 0.0000  | 0.0000  | 0.0000  | 0.0000  | 0.0000  | 0.0000  | 0.0000  | 0.0000  | 0.0000  | 0.0000  | 0.0000  | 0.0000  | 0.0000  | 0.0000  | 0.0000  | 0.0000  | 0.0000  | 0.0000  | 0.0000  | 0.0000  | 0.0000  | 0.0000  | 0.0000  | 0.0000  | 0.0000  | 0.0000  | 0.0000  | 0.0000  | 0.0000  | 0.0000  | 0.0000  | 0.0000  | 0.0000  | 0.0000  | 0.0000  | 0.0000  | 0.0000  | 0.0000  | 0.0000  | 0.0000  | 0.0000  | 0.0000  | 0.0000  |\n",
       "EQUIPE|| 0.0000  | 0.0000  | 0.0000  | 0.0000  | 0.0000  | 0.0000  | 0.0000  | 0.0000  | 0.0000  | 0.0000  | 0.0000  | 0.0000  | 0.0000  | 0.0000  | 0.0000  | 0.0000  | 0.0000  | 0.0000  | 0.0000  | 0.0000  | 0.0000  | 0.0000  | 0.0000  | 0.0000  | 0.0000  | 0.0000  | 0.0000  | 0.0000  | 0.0000  | 0.0000  | 0.0000  | 0.0000  | 0.0000  | 0.0000  | 0.0000  | 0.0000  | 0.0000  | 0.0000  | 0.0000  | 0.0000  | 0.0000  | 0.0000  | 0.0000  | 0.0000  | 0.0000  | 0.0000  | 0.0000  | 0.0000  | 0.0000  | 0.0000  | 0.0000  | 0.0000  | 0.0000  | 0.0000  | 0.0000  | 0.0000  | 0.0000  | 0.0000  | 0.0000  | 0.0000  | 0.0000  | 0.0000  | 0.0000  | 0.0000  | 0.0000  | 0.0000  | 0.0000  | 0.0000  | 0.0000  | 0.0000  | 0.0000  | 0.0000  | 0.0000  | 0.0000  | 0.0000  | 0.0000  | 0.0000  | 0.0000  | 0.0000  | 0.0000  | 0.0000  | 0.0000  | 0.0000  | 0.0000  | 0.0000  | 0.0000  | 0.0000  | 0.0000  | 0.0000  | 0.0000  | 0.0000  | 0.0000  | 0.0000  | 0.0000  | 0.0000  | 0.0000  | 0.0000  | 0.0000  | 0.0000  | 0.0000  | 0.0000  | 0.0000  | 0.0000  | 0.0000  | 0.0000  | 0.0000  | 0.0000  | 0.0000  | 0.0000  | 0.0000  | 0.0000  | 0.0000  | 0.0000  | 0.0000  | 0.0000  | 0.0000  |\n",
       "EQUIPE|| 0.0000  | 0.0000  | 0.0000  | 0.0000  | 0.0000  | 0.0000  | 0.0000  | 0.0000  | 0.0000  | 0.0000  | 0.0000  | 0.0000  | 0.0000  | 0.0000  | 0.0000  | 0.0000  | 0.0000  | 0.0000  | 0.0000  | 0.0000  | 0.0000  | 0.0000  | 0.0000  | 0.0000  | 0.0000  | 0.0000  | 0.0000  | 0.0000  | 0.0000  | 0.0000  | 0.0000  | 0.0000  | 0.0000  | 0.0000  | 0.0000  | 0.0000  | 0.0000  | 0.0000  | 0.0000  | 0.0000  | 0.0000  | 0.0000  | 0.0000  | 0.0000  | 0.0000  | 0.0000  | 0.0000  | 0.0000  | 0.0000  | 0.0000  | 0.0000  | 0.0000  | 0.0000  | 0.0000  | 0.0000  | 0.0000  | 0.0000  | 0.0000  | 0.0000  | 0.0000  | 0.0000  | 0.0000  | 0.0000  | 0.0000  | 0.0000  | 0.0000  | 0.0000  | 0.0000  | 0.0000  | 0.0000  | 0.0000  | 0.0000  | 0.0000  | 0.0000  | 0.0000  | 0.0000  | 0.0000  | 0.0000  | 0.0000  | 0.0000  | 0.0000  | 0.0000  | 0.0000  | 0.0000  | 0.0000  | 0.0000  | 0.0000  | 0.0000  | 0.0000  | 0.0000  | 0.0000  | 0.0000  | 0.0000  | 0.0000  | 0.0000  | 0.0000  | 0.0000  | 0.0000  | 0.0000  | 0.0000  | 0.0000  | 0.0000  | 0.0000  | 0.0000  | 0.0000  | 0.0000  | 0.0000  | 0.0000  | 0.0000  | 0.0000  | 0.0000  | 0.0000  | 0.0000  | 0.0000  | 0.0000  | 0.0000  |\n",
       "EQUIPE|| 0.0000  | 0.0000  | 0.0000  | 0.0000  | 0.0000  | 0.0000  | 0.0000  | 0.0000  | 0.0000  | 0.0000  | 0.0000  | 0.0000  | 0.0000  | 0.0000  | 0.0000  | 0.0000  | 0.0000  | 0.0000  | 0.0000  | 0.0000  | 0.0000  | 0.0000  | 0.0000  | 0.0000  | 0.0000  | 0.0000  | 0.0000  | 0.0000  | 0.0000  | 0.0000  | 0.0000  | 0.0000  | 0.0000  | 0.0000  | 0.0000  | 0.0000  | 0.0000  | 0.0000  | 0.0000  | 0.0000  | 0.0000  | 0.0000  | 0.0000  | 0.0000  | 0.0000  | 0.0000  | 0.0000  | 0.0000  | 0.0000  | 0.0000  | 0.0000  | 0.0000  | 0.0000  | 0.0000  | 0.0000  | 0.0000  | 0.0000  | 0.0000  | 0.0000  | 0.0000  | 0.0000  | 0.0000  | 0.0000  | 0.0000  | 0.0000  | 0.0000  | 0.0000  | 0.0000  | 0.0000  | 0.0000  | 0.0000  | 0.0000  | 0.0000  | 0.0000  | 0.0000  | 0.0000  | 0.0000  | 0.0000  | 0.0000  | 0.0000  | 0.0000  | 0.0000  | 0.0000  | 0.0000  | 0.0000  | 0.0000  | 0.0000  | 0.0000  | 0.0000  | 0.0000  | 0.0000  | 0.0000  | 0.0000  | 0.0000  | 0.0000  | 0.0000  | 0.0000  | 0.0000  | 0.0000  | 0.0000  | 0.0000  | 0.0000  | 0.0000  | 0.0000  | 0.0000  | 0.0000  | 0.0000  | 0.0000  | 0.0000  | 0.0000  | 0.0000  | 0.0000  | 0.0000  | 0.0000  | 0.0000  | 0.0000  |\n",
       "EQUIPE|| 0.0000  | 0.0000  | 0.0000  | 0.0000  | 0.0000  | 0.0000  | 0.0000  | 0.0000  | 0.0000  | 0.0000  | 0.0000  | 0.0000  | 0.0000  | 0.0000  | 0.0000  | 0.0000  | 0.0000  | 0.0000  | 0.0000  | 0.0000  | 0.0000  | 0.0000  | 0.0000  | 0.0000  | 0.0000  | 0.0000  | 0.0000  | 0.0000  | 0.0000  | 0.0000  | 0.0000  | 0.0000  | 0.0000  | 0.0000  | 0.0000  | 0.0000  | 0.0000  | 0.0000  | 0.0000  | 0.0000  | 0.0000  | 0.0000  | 0.0000  | 0.0000  | 0.0000  | 0.0000  | 0.0000  | 0.0000  | 0.0000  | 0.0000  | 0.0000  | 0.0000  | 0.0000  | 0.0000  | 0.0000  | 0.0000  | 0.0000  | 0.0000  | 0.0000  | 0.0000  | 0.0000  | 0.0000  | 0.0000  | 0.0000  | 0.0000  | 0.0000  | 0.0000  | 0.0000  | 0.0000  | 0.0000  | 0.0000  | 0.0000  | 0.0000  | 0.0000  | 0.0000  | 0.0000  | 0.0000  | 0.0000  | 0.0000  | 0.0000  | 0.0000  | 0.0000  | 0.0000  | 0.0000  | 0.0000  | 0.0000  | 0.0000  | 0.0000  | 0.0000  | 0.0000  | 0.0000  | 0.0000  | 0.0000  | 0.0000  | 0.0000  | 0.0000  | 0.0000  | 0.0000  | 0.0000  | 0.0000  | 0.0000  | 0.0000  | 0.0000  | 0.0000  | 0.0000  | 0.0000  | 0.0000  | 0.0000  | 0.0000  | 0.0000  | 0.0000  | 0.0000  | 0.0000  | 0.0000  | 0.0000  | 0.0000  |\n",
       "EQUIPE|| 0.0000  | 0.0000  | 0.0000  | 0.0000  | 0.0000  | 0.0000  | 0.0000  | 0.0000  | 0.0000  | 0.0000  | 0.0000  | 0.0000  | 0.0000  | 0.0000  | 0.0000  | 0.0000  | 0.0000  | 0.0000  | 0.0000  | 0.0000  | 0.0000  | 0.0000  | 0.0000  | 0.0000  | 0.0000  | 0.0000  | 0.0000  | 0.0000  | 0.0000  | 0.0000  | 0.0000  | 0.0000  | 0.0000  | 0.0000  | 0.0000  | 0.0000  | 0.0000  | 0.0000  | 0.0000  | 0.0000  | 0.0000  | 0.0000  | 0.0000  | 0.0000  | 0.0000  | 0.0000  | 0.0000  | 0.0000  | 0.0000  | 0.0000  | 0.0000  | 0.0000  | 0.0000  | 0.0000  | 0.0000  | 0.0000  | 0.0000  | 0.0000  | 0.0000  | 0.0000  | 0.0000  | 0.0000  | 0.0000  | 0.0000  | 0.0000  | 0.0000  | 0.0000  | 0.0000  | 0.0000  | 0.0000  | 0.0000  | 0.0000  | 0.0000  | 0.0000  | 0.0000  | 0.0000  | 0.0000  | 0.0000  | 0.0000  | 0.0000  | 0.0000  | 0.0000  | 0.0000  | 0.0000  | 0.0000  | 0.0000  | 0.0000  | 0.0000  | 0.0000  | 0.0000  | 0.0000  | 0.0000  | 0.0000  | 0.0000  | 0.0000  | 0.0000  | 0.0000  | 0.0000  | 0.0000  | 0.0000  | 0.0000  | 0.0000  | 0.0000  | 0.0000  | 0.0000  | 0.0000  | 0.0000  | 0.0000  | 0.0000  | 0.0000  | 0.0000  | 0.0000  | 0.0000  | 0.0000  | 0.0000  | 0.0000  |"
      ]
     },
     "execution_count": 26,
     "metadata": {},
     "output_type": "execute_result"
    }
   ],
   "source": [
    "bn.cpt(\"SIG_ORGANE\")"
   ]
  },
  {
   "cell_type": "code",
   "execution_count": 27,
   "metadata": {},
   "outputs": [
    {
     "data": {
      "text/html": [
       "<table style=\"border:1px solid black;\">\n",
       "<tr><th colspan='1'></th>\n",
       "      <th colspan='7' style='border:1px solid black;color:black;background-color:#808080;'><center>KM_GROUP</center>\n",
       "      </th></tr>\n",
       "<tr><th style='border:1px solid black;color:black;background-color:#808080'><center>SYSTEM_N1</center></th><th style='border:1px solid black;border-bottom-style: double;color:black;background-color:#BBBBBB'>\n",
       "      <center>C:0-50k</center></th><th style='border:1px solid black;border-bottom-style: double;color:black;background-color:#BBBBBB'>\n",
       "      <center>C:100k-150k</center></th><th style='border:1px solid black;border-bottom-style: double;color:black;background-color:#BBBBBB'>\n",
       "      <center>C:150k-200k</center></th><th style='border:1px solid black;border-bottom-style: double;color:black;background-color:#BBBBBB'>\n",
       "      <center>C:200k-250k</center></th><th style='border:1px solid black;border-bottom-style: double;color:black;background-color:#BBBBBB'>\n",
       "      <center>C:250k-300k</center></th><th style='border:1px solid black;border-bottom-style: double;color:black;background-color:#BBBBBB'>\n",
       "      <center>C:300k+</center></th><th style='border:1px solid black;border-bottom-style: double;color:black;background-color:#BBBBBB'>\n",
       "      <center>C:50k-100k</center></th></tr>\n",
       "<tr><th style='border:1px solid black;color:black;background-color:#BBBBBB'><center>DIVERS</center></th><td style='text-align:right;'>0.0000</td><td style='text-align:right;'>0.0000</td><td style='text-align:right;'>0.0000</td><td style='text-align:right;'>0.0000</td><td style='text-align:right;'>0.0000</td><td style='text-align:right;'>0.0000</td><td style='text-align:right;'>0.0000</td></tr>\n",
       "<tr><th style='border:1px solid black;color:black;background-color:#BBBBBB'><center>EQUIPEMENT CHASSIS</center></th><td style='text-align:right;'>0.0000</td><td style='text-align:right;'>0.0000</td><td style='text-align:right;'>0.0000</td><td style='text-align:right;'>0.0000</td><td style='text-align:right;'>0.0000</td><td style='text-align:right;'>0.0000</td><td style='text-align:right;'>0.0000</td></tr>\n",
       "<tr><th style='border:1px solid black;color:black;background-color:#BBBBBB'><center>EQUIPEMENT CLIMATIQUE</center></th><td style='text-align:right;'>0.0000</td><td style='text-align:right;'>0.0000</td><td style='text-align:right;'>0.0000</td><td style='text-align:right;'>0.0000</td><td style='text-align:right;'>0.0000</td><td style='text-align:right;'>0.0000</td><td style='text-align:right;'>0.0000</td></tr>\n",
       "<tr><th style='border:1px solid black;color:black;background-color:#BBBBBB'><center>EQUIPEMENT DE CARROSSERIE</center></th><td style='text-align:right;'>0.0000</td><td style='text-align:right;'>0.0000</td><td style='text-align:right;'>0.0000</td><td style='text-align:right;'>0.0000</td><td style='text-align:right;'>0.0000</td><td style='text-align:right;'>0.0000</td><td style='text-align:right;'>0.0000</td></tr>\n",
       "<tr><th style='border:1px solid black;color:black;background-color:#BBBBBB'><center>EQUIPEMENT DE FREINAGE</center></th><td style='text-align:right;'>0.0000</td><td style='text-align:right;'>0.0000</td><td style='text-align:right;'>0.0000</td><td style='text-align:right;'>0.0000</td><td style='text-align:right;'>0.0000</td><td style='text-align:right;'>0.0000</td><td style='text-align:right;'>0.0000</td></tr>\n",
       "<tr><th style='border:1px solid black;color:black;background-color:#BBBBBB'><center>EQUIPEMENT DE MOTORISATION</center></th><td style='text-align:right;'>0.0000</td><td style='text-align:right;'>0.0000</td><td style='text-align:right;'>0.0000</td><td style='text-align:right;'>0.0000</td><td style='text-align:right;'>0.0000</td><td style='text-align:right;'>0.0000</td><td style='text-align:right;'>0.0000</td></tr>\n",
       "<tr><th style='border:1px solid black;color:black;background-color:#BBBBBB'><center>EQUIPEMENT DE TRANSMISSION</center></th><td style='text-align:right;'>0.0000</td><td style='text-align:right;'>0.0000</td><td style='text-align:right;'>0.0000</td><td style='text-align:right;'>0.0000</td><td style='text-align:right;'>0.0000</td><td style='text-align:right;'>0.0000</td><td style='text-align:right;'>0.0000</td></tr>\n",
       "<tr><th style='border:1px solid black;color:black;background-color:#BBBBBB'><center>EQUIPEMENT ELECTRIQUE</center></th><td style='text-align:right;'>0.0000</td><td style='text-align:right;'>0.0000</td><td style='text-align:right;'>0.0000</td><td style='text-align:right;'>0.0000</td><td style='text-align:right;'>0.0000</td><td style='text-align:right;'>0.0000</td><td style='text-align:right;'>0.0000</td></tr>\n",
       "<tr><th style='border:1px solid black;color:black;background-color:#BBBBBB'><center>EQUIPEMENT EMBARQUE</center></th><td style='text-align:right;'>0.0000</td><td style='text-align:right;'>0.0000</td><td style='text-align:right;'>0.0000</td><td style='text-align:right;'>0.0000</td><td style='text-align:right;'>0.0000</td><td style='text-align:right;'>0.0000</td><td style='text-align:right;'>0.0000</td></tr>\n",
       "<tr><th style='border:1px solid black;color:black;background-color:#BBBBBB'><center>EQUIPEMENT PNEUMATIQUE</center></th><td style='text-align:right;'>0.0000</td><td style='text-align:right;'>0.0000</td><td style='text-align:right;'>0.0000</td><td style='text-align:right;'>0.0000</td><td style='text-align:right;'>0.0000</td><td style='text-align:right;'>0.0000</td><td style='text-align:right;'>0.0000</td></tr>\n",
       "</table>"
      ],
      "text/plain": [
       "(pyAgrum.Potential<double>@000002551F43AB30) \n",
       "      ||  KM_GROUP                                                           |\n",
       "SYSTEM||C:0-50k  |C:100k-15|C:150k-20|C:200k-25|C:250k-30|C:300k+  |C:50k-100|\n",
       "------||---------|---------|---------|---------|---------|---------|---------|\n",
       "DIVERS|| 0.0000  | 0.0000  | 0.0000  | 0.0000  | 0.0000  | 0.0000  | 0.0000  |\n",
       "EQUIPE|| 0.0000  | 0.0000  | 0.0000  | 0.0000  | 0.0000  | 0.0000  | 0.0000  |\n",
       "EQUIPE|| 0.0000  | 0.0000  | 0.0000  | 0.0000  | 0.0000  | 0.0000  | 0.0000  |\n",
       "EQUIPE|| 0.0000  | 0.0000  | 0.0000  | 0.0000  | 0.0000  | 0.0000  | 0.0000  |\n",
       "EQUIPE|| 0.0000  | 0.0000  | 0.0000  | 0.0000  | 0.0000  | 0.0000  | 0.0000  |\n",
       "EQUIPE|| 0.0000  | 0.0000  | 0.0000  | 0.0000  | 0.0000  | 0.0000  | 0.0000  |\n",
       "EQUIPE|| 0.0000  | 0.0000  | 0.0000  | 0.0000  | 0.0000  | 0.0000  | 0.0000  |\n",
       "EQUIPE|| 0.0000  | 0.0000  | 0.0000  | 0.0000  | 0.0000  | 0.0000  | 0.0000  |\n",
       "EQUIPE|| 0.0000  | 0.0000  | 0.0000  | 0.0000  | 0.0000  | 0.0000  | 0.0000  |\n",
       "EQUIPE|| 0.0000  | 0.0000  | 0.0000  | 0.0000  | 0.0000  | 0.0000  | 0.0000  |"
      ]
     },
     "execution_count": 27,
     "metadata": {},
     "output_type": "execute_result"
    }
   ],
   "source": [
    "bn.cpt(\"KM_GROUP\")"
   ]
  },
  {
   "cell_type": "markdown",
   "metadata": {
    "pycharm": {
     "name": "#%% md\n"
    }
   },
   "source": [
    "Loi de probabilité de SYSTEM_N1 | SIG_OBS, KM_GROUP, SIG_ORGANE :"
   ]
  },
  {
   "cell_type": "code",
   "execution_count": 28,
   "metadata": {
    "pycharm": {
     "name": "#%%\n"
    }
   },
   "outputs": [
    {
     "data": {
      "text/html": [
       "<table style=\"border:1px solid black;\">\n",
       "<tr style='border:1px solid black;color:black;background-color:#808080'>\n",
       "      <th colspan='10'><center>SYSTEM_N1</center></th></tr>\n",
       "<tr><th style='border:1px solid black;border-bottom-style: double;color:black;background-color:#BBBBBB'>\n",
       "      <center>DIVERS</center></th><th style='border:1px solid black;border-bottom-style: double;color:black;background-color:#BBBBBB'>\n",
       "      <center>EQUIPEMENT CHASSIS</center></th><th style='border:1px solid black;border-bottom-style: double;color:black;background-color:#BBBBBB'>\n",
       "      <center>EQUIPEMENT CLIMATIQUE</center></th><th style='border:1px solid black;border-bottom-style: double;color:black;background-color:#BBBBBB'>\n",
       "      <center>EQUIPEMENT DE CARROSSERIE</center></th><th style='border:1px solid black;border-bottom-style: double;color:black;background-color:#BBBBBB'>\n",
       "      <center>EQUIPEMENT DE FREINAGE</center></th><th style='border:1px solid black;border-bottom-style: double;color:black;background-color:#BBBBBB'>\n",
       "      <center>EQUIPEMENT DE MOTORISATION</center></th><th style='border:1px solid black;border-bottom-style: double;color:black;background-color:#BBBBBB'>\n",
       "      <center>EQUIPEMENT DE TRANSMISSION</center></th><th style='border:1px solid black;border-bottom-style: double;color:black;background-color:#BBBBBB'>\n",
       "      <center>EQUIPEMENT ELECTRIQUE</center></th><th style='border:1px solid black;border-bottom-style: double;color:black;background-color:#BBBBBB'>\n",
       "      <center>EQUIPEMENT EMBARQUE</center></th><th style='border:1px solid black;border-bottom-style: double;color:black;background-color:#BBBBBB'>\n",
       "      <center>EQUIPEMENT PNEUMATIQUE</center></th></tr>\n",
       "<tr><td style='text-align:right;'>0.0000</td><td style='text-align:right;'>0.0000</td><td style='text-align:right;'>0.0000</td><td style='text-align:right;'>0.0000</td><td style='text-align:right;'>0.0000</td><td style='text-align:right;'>0.0000</td><td style='text-align:right;'>0.0000</td><td style='text-align:right;'>0.0000</td><td style='text-align:right;'>0.0000</td><td style='text-align:right;'>0.0000</td></tr>\n",
       "</table>"
      ],
      "text/plain": [
       "(pyAgrum.Potential<double>@000002551F43AD50) \n",
       "  SYSTEM_N1                                                                                        |\n",
       "DIVERS   |EQUIPEMEN|EQUIPEMEN|EQUIPEMEN|EQUIPEMEN|EQUIPEMEN|EQUIPEMEN|EQUIPEMEN|EQUIPEMEN|EQUIPEMEN|\n",
       "---------|---------|---------|---------|---------|---------|---------|---------|---------|---------|\n",
       " 0.0000  | 0.0000  | 0.0000  | 0.0000  | 0.0000  | 0.0000  | 0.0000  | 0.0000  | 0.0000  | 0.0000  |"
      ]
     },
     "execution_count": 28,
     "metadata": {},
     "output_type": "execute_result"
    }
   ],
   "source": [
    "bn.cpt(\"SYSTEM_N1\")"
   ]
  },
  {
   "cell_type": "markdown",
   "metadata": {
    "pycharm": {
     "name": "#%% md\n"
    }
   },
   "source": [
    "On remarque naturellement que les LPC ne contiennent pour l'instant que des zéros…"
   ]
  },
  {
   "cell_type": "markdown",
   "metadata": {
    "pycharm": {
     "name": "#%% md\n"
    }
   },
   "source": [
    "## Apprentissage des LPC"
   ]
  },
  {
   "cell_type": "markdown",
   "metadata": {
    "pycharm": {
     "name": "#%% md\n"
    }
   },
   "source": [
    "Pour apprendre les paramètres des LPC à partir des données, vous pouvez utiliser la classe gum.BNLearner et en particulier la méthode fitParameters:"
   ]
  },
  {
   "cell_type": "code",
   "execution_count": 29,
   "metadata": {},
   "outputs": [
    {
     "data": {
      "text/plain": [
       "Index(['C:0-50k', 'C:100k-150k', 'C:150k-200k', 'C:200k-250k', 'C:250k-300k',\n",
       "       'C:300k+', 'C:50k-100k'],\n",
       "      dtype='object')"
      ]
     },
     "execution_count": 29,
     "metadata": {},
     "output_type": "execute_result"
    }
   ],
   "source": [
    "joined_df_filtered['KM_GROUP'].cat.categories"
   ]
  },
  {
   "cell_type": "code",
   "execution_count": 30,
   "metadata": {
    "pycharm": {
     "name": "#%%\n"
    }
   },
   "outputs": [],
   "source": [
    "learner = gum.BNLearner(joined_df_filtered[var_to_model])"
   ]
  },
  {
   "cell_type": "code",
   "execution_count": 31,
   "metadata": {},
   "outputs": [
    {
     "data": {
      "text/plain": [
       "(pyAgrum.BNLearner<double>@000002554DF43680) Filename       : C:\\Users\\askel\\AppData\\Local\\Temp\\tmpzlzbprc0.csv\n",
       "Size           : (506557,4)\n",
       "Variables      : SYSTEM_N1[10], SIG_OBS[59], SIG_ORGANE[116], KM_GROUP[7]\n",
       "Induced types  : True\n",
       "Missing values : False\n",
       "Algorithm      : MIIC\n",
       "Score          : BDeu  (Not used for constraint-based algorithms)\n",
       "Correction     : MDL  (Not used for score-based algorithms)\n",
       "Prior          : -"
      ]
     },
     "execution_count": 31,
     "metadata": {},
     "output_type": "execute_result"
    }
   ],
   "source": [
    "learner"
   ]
  },
  {
   "cell_type": "code",
   "execution_count": 32,
   "metadata": {},
   "outputs": [
    {
     "data": {
      "text/plain": [
       "(pyAgrum.BNLearner<double>@000002554DF43680) Filename       : C:\\Users\\askel\\AppData\\Local\\Temp\\tmpzlzbprc0.csv\n",
       "Size           : (506557,4)\n",
       "Variables      : SYSTEM_N1[10], SIG_OBS[59], SIG_ORGANE[116], KM_GROUP[7]\n",
       "Induced types  : True\n",
       "Missing values : False\n",
       "Algorithm      : MIIC\n",
       "Score          : BDeu  (Not used for constraint-based algorithms)\n",
       "Correction     : MDL  (Not used for score-based algorithms)\n",
       "Prior          : -"
      ]
     },
     "execution_count": 32,
     "metadata": {},
     "output_type": "execute_result"
    }
   ],
   "source": [
    "\n",
    "learner.fitParameters(bn)"
   ]
  },
  {
   "cell_type": "markdown",
   "metadata": {
    "pycharm": {
     "name": "#%% md\n"
    }
   },
   "source": [
    "Après apprentissage, nous obtenons les LPC suivantes. Loi de probabilité de SIG_OBS :"
   ]
  },
  {
   "cell_type": "code",
   "execution_count": 33,
   "metadata": {
    "pycharm": {
     "name": "#%%\n"
    }
   },
   "outputs": [
    {
     "data": {
      "text/html": [
       "<table style=\"border:1px solid black;\">\n",
       "<tr><th colspan='1'></th>\n",
       "      <th colspan='59' style='border:1px solid black;color:black;background-color:#808080;'><center>SIG_OBS</center>\n",
       "      </th></tr>\n",
       "<tr><th style='border:1px solid black;color:black;background-color:#808080'><center>SYSTEM_N1</center></th><th style='border:1px solid black;border-bottom-style: double;color:black;background-color:#BBBBBB'>\n",
       "      <center>A-COUPS</center></th><th style='border:1px solid black;border-bottom-style: double;color:black;background-color:#BBBBBB'>\n",
       "      <center>ABSENT</center></th><th style='border:1px solid black;border-bottom-style: double;color:black;background-color:#BBBBBB'>\n",
       "      <center>ALLUME</center></th><th style='border:1px solid black;border-bottom-style: double;color:black;background-color:#BBBBBB'>\n",
       "      <center>ARRACHE</center></th><th style='border:1px solid black;border-bottom-style: double;color:black;background-color:#BBBBBB'>\n",
       "      <center>ASPIRER</center></th><th style='border:1px solid black;border-bottom-style: double;color:black;background-color:#BBBBBB'>\n",
       "      <center>BALANCE</center></th><th style='border:1px solid black;border-bottom-style: double;color:black;background-color:#BBBBBB'>\n",
       "      <center>BLESSE</center></th><th style='border:1px solid black;border-bottom-style: double;color:black;background-color:#BBBBBB'>\n",
       "      <center>BLOQUE</center></th><th style='border:1px solid black;border-bottom-style: double;color:black;background-color:#BBBBBB'>\n",
       "      <center>BROUTE</center></th><th style='border:1px solid black;border-bottom-style: double;color:black;background-color:#BBBBBB'>\n",
       "      <center>BRUTAL</center></th><th style='border:1px solid black;border-bottom-style: double;color:black;background-color:#BBBBBB'>\n",
       "      <center>BRUYANT</center></th><th style='border:1px solid black;border-bottom-style: double;color:black;background-color:#BBBBBB'>\n",
       "      <center>CALE</center></th><th style='border:1px solid black;border-bottom-style: double;color:black;background-color:#BBBBBB'>\n",
       "      <center>CASSE</center></th><th style='border:1px solid black;border-bottom-style: double;color:black;background-color:#BBBBBB'>\n",
       "      <center>CLAQUE</center></th><th style='border:1px solid black;border-bottom-style: double;color:black;background-color:#BBBBBB'>\n",
       "      <center>CLIGNOTE</center></th><th style='border:1px solid black;border-bottom-style: double;color:black;background-color:#BBBBBB'>\n",
       "      <center>CREVE</center></th><th style='border:1px solid black;border-bottom-style: double;color:black;background-color:#BBBBBB'>\n",
       "      <center>DEBOITE</center></th><th style='border:1px solid black;border-bottom-style: double;color:black;background-color:#BBBBBB'>\n",
       "      <center>DECLENCHEMENT</center></th><th style='border:1px solid black;border-bottom-style: double;color:black;background-color:#BBBBBB'>\n",
       "      <center>DEGONFLE</center></th><th style='border:1px solid black;border-bottom-style: double;color:black;background-color:#BBBBBB'>\n",
       "      <center>DELOCALISE</center></th><th style='border:1px solid black;border-bottom-style: double;color:black;background-color:#BBBBBB'>\n",
       "      <center>DEREGLE</center></th><th style='border:1px solid black;border-bottom-style: double;color:black;background-color:#BBBBBB'>\n",
       "      <center>DESSERRE</center></th><th style='border:1px solid black;border-bottom-style: double;color:black;background-color:#BBBBBB'>\n",
       "      <center>DUR</center></th><th style='border:1px solid black;border-bottom-style: double;color:black;background-color:#BBBBBB'>\n",
       "      <center>ENFONCE</center></th><th style='border:1px solid black;border-bottom-style: double;color:black;background-color:#BBBBBB'>\n",
       "      <center>FAUX CONTACT</center></th><th style='border:1px solid black;border-bottom-style: double;color:black;background-color:#BBBBBB'>\n",
       "      <center>FENDU</center></th><th style='border:1px solid black;border-bottom-style: double;color:black;background-color:#BBBBBB'>\n",
       "      <center>FERME MAL</center></th><th style='border:1px solid black;border-bottom-style: double;color:black;background-color:#BBBBBB'>\n",
       "      <center>FONCTIONNE MAL</center></th><th style='border:1px solid black;border-bottom-style: double;color:black;background-color:#BBBBBB'>\n",
       "      <center>FUITE</center></th><th style='border:1px solid black;border-bottom-style: double;color:black;background-color:#BBBBBB'>\n",
       "      <center>FUME/CHAUFFE</center></th><th style='border:1px solid black;border-bottom-style: double;color:black;background-color:#BBBBBB'>\n",
       "      <center>INCOMPLET</center></th><th style='border:1px solid black;border-bottom-style: double;color:black;background-color:#BBBBBB'>\n",
       "      <center>INSUFFISANT</center></th><th style='border:1px solid black;border-bottom-style: double;color:black;background-color:#BBBBBB'>\n",
       "      <center>INTERMITTENT</center></th><th style='border:1px solid black;border-bottom-style: double;color:black;background-color:#BBBBBB'>\n",
       "      <center>INTERRUPTEUR H.S</center></th><th style='border:1px solid black;border-bottom-style: double;color:black;background-color:#BBBBBB'>\n",
       "      <center>JEU</center></th><th style='border:1px solid black;border-bottom-style: double;color:black;background-color:#BBBBBB'>\n",
       "      <center>LACERE</center></th><th style='border:1px solid black;border-bottom-style: double;color:black;background-color:#BBBBBB'>\n",
       "      <center>MANQUE</center></th><th style='border:1px solid black;border-bottom-style: double;color:black;background-color:#BBBBBB'>\n",
       "      <center>MAUVAIS</center></th><th style='border:1px solid black;border-bottom-style: double;color:black;background-color:#BBBBBB'>\n",
       "      <center>N'EMET PAS</center></th><th style='border:1px solid black;border-bottom-style: double;color:black;background-color:#BBBBBB'>\n",
       "      <center>N'ENCRE PAS</center></th><th style='border:1px solid black;border-bottom-style: double;color:black;background-color:#BBBBBB'>\n",
       "      <center>NE FONCTIONNE PAS</center></th><th style='border:1px solid black;border-bottom-style: double;color:black;background-color:#BBBBBB'>\n",
       "      <center>NE TIRE PAS</center></th><th style='border:1px solid black;border-bottom-style: double;color:black;background-color:#BBBBBB'>\n",
       "      <center>ODEUR</center></th><th style='border:1px solid black;border-bottom-style: double;color:black;background-color:#BBBBBB'>\n",
       "      <center>OUVRE MAL</center></th><th style='border:1px solid black;border-bottom-style: double;color:black;background-color:#BBBBBB'>\n",
       "      <center>PATINE</center></th><th style='border:1px solid black;border-bottom-style: double;color:black;background-color:#BBBBBB'>\n",
       "      <center>RAYE</center></th><th style='border:1px solid black;border-bottom-style: double;color:black;background-color:#BBBBBB'>\n",
       "      <center>REFUSE TITRE</center></th><th style='border:1px solid black;border-bottom-style: double;color:black;background-color:#BBBBBB'>\n",
       "      <center>SALE</center></th><th style='border:1px solid black;border-bottom-style: double;color:black;background-color:#BBBBBB'>\n",
       "      <center>SECOUSSE</center></th><th style='border:1px solid black;border-bottom-style: double;color:black;background-color:#BBBBBB'>\n",
       "      <center>TAGUE</center></th><th style='border:1px solid black;border-bottom-style: double;color:black;background-color:#BBBBBB'>\n",
       "      <center>TANGUE</center></th><th style='border:1px solid black;border-bottom-style: double;color:black;background-color:#BBBBBB'>\n",
       "      <center>TEMOIN OUVERTURE H.S</center></th><th style='border:1px solid black;border-bottom-style: double;color:black;background-color:#BBBBBB'>\n",
       "      <center>TIRE A DROITE</center></th><th style='border:1px solid black;border-bottom-style: double;color:black;background-color:#BBBBBB'>\n",
       "      <center>TIRE A GAUCHE</center></th><th style='border:1px solid black;border-bottom-style: double;color:black;background-color:#BBBBBB'>\n",
       "      <center>TORDU</center></th><th style='border:1px solid black;border-bottom-style: double;color:black;background-color:#BBBBBB'>\n",
       "      <center>USE/VIDE</center></th><th style='border:1px solid black;border-bottom-style: double;color:black;background-color:#BBBBBB'>\n",
       "      <center>VIBRE</center></th><th style='border:1px solid black;border-bottom-style: double;color:black;background-color:#BBBBBB'>\n",
       "      <center>VOYANT ALLUME</center></th><th style='border:1px solid black;border-bottom-style: double;color:black;background-color:#BBBBBB'>\n",
       "      <center>VOYANT HS</center></th></tr>\n",
       "<tr><th style='border:1px solid black;color:black;background-color:#BBBBBB'><center>DIVERS</center></th><td style='color:black;background-color:#fc8164;text-align:right;'>0.0213</td><td style='color:black;background-color:#ff7f64;text-align:right;'>0.0000</td><td style='color:black;background-color:#ff7f64;text-align:right;'>0.0000</td><td style='color:black;background-color:#fc8164;text-align:right;'>0.0213</td><td style='color:black;background-color:#ff7f64;text-align:right;'>0.0000</td><td style='color:black;background-color:#ff7f64;text-align:right;'>0.0000</td><td style='color:black;background-color:#ff7f64;text-align:right;'>0.0000</td><td style='color:black;background-color:#fc8164;text-align:right;'>0.0213</td><td style='color:black;background-color:#ff7f64;text-align:right;'>0.0000</td><td style='color:black;background-color:#ff7f64;text-align:right;'>0.0000</td><td style='color:black;background-color:#d8a564;text-align:right;'>0.2979</td><td style='color:black;background-color:#ff7f64;text-align:right;'>0.0000</td><td style='color:black;background-color:#fc8164;text-align:right;'>0.0213</td><td style='color:black;background-color:#fc8164;text-align:right;'>0.0213</td><td style='color:black;background-color:#ff7f64;text-align:right;'>0.0000</td><td style='color:black;background-color:#ff7f64;text-align:right;'>0.0000</td><td style='color:black;background-color:#ff7f64;text-align:right;'>0.0000</td><td style='color:black;background-color:#ff7f64;text-align:right;'>0.0000</td><td style='color:black;background-color:#fc8164;text-align:right;'>0.0213</td><td style='color:black;background-color:#ff7f64;text-align:right;'>0.0000</td><td style='color:black;background-color:#ff7f64;text-align:right;'>0.0000</td><td style='color:black;background-color:#ff7f64;text-align:right;'>0.0000</td><td style='color:black;background-color:#dba264;text-align:right;'>0.2766</td><td style='color:black;background-color:#ff7f64;text-align:right;'>0.0000</td><td style='color:black;background-color:#ff7f64;text-align:right;'>0.0000</td><td style='color:black;background-color:#ff7f64;text-align:right;'>0.0000</td><td style='color:black;background-color:#ff7f64;text-align:right;'>0.0000</td><td style='color:black;background-color:#ee8f64;text-align:right;'>0.1277</td><td style='color:black;background-color:#ff7f64;text-align:right;'>0.0000</td><td style='color:black;background-color:#fc8164;text-align:right;'>0.0213</td><td style='color:black;background-color:#ff7f64;text-align:right;'>0.0000</td><td style='color:black;background-color:#ff7f64;text-align:right;'>0.0000</td><td style='color:black;background-color:#ff7f64;text-align:right;'>0.0000</td><td style='color:black;background-color:#ff7f64;text-align:right;'>0.0000</td><td style='color:black;background-color:#ff7f64;text-align:right;'>0.0000</td><td style='color:black;background-color:#ff7f64;text-align:right;'>0.0000</td><td style='color:black;background-color:#ff7f64;text-align:right;'>0.0000</td><td style='color:black;background-color:#ff7f64;text-align:right;'>0.0000</td><td style='color:black;background-color:#ff7f64;text-align:right;'>0.0000</td><td style='color:black;background-color:#ff7f64;text-align:right;'>0.0000</td><td style='color:black;background-color:#ff7f64;text-align:right;'>0.0000</td><td style='color:black;background-color:#ff7f64;text-align:right;'>0.0000</td><td style='color:black;background-color:#ff7f64;text-align:right;'>0.0000</td><td style='color:black;background-color:#ff7f64;text-align:right;'>0.0000</td><td style='color:black;background-color:#ff7f64;text-align:right;'>0.0000</td><td style='color:black;background-color:#ff7f64;text-align:right;'>0.0000</td><td style='color:black;background-color:#ff7f64;text-align:right;'>0.0000</td><td style='color:black;background-color:#ff7f64;text-align:right;'>0.0000</td><td style='color:black;background-color:#ff7f64;text-align:right;'>0.0000</td><td style='color:black;background-color:#ff7f64;text-align:right;'>0.0000</td><td style='color:black;background-color:#ff7f64;text-align:right;'>0.0000</td><td style='color:black;background-color:#ff7f64;text-align:right;'>0.0000</td><td style='color:black;background-color:#f68764;text-align:right;'>0.0638</td><td style='color:black;background-color:#ff7f64;text-align:right;'>0.0000</td><td style='color:black;background-color:#ff7f64;text-align:right;'>0.0000</td><td style='color:black;background-color:#ff7f64;text-align:right;'>0.0000</td><td style='color:black;background-color:#fc8164;text-align:right;'>0.0213</td><td style='color:black;background-color:#f68764;text-align:right;'>0.0638</td><td style='color:black;background-color:#ff7f64;text-align:right;'>0.0000</td></tr>\n",
       "<tr><th style='border:1px solid black;color:black;background-color:#BBBBBB'><center>EQUIPEMENT CHASSIS</center></th><td style='color:black;background-color:#fa8364;text-align:right;'>0.0371</td><td style='color:black;background-color:#fe7f64;text-align:right;'>0.0029</td><td style='color:black;background-color:#fe7f64;text-align:right;'>0.0001</td><td style='color:black;background-color:#fe7f64;text-align:right;'>0.0067</td><td style='color:black;background-color:#ff7f64;text-align:right;'>0.0000</td><td style='color:black;background-color:#fa8364;text-align:right;'>0.0344</td><td style='color:black;background-color:#fd8064;text-align:right;'>0.0107</td><td style='color:black;background-color:#f58864;text-align:right;'>0.0750</td><td style='color:black;background-color:#ff7f64;text-align:right;'>0.0000</td><td style='color:black;background-color:#ff7f64;text-align:right;'>0.0000</td><td style='color:black;background-color:#ec9164;text-align:right;'>0.1424</td><td style='color:black;background-color:#fe7f64;text-align:right;'>0.0006</td><td style='color:black;background-color:#f88564;text-align:right;'>0.0485</td><td style='color:black;background-color:#f78664;text-align:right;'>0.0604</td><td style='color:black;background-color:#fe7f64;text-align:right;'>0.0078</td><td style='color:black;background-color:#fd8064;text-align:right;'>0.0142</td><td style='color:black;background-color:#fd8064;text-align:right;'>0.0116</td><td style='color:black;background-color:#fe7f64;text-align:right;'>0.0001</td><td style='color:black;background-color:#ee8f64;text-align:right;'>0.1296</td><td style='color:black;background-color:#ff7f64;text-align:right;'>0.0000</td><td style='color:black;background-color:#fe7f64;text-align:right;'>0.0017</td><td style='color:black;background-color:#fe7f64;text-align:right;'>0.0059</td><td style='color:black;background-color:#f68764;text-align:right;'>0.0650</td><td style='color:black;background-color:#fd8064;text-align:right;'>0.0119</td><td style='color:black;background-color:#fe7f64;text-align:right;'>0.0001</td><td style='color:black;background-color:#fe7f64;text-align:right;'>0.0001</td><td style='color:black;background-color:#fe7f64;text-align:right;'>0.0004</td><td style='color:black;background-color:#f48964;text-align:right;'>0.0822</td><td style='color:black;background-color:#f68764;text-align:right;'>0.0667</td><td style='color:black;background-color:#fe7f64;text-align:right;'>0.0054</td><td style='color:black;background-color:#fe7f64;text-align:right;'>0.0003</td><td style='color:black;background-color:#fe7f64;text-align:right;'>0.0011</td><td style='color:black;background-color:#fd8064;text-align:right;'>0.0082</td><td style='color:black;background-color:#fe7f64;text-align:right;'>0.0014</td><td style='color:black;background-color:#fe7f64;text-align:right;'>0.0002</td><td style='color:black;background-color:#fe7f64;text-align:right;'>0.0038</td><td style='color:black;background-color:#fe7f64;text-align:right;'>0.0042</td><td style='color:black;background-color:#ff7f64;text-align:right;'>0.0000</td><td style='color:black;background-color:#ff7f64;text-align:right;'>0.0000</td><td style='color:black;background-color:#ff7f64;text-align:right;'>0.0000</td><td style='color:black;background-color:#f58864;text-align:right;'>0.0733</td><td style='color:black;background-color:#fe7f64;text-align:right;'>0.0007</td><td style='color:black;background-color:#fe7f64;text-align:right;'>0.0021</td><td style='color:black;background-color:#fe7f64;text-align:right;'>0.0001</td><td style='color:black;background-color:#fe7f64;text-align:right;'>0.0004</td><td style='color:black;background-color:#fd8064;text-align:right;'>0.0088</td><td style='color:black;background-color:#ff7f64;text-align:right;'>0.0000</td><td style='color:black;background-color:#ff7f64;text-align:right;'>0.0000</td><td style='color:black;background-color:#ff7f64;text-align:right;'>0.0000</td><td style='color:black;background-color:#fe7f64;text-align:right;'>0.0023</td><td style='color:black;background-color:#fe7f64;text-align:right;'>0.0002</td><td style='color:black;background-color:#fe7f64;text-align:right;'>0.0006</td><td style='color:black;background-color:#fe7f64;text-align:right;'>0.0032</td><td style='color:black;background-color:#fe7f64;text-align:right;'>0.0017</td><td style='color:black;background-color:#fe7f64;text-align:right;'>0.0002</td><td style='color:black;background-color:#fd8064;text-align:right;'>0.0085</td><td style='color:black;background-color:#fd8064;text-align:right;'>0.0105</td><td style='color:black;background-color:#f98464;text-align:right;'>0.0451</td><td style='color:black;background-color:#fe7f64;text-align:right;'>0.0017</td></tr>\n",
       "<tr><th style='border:1px solid black;color:black;background-color:#BBBBBB'><center>EQUIPEMENT CLIMATIQUE</center></th><td style='color:black;background-color:#fe7f64;text-align:right;'>0.0009</td><td style='color:black;background-color:#ee8f64;text-align:right;'>0.1313</td><td style='color:black;background-color:#ff7f64;text-align:right;'>0.0000</td><td style='color:black;background-color:#fe7f64;text-align:right;'>0.0001</td><td style='color:black;background-color:#ff7f64;text-align:right;'>0.0000</td><td style='color:black;background-color:#fe7f64;text-align:right;'>0.0003</td><td style='color:black;background-color:#ff7f64;text-align:right;'>0.0000</td><td style='color:black;background-color:#fa8364;text-align:right;'>0.0382</td><td style='color:black;background-color:#ff7f64;text-align:right;'>0.0000</td><td style='color:black;background-color:#ff7f64;text-align:right;'>0.0000</td><td style='color:black;background-color:#f98464;text-align:right;'>0.0443</td><td style='color:black;background-color:#fe7f64;text-align:right;'>0.0001</td><td style='color:black;background-color:#f68764;text-align:right;'>0.0677</td><td style='color:black;background-color:#fe7f64;text-align:right;'>0.0006</td><td style='color:black;background-color:#fe7f64;text-align:right;'>0.0011</td><td style='color:black;background-color:#fe7f64;text-align:right;'>0.0001</td><td style='color:black;background-color:#fe7f64;text-align:right;'>0.0046</td><td style='color:black;background-color:#ff7f64;text-align:right;'>0.0000</td><td style='color:black;background-color:#fe7f64;text-align:right;'>0.0004</td><td style='color:black;background-color:#ff7f64;text-align:right;'>0.0000</td><td style='color:black;background-color:#ff7f64;text-align:right;'>0.0000</td><td style='color:black;background-color:#fe7f64;text-align:right;'>0.0005</td><td style='color:black;background-color:#fe7f64;text-align:right;'>0.0004</td><td style='color:black;background-color:#fe7f64;text-align:right;'>0.0010</td><td style='color:black;background-color:#ff7f64;text-align:right;'>0.0000</td><td style='color:black;background-color:#ff7f64;text-align:right;'>0.0000</td><td style='color:black;background-color:#fe7f64;text-align:right;'>0.0001</td><td style='color:black;background-color:#ef8e64;text-align:right;'>0.1216</td><td style='color:black;background-color:#f28b64;text-align:right;'>0.0967</td><td style='color:black;background-color:#fd8064;text-align:right;'>0.0155</td><td style='color:black;background-color:#fe7f64;text-align:right;'>0.0001</td><td style='color:black;background-color:#ed9064;text-align:right;'>0.1347</td><td style='color:black;background-color:#fe7f64;text-align:right;'>0.0050</td><td style='color:black;background-color:#fc8164;text-align:right;'>0.0196</td><td style='color:black;background-color:#ff7f64;text-align:right;'>0.0000</td><td style='color:black;background-color:#fe7f64;text-align:right;'>0.0003</td><td style='color:black;background-color:#fd8064;text-align:right;'>0.0104</td><td style='color:black;background-color:#ff7f64;text-align:right;'>0.0000</td><td style='color:black;background-color:#ff7f64;text-align:right;'>0.0000</td><td style='color:black;background-color:#ff7f64;text-align:right;'>0.0000</td><td style='color:black;background-color:#e09d64;text-align:right;'>0.2411</td><td style='color:black;background-color:#fe7f64;text-align:right;'>0.0003</td><td style='color:black;background-color:#fc8164;text-align:right;'>0.0178</td><td style='color:black;background-color:#ff7f64;text-align:right;'>0.0000</td><td style='color:black;background-color:#ff7f64;text-align:right;'>0.0000</td><td style='color:black;background-color:#fe7f64;text-align:right;'>0.0010</td><td style='color:black;background-color:#ff7f64;text-align:right;'>0.0000</td><td style='color:black;background-color:#fe7f64;text-align:right;'>0.0009</td><td style='color:black;background-color:#ff7f64;text-align:right;'>0.0000</td><td style='color:black;background-color:#ff7f64;text-align:right;'>0.0000</td><td style='color:black;background-color:#ff7f64;text-align:right;'>0.0000</td><td style='color:black;background-color:#fe7f64;text-align:right;'>0.0001</td><td style='color:black;background-color:#fe7f64;text-align:right;'>0.0001</td><td style='color:black;background-color:#fe7f64;text-align:right;'>0.0001</td><td style='color:black;background-color:#ff7f64;text-align:right;'>0.0000</td><td style='color:black;background-color:#ff7f64;text-align:right;'>0.0000</td><td style='color:black;background-color:#fe7f64;text-align:right;'>0.0004</td><td style='color:black;background-color:#f98464;text-align:right;'>0.0411</td><td style='color:black;background-color:#fe7f64;text-align:right;'>0.0016</td></tr>\n",
       "<tr><th style='border:1px solid black;color:black;background-color:#BBBBBB'><center>EQUIPEMENT DE CARROSSERIE</center></th><td style='color:black;background-color:#fe7f64;text-align:right;'>0.0010</td><td style='color:black;background-color:#fb8264;text-align:right;'>0.0279</td><td style='color:black;background-color:#fe7f64;text-align:right;'>0.0000</td><td style='color:black;background-color:#fb8264;text-align:right;'>0.0247</td><td style='color:black;background-color:#fe7f64;text-align:right;'>0.0003</td><td style='color:black;background-color:#fe7f64;text-align:right;'>0.0013</td><td style='color:black;background-color:#fe7f64;text-align:right;'>0.0001</td><td style='color:black;background-color:#f78664;text-align:right;'>0.0596</td><td style='color:black;background-color:#fe7f64;text-align:right;'>0.0000</td><td style='color:black;background-color:#fe7f64;text-align:right;'>0.0002</td><td style='color:black;background-color:#fd8064;text-align:right;'>0.0116</td><td style='color:black;background-color:#fe7f64;text-align:right;'>0.0001</td><td style='color:black;background-color:#d1ac64;text-align:right;'>0.3580</td><td style='color:black;background-color:#fd8064;text-align:right;'>0.0103</td><td style='color:black;background-color:#fe7f64;text-align:right;'>0.0018</td><td style='color:black;background-color:#fe7f64;text-align:right;'>0.0001</td><td style='color:black;background-color:#f68764;text-align:right;'>0.0675</td><td style='color:black;background-color:#ff7f64;text-align:right;'>0.0000</td><td style='color:black;background-color:#fe7f64;text-align:right;'>0.0018</td><td style='color:black;background-color:#fe7f64;text-align:right;'>0.0000</td><td style='color:black;background-color:#fe7f64;text-align:right;'>0.0007</td><td style='color:black;background-color:#fc8164;text-align:right;'>0.0229</td><td style='color:black;background-color:#fe7f64;text-align:right;'>0.0023</td><td style='color:black;background-color:#f88564;text-align:right;'>0.0505</td><td style='color:black;background-color:#fe7f64;text-align:right;'>0.0001</td><td style='color:black;background-color:#fe7f64;text-align:right;'>0.0007</td><td style='color:black;background-color:#fe7f64;text-align:right;'>0.0034</td><td style='color:black;background-color:#f18c64;text-align:right;'>0.1064</td><td style='color:black;background-color:#fb8264;text-align:right;'>0.0308</td><td style='color:black;background-color:#fe7f64;text-align:right;'>0.0008</td><td style='color:black;background-color:#fe7f64;text-align:right;'>0.0012</td><td style='color:black;background-color:#fd8064;text-align:right;'>0.0094</td><td style='color:black;background-color:#fe7f64;text-align:right;'>0.0026</td><td style='color:black;background-color:#fd8064;text-align:right;'>0.0139</td><td style='color:black;background-color:#fe7f64;text-align:right;'>0.0000</td><td style='color:black;background-color:#fb8264;text-align:right;'>0.0259</td><td style='color:black;background-color:#fb8264;text-align:right;'>0.0250</td><td style='color:black;background-color:#fe7f64;text-align:right;'>0.0000</td><td style='color:black;background-color:#ff7f64;text-align:right;'>0.0000</td><td style='color:black;background-color:#fe7f64;text-align:right;'>0.0000</td><td style='color:black;background-color:#f98464;text-align:right;'>0.0422</td><td style='color:black;background-color:#fe7f64;text-align:right;'>0.0001</td><td style='color:black;background-color:#fe7f64;text-align:right;'>0.0004</td><td style='color:black;background-color:#fe7f64;text-align:right;'>0.0003</td><td style='color:black;background-color:#fe7f64;text-align:right;'>0.0000</td><td style='color:black;background-color:#f58864;text-align:right;'>0.0756</td><td style='color:black;background-color:#fe7f64;text-align:right;'>0.0000</td><td style='color:black;background-color:#fe7f64;text-align:right;'>0.0010</td><td style='color:black;background-color:#ff7f64;text-align:right;'>0.0000</td><td style='color:black;background-color:#fe7f64;text-align:right;'>0.0009</td><td style='color:black;background-color:#ff7f64;text-align:right;'>0.0000</td><td style='color:black;background-color:#fe7f64;text-align:right;'>0.0009</td><td style='color:black;background-color:#fe7f64;text-align:right;'>0.0001</td><td style='color:black;background-color:#fe7f64;text-align:right;'>0.0000</td><td style='color:black;background-color:#fe7f64;text-align:right;'>0.0010</td><td style='color:black;background-color:#fe7f64;text-align:right;'>0.0038</td><td style='color:black;background-color:#fe7f64;text-align:right;'>0.0010</td><td style='color:black;background-color:#fe7f64;text-align:right;'>0.0071</td><td style='color:black;background-color:#fe7f64;text-align:right;'>0.0025</td></tr>\n",
       "<tr><th style='border:1px solid black;color:black;background-color:#BBBBBB'><center>EQUIPEMENT DE FREINAGE</center></th><td style='color:black;background-color:#fd8064;text-align:right;'>0.0113</td><td style='color:black;background-color:#fe7f64;text-align:right;'>0.0049</td><td style='color:black;background-color:#ff7f64;text-align:right;'>0.0000</td><td style='color:black;background-color:#fe7f64;text-align:right;'>0.0001</td><td style='color:black;background-color:#ff7f64;text-align:right;'>0.0000</td><td style='color:black;background-color:#fe7f64;text-align:right;'>0.0014</td><td style='color:black;background-color:#fe7f64;text-align:right;'>0.0002</td><td style='color:black;background-color:#fa8364;text-align:right;'>0.0363</td><td style='color:black;background-color:#ff7f64;text-align:right;'>0.0000</td><td style='color:black;background-color:#fe7f64;text-align:right;'>0.0001</td><td style='color:black;background-color:#f48964;text-align:right;'>0.0791</td><td style='color:black;background-color:#fe7f64;text-align:right;'>0.0007</td><td style='color:black;background-color:#fe7f64;text-align:right;'>0.0069</td><td style='color:black;background-color:#fd8064;text-align:right;'>0.0112</td><td style='color:black;background-color:#fe7f64;text-align:right;'>0.0073</td><td style='color:black;background-color:#fe7f64;text-align:right;'>0.0011</td><td style='color:black;background-color:#fd8064;text-align:right;'>0.0087</td><td style='color:black;background-color:#fe7f64;text-align:right;'>0.0011</td><td style='color:black;background-color:#fc8164;text-align:right;'>0.0219</td><td style='color:black;background-color:#ff7f64;text-align:right;'>0.0000</td><td style='color:black;background-color:#ff7f64;text-align:right;'>0.0000</td><td style='color:black;background-color:#fe7f64;text-align:right;'>0.0012</td><td style='color:black;background-color:#fc8164;text-align:right;'>0.0157</td><td style='color:black;background-color:#fe7f64;text-align:right;'>0.0020</td><td style='color:black;background-color:#fe7f64;text-align:right;'>0.0001</td><td style='color:black;background-color:#ff7f64;text-align:right;'>0.0000</td><td style='color:black;background-color:#fe7f64;text-align:right;'>0.0001</td><td style='color:black;background-color:#f18c64;text-align:right;'>0.1018</td><td style='color:black;background-color:#e09d64;text-align:right;'>0.2348</td><td style='color:black;background-color:#f98464;text-align:right;'>0.0454</td><td style='color:black;background-color:#fe7f64;text-align:right;'>0.0035</td><td style='color:black;background-color:#fd8064;text-align:right;'>0.0101</td><td style='color:black;background-color:#fd8064;text-align:right;'>0.0124</td><td style='color:black;background-color:#fe7f64;text-align:right;'>0.0020</td><td style='color:black;background-color:#fe7f64;text-align:right;'>0.0001</td><td style='color:black;background-color:#fe7f64;text-align:right;'>0.0003</td><td style='color:black;background-color:#fe7f64;text-align:right;'>0.0074</td><td style='color:black;background-color:#ff7f64;text-align:right;'>0.0000</td><td style='color:black;background-color:#ff7f64;text-align:right;'>0.0000</td><td style='color:black;background-color:#ff7f64;text-align:right;'>0.0000</td><td style='color:black;background-color:#fd8064;text-align:right;'>0.0119</td><td style='color:black;background-color:#fe7f64;text-align:right;'>0.0013</td><td style='color:black;background-color:#fd8064;text-align:right;'>0.0115</td><td style='color:black;background-color:#ff7f64;text-align:right;'>0.0000</td><td style='color:black;background-color:#fe7f64;text-align:right;'>0.0001</td><td style='color:black;background-color:#fe7f64;text-align:right;'>0.0004</td><td style='color:black;background-color:#ff7f64;text-align:right;'>0.0000</td><td style='color:black;background-color:#ff7f64;text-align:right;'>0.0000</td><td style='color:black;background-color:#ff7f64;text-align:right;'>0.0000</td><td style='color:black;background-color:#fe7f64;text-align:right;'>0.0001</td><td style='color:black;background-color:#ff7f64;text-align:right;'>0.0000</td><td style='color:black;background-color:#fe7f64;text-align:right;'>0.0002</td><td style='color:black;background-color:#fe7f64;text-align:right;'>0.0067</td><td style='color:black;background-color:#fd8064;text-align:right;'>0.0103</td><td style='color:black;background-color:#ff7f64;text-align:right;'>0.0000</td><td style='color:black;background-color:#fe7f64;text-align:right;'>0.0002</td><td style='color:black;background-color:#fe7f64;text-align:right;'>0.0032</td><td style='color:black;background-color:#d6a764;text-align:right;'>0.3129</td><td style='color:black;background-color:#fd8064;text-align:right;'>0.0122</td></tr>\n",
       "<tr><th style='border:1px solid black;color:black;background-color:#BBBBBB'><center>EQUIPEMENT DE MOTORISATION</center></th><td style='color:black;background-color:#fd8064;text-align:right;'>0.0108</td><td style='color:black;background-color:#fd8064;text-align:right;'>0.0152</td><td style='color:black;background-color:#ff7f64;text-align:right;'>0.0000</td><td style='color:black;background-color:#fe7f64;text-align:right;'>0.0019</td><td style='color:black;background-color:#ff7f64;text-align:right;'>0.0000</td><td style='color:black;background-color:#fe7f64;text-align:right;'>0.0005</td><td style='color:black;background-color:#ff7f64;text-align:right;'>0.0000</td><td style='color:black;background-color:#fd8064;text-align:right;'>0.0085</td><td style='color:black;background-color:#fe7f64;text-align:right;'>0.0002</td><td style='color:black;background-color:#fe7f64;text-align:right;'>0.0000</td><td style='color:black;background-color:#f78664;text-align:right;'>0.0570</td><td style='color:black;background-color:#fe7f64;text-align:right;'>0.0078</td><td style='color:black;background-color:#fd8064;text-align:right;'>0.0124</td><td style='color:black;background-color:#fe7f64;text-align:right;'>0.0024</td><td style='color:black;background-color:#fc8164;text-align:right;'>0.0162</td><td style='color:black;background-color:#fe7f64;text-align:right;'>0.0003</td><td style='color:black;background-color:#fe7f64;text-align:right;'>0.0043</td><td style='color:black;background-color:#fe7f64;text-align:right;'>0.0001</td><td style='color:black;background-color:#fe7f64;text-align:right;'>0.0034</td><td style='color:black;background-color:#ff7f64;text-align:right;'>0.0000</td><td style='color:black;background-color:#fe7f64;text-align:right;'>0.0001</td><td style='color:black;background-color:#fe7f64;text-align:right;'>0.0010</td><td style='color:black;background-color:#fe7f64;text-align:right;'>0.0015</td><td style='color:black;background-color:#fe7f64;text-align:right;'>0.0034</td><td style='color:black;background-color:#fe7f64;text-align:right;'>0.0002</td><td style='color:black;background-color:#ff7f64;text-align:right;'>0.0000</td><td style='color:black;background-color:#fe7f64;text-align:right;'>0.0001</td><td style='color:black;background-color:#fb8264;text-align:right;'>0.0281</td><td style='color:black;background-color:#df9e64;text-align:right;'>0.2423</td><td style='color:black;background-color:#fb8264;text-align:right;'>0.0311</td><td style='color:black;background-color:#fe7f64;text-align:right;'>0.0003</td><td style='color:black;background-color:#fd8064;text-align:right;'>0.0137</td><td style='color:black;background-color:#fb8264;text-align:right;'>0.0258</td><td style='color:black;background-color:#fe7f64;text-align:right;'>0.0024</td><td style='color:black;background-color:#ff7f64;text-align:right;'>0.0000</td><td style='color:black;background-color:#fe7f64;text-align:right;'>0.0005</td><td style='color:black;background-color:#fb8264;text-align:right;'>0.0270</td><td style='color:black;background-color:#ff7f64;text-align:right;'>0.0000</td><td style='color:black;background-color:#ff7f64;text-align:right;'>0.0000</td><td style='color:black;background-color:#ff7f64;text-align:right;'>0.0000</td><td style='color:black;background-color:#fc8164;text-align:right;'>0.0162</td><td style='color:black;background-color:#f98464;text-align:right;'>0.0417</td><td style='color:black;background-color:#fd8064;text-align:right;'>0.0095</td><td style='color:black;background-color:#ff7f64;text-align:right;'>0.0000</td><td style='color:black;background-color:#fe7f64;text-align:right;'>0.0016</td><td style='color:black;background-color:#fe7f64;text-align:right;'>0.0030</td><td style='color:black;background-color:#fe7f64;text-align:right;'>0.0001</td><td style='color:black;background-color:#fe7f64;text-align:right;'>0.0003</td><td style='color:black;background-color:#fe7f64;text-align:right;'>0.0000</td><td style='color:black;background-color:#ff7f64;text-align:right;'>0.0000</td><td style='color:black;background-color:#ff7f64;text-align:right;'>0.0000</td><td style='color:black;background-color:#fe7f64;text-align:right;'>0.0002</td><td style='color:black;background-color:#fe7f64;text-align:right;'>0.0005</td><td style='color:black;background-color:#fe7f64;text-align:right;'>0.0001</td><td style='color:black;background-color:#ff7f64;text-align:right;'>0.0000</td><td style='color:black;background-color:#fe7f64;text-align:right;'>0.0021</td><td style='color:black;background-color:#fd8064;text-align:right;'>0.0119</td><td style='color:black;background-color:#ccb164;text-align:right;'>0.3915</td><td style='color:black;background-color:#fe7f64;text-align:right;'>0.0026</td></tr>\n",
       "<tr><th style='border:1px solid black;color:black;background-color:#BBBBBB'><center>EQUIPEMENT DE TRANSMISSION</center></th><td style='color:black;background-color:#e89564;text-align:right;'>0.1772</td><td style='color:black;background-color:#fd8064;text-align:right;'>0.0131</td><td style='color:black;background-color:#ff7f64;text-align:right;'>0.0000</td><td style='color:black;background-color:#fe7f64;text-align:right;'>0.0007</td><td style='color:black;background-color:#ff7f64;text-align:right;'>0.0000</td><td style='color:black;background-color:#fe7f64;text-align:right;'>0.0007</td><td style='color:black;background-color:#ff7f64;text-align:right;'>0.0000</td><td style='color:black;background-color:#f58864;text-align:right;'>0.0741</td><td style='color:black;background-color:#fe7f64;text-align:right;'>0.0015</td><td style='color:black;background-color:#fe7f64;text-align:right;'>0.0007</td><td style='color:black;background-color:#f78664;text-align:right;'>0.0566</td><td style='color:black;background-color:#fe7f64;text-align:right;'>0.0065</td><td style='color:black;background-color:#f78664;text-align:right;'>0.0574</td><td style='color:black;background-color:#fd8064;text-align:right;'>0.0102</td><td style='color:black;background-color:#fb8264;text-align:right;'>0.0290</td><td style='color:black;background-color:#ff7f64;text-align:right;'>0.0000</td><td style='color:black;background-color:#fd8064;text-align:right;'>0.0102</td><td style='color:black;background-color:#ff7f64;text-align:right;'>0.0000</td><td style='color:black;background-color:#fd8064;text-align:right;'>0.0080</td><td style='color:black;background-color:#ff7f64;text-align:right;'>0.0000</td><td style='color:black;background-color:#fe7f64;text-align:right;'>0.0007</td><td style='color:black;background-color:#fe7f64;text-align:right;'>0.0022</td><td style='color:black;background-color:#fe7f64;text-align:right;'>0.0036</td><td style='color:black;background-color:#fe7f64;text-align:right;'>0.0029</td><td style='color:black;background-color:#ff7f64;text-align:right;'>0.0000</td><td style='color:black;background-color:#ff7f64;text-align:right;'>0.0000</td><td style='color:black;background-color:#ff7f64;text-align:right;'>0.0000</td><td style='color:black;background-color:#ef8e64;text-align:right;'>0.1227</td><td style='color:black;background-color:#f68764;text-align:right;'>0.0668</td><td style='color:black;background-color:#fd8064;text-align:right;'>0.0094</td><td style='color:black;background-color:#ff7f64;text-align:right;'>0.0000</td><td style='color:black;background-color:#fe7f64;text-align:right;'>0.0058</td><td style='color:black;background-color:#fb8264;text-align:right;'>0.0298</td><td style='color:black;background-color:#fc8164;text-align:right;'>0.0167</td><td style='color:black;background-color:#ff7f64;text-align:right;'>0.0000</td><td style='color:black;background-color:#ff7f64;text-align:right;'>0.0000</td><td style='color:black;background-color:#fe7f64;text-align:right;'>0.0073</td><td style='color:black;background-color:#ff7f64;text-align:right;'>0.0000</td><td style='color:black;background-color:#ff7f64;text-align:right;'>0.0000</td><td style='color:black;background-color:#ff7f64;text-align:right;'>0.0000</td><td style='color:black;background-color:#f98464;text-align:right;'>0.0443</td><td style='color:black;background-color:#fc8164;text-align:right;'>0.0196</td><td style='color:black;background-color:#fe7f64;text-align:right;'>0.0058</td><td style='color:black;background-color:#ff7f64;text-align:right;'>0.0000</td><td style='color:black;background-color:#fb8264;text-align:right;'>0.0298</td><td style='color:black;background-color:#fe7f64;text-align:right;'>0.0015</td><td style='color:black;background-color:#ff7f64;text-align:right;'>0.0000</td><td style='color:black;background-color:#ff7f64;text-align:right;'>0.0000</td><td style='color:black;background-color:#ff7f64;text-align:right;'>0.0000</td><td style='color:black;background-color:#ff7f64;text-align:right;'>0.0000</td><td style='color:black;background-color:#ff7f64;text-align:right;'>0.0000</td><td style='color:black;background-color:#ff7f64;text-align:right;'>0.0000</td><td style='color:black;background-color:#fe7f64;text-align:right;'>0.0007</td><td style='color:black;background-color:#ff7f64;text-align:right;'>0.0000</td><td style='color:black;background-color:#ff7f64;text-align:right;'>0.0000</td><td style='color:black;background-color:#ff7f64;text-align:right;'>0.0000</td><td style='color:black;background-color:#fb8264;text-align:right;'>0.0290</td><td style='color:black;background-color:#ee8f64;text-align:right;'>0.1285</td><td style='color:black;background-color:#fb8264;text-align:right;'>0.0269</td></tr>\n",
       "<tr><th style='border:1px solid black;color:black;background-color:#BBBBBB'><center>EQUIPEMENT ELECTRIQUE</center></th><td style='color:black;background-color:#fe7f64;text-align:right;'>0.0007</td><td style='color:black;background-color:#ec9164;text-align:right;'>0.1465</td><td style='color:black;background-color:#fe7f64;text-align:right;'>0.0000</td><td style='color:black;background-color:#fe7f64;text-align:right;'>0.0035</td><td style='color:black;background-color:#fe7f64;text-align:right;'>0.0000</td><td style='color:black;background-color:#fe7f64;text-align:right;'>0.0001</td><td style='color:black;background-color:#fe7f64;text-align:right;'>0.0001</td><td style='color:black;background-color:#fd8064;text-align:right;'>0.0084</td><td style='color:black;background-color:#ff7f64;text-align:right;'>0.0000</td><td style='color:black;background-color:#ff7f64;text-align:right;'>0.0000</td><td style='color:black;background-color:#fe7f64;text-align:right;'>0.0018</td><td style='color:black;background-color:#fe7f64;text-align:right;'>0.0002</td><td style='color:black;background-color:#e79664;text-align:right;'>0.1817</td><td style='color:black;background-color:#fe7f64;text-align:right;'>0.0005</td><td style='color:black;background-color:#fe7f64;text-align:right;'>0.0049</td><td style='color:black;background-color:#fe7f64;text-align:right;'>0.0001</td><td style='color:black;background-color:#fd8064;text-align:right;'>0.0153</td><td style='color:black;background-color:#ff7f64;text-align:right;'>0.0000</td><td style='color:black;background-color:#fe7f64;text-align:right;'>0.0003</td><td style='color:black;background-color:#fe7f64;text-align:right;'>0.0000</td><td style='color:black;background-color:#fe7f64;text-align:right;'>0.0001</td><td style='color:black;background-color:#fe7f64;text-align:right;'>0.0030</td><td style='color:black;background-color:#fe7f64;text-align:right;'>0.0003</td><td style='color:black;background-color:#fe7f64;text-align:right;'>0.0043</td><td style='color:black;background-color:#fe7f64;text-align:right;'>0.0006</td><td style='color:black;background-color:#fe7f64;text-align:right;'>0.0000</td><td style='color:black;background-color:#fe7f64;text-align:right;'>0.0002</td><td style='color:black;background-color:#f88564;text-align:right;'>0.0542</td><td style='color:black;background-color:#fe7f64;text-align:right;'>0.0027</td><td style='color:black;background-color:#fe7f64;text-align:right;'>0.0003</td><td style='color:black;background-color:#fe7f64;text-align:right;'>0.0013</td><td style='color:black;background-color:#fd8064;text-align:right;'>0.0131</td><td style='color:black;background-color:#fe7f64;text-align:right;'>0.0032</td><td style='color:black;background-color:#fe7f64;text-align:right;'>0.0068</td><td style='color:black;background-color:#ff7f64;text-align:right;'>0.0000</td><td style='color:black;background-color:#fe7f64;text-align:right;'>0.0019</td><td style='color:black;background-color:#fb8264;text-align:right;'>0.0241</td><td style='color:black;background-color:#fe7f64;text-align:right;'>0.0000</td><td style='color:black;background-color:#ff7f64;text-align:right;'>0.0000</td><td style='color:black;background-color:#fe7f64;text-align:right;'>0.0000</td><td style='color:black;background-color:#c4b964;text-align:right;'>0.4562</td><td style='color:black;background-color:#fe7f64;text-align:right;'>0.0002</td><td style='color:black;background-color:#fe7f64;text-align:right;'>0.0002</td><td style='color:black;background-color:#fe7f64;text-align:right;'>0.0000</td><td style='color:black;background-color:#fe7f64;text-align:right;'>0.0000</td><td style='color:black;background-color:#fd8064;text-align:right;'>0.0095</td><td style='color:black;background-color:#ff7f64;text-align:right;'>0.0000</td><td style='color:black;background-color:#fe7f64;text-align:right;'>0.0001</td><td style='color:black;background-color:#fe7f64;text-align:right;'>0.0000</td><td style='color:black;background-color:#fe7f64;text-align:right;'>0.0000</td><td style='color:black;background-color:#ff7f64;text-align:right;'>0.0000</td><td style='color:black;background-color:#fe7f64;text-align:right;'>0.0013</td><td style='color:black;background-color:#fe7f64;text-align:right;'>0.0001</td><td style='color:black;background-color:#fe7f64;text-align:right;'>0.0000</td><td style='color:black;background-color:#fe7f64;text-align:right;'>0.0000</td><td style='color:black;background-color:#fe7f64;text-align:right;'>0.0000</td><td style='color:black;background-color:#fe7f64;text-align:right;'>0.0002</td><td style='color:black;background-color:#fa8364;text-align:right;'>0.0314</td><td style='color:black;background-color:#fc8164;text-align:right;'>0.0207</td></tr>\n",
       "<tr><th style='border:1px solid black;color:black;background-color:#BBBBBB'><center>EQUIPEMENT EMBARQUE</center></th><td style='color:black;background-color:#fe7f64;text-align:right;'>0.0001</td><td style='color:black;background-color:#f28b64;text-align:right;'>0.0963</td><td style='color:black;background-color:#ff7f64;text-align:right;'>0.0000</td><td style='color:black;background-color:#fe7f64;text-align:right;'>0.0001</td><td style='color:black;background-color:#ff7f64;text-align:right;'>0.0000</td><td style='color:black;background-color:#ff7f64;text-align:right;'>0.0000</td><td style='color:black;background-color:#ff7f64;text-align:right;'>0.0000</td><td style='color:black;background-color:#f58864;text-align:right;'>0.0764</td><td style='color:black;background-color:#ff7f64;text-align:right;'>0.0000</td><td style='color:black;background-color:#ff7f64;text-align:right;'>0.0000</td><td style='color:black;background-color:#fe7f64;text-align:right;'>0.0068</td><td style='color:black;background-color:#ff7f64;text-align:right;'>0.0000</td><td style='color:black;background-color:#fb8264;text-align:right;'>0.0289</td><td style='color:black;background-color:#fe7f64;text-align:right;'>0.0001</td><td style='color:black;background-color:#fe7f64;text-align:right;'>0.0038</td><td style='color:black;background-color:#ff7f64;text-align:right;'>0.0000</td><td style='color:black;background-color:#fe7f64;text-align:right;'>0.0033</td><td style='color:black;background-color:#fe7f64;text-align:right;'>0.0000</td><td style='color:black;background-color:#fe7f64;text-align:right;'>0.0001</td><td style='color:black;background-color:#fd8064;text-align:right;'>0.0121</td><td style='color:black;background-color:#fe7f64;text-align:right;'>0.0002</td><td style='color:black;background-color:#fe7f64;text-align:right;'>0.0026</td><td style='color:black;background-color:#ff7f64;text-align:right;'>0.0000</td><td style='color:black;background-color:#fe7f64;text-align:right;'>0.0005</td><td style='color:black;background-color:#fe7f64;text-align:right;'>0.0005</td><td style='color:black;background-color:#ff7f64;text-align:right;'>0.0000</td><td style='color:black;background-color:#fe7f64;text-align:right;'>0.0001</td><td style='color:black;background-color:#e89564;text-align:right;'>0.1751</td><td style='color:black;background-color:#fe7f64;text-align:right;'>0.0012</td><td style='color:black;background-color:#fe7f64;text-align:right;'>0.0003</td><td style='color:black;background-color:#fe7f64;text-align:right;'>0.0004</td><td style='color:black;background-color:#fe7f64;text-align:right;'>0.0054</td><td style='color:black;background-color:#fd8064;text-align:right;'>0.0103</td><td style='color:black;background-color:#fc8164;text-align:right;'>0.0225</td><td style='color:black;background-color:#ff7f64;text-align:right;'>0.0000</td><td style='color:black;background-color:#fe7f64;text-align:right;'>0.0001</td><td style='color:black;background-color:#fd8064;text-align:right;'>0.0092</td><td style='color:black;background-color:#fe7f64;text-align:right;'>0.0000</td><td style='color:black;background-color:#fe7f64;text-align:right;'>0.0003</td><td style='color:black;background-color:#fe7f64;text-align:right;'>0.0027</td><td style='color:black;background-color:#bfbe64;text-align:right;'>0.4944</td><td style='color:black;background-color:#fe7f64;text-align:right;'>0.0001</td><td style='color:black;background-color:#fe7f64;text-align:right;'>0.0008</td><td style='color:black;background-color:#ff7f64;text-align:right;'>0.0000</td><td style='color:black;background-color:#ff7f64;text-align:right;'>0.0000</td><td style='color:black;background-color:#fe7f64;text-align:right;'>0.0005</td><td style='color:black;background-color:#fc8164;text-align:right;'>0.0190</td><td style='color:black;background-color:#fe7f64;text-align:right;'>0.0002</td><td style='color:black;background-color:#ff7f64;text-align:right;'>0.0000</td><td style='color:black;background-color:#fe7f64;text-align:right;'>0.0001</td><td style='color:black;background-color:#ff7f64;text-align:right;'>0.0000</td><td style='color:black;background-color:#fe7f64;text-align:right;'>0.0001</td><td style='color:black;background-color:#ff7f64;text-align:right;'>0.0000</td><td style='color:black;background-color:#ff7f64;text-align:right;'>0.0000</td><td style='color:black;background-color:#ff7f64;text-align:right;'>0.0000</td><td style='color:black;background-color:#ff7f64;text-align:right;'>0.0000</td><td style='color:black;background-color:#fe7f64;text-align:right;'>0.0004</td><td style='color:black;background-color:#fd8064;text-align:right;'>0.0083</td><td style='color:black;background-color:#fc8164;text-align:right;'>0.0162</td></tr>\n",
       "<tr><th style='border:1px solid black;color:black;background-color:#BBBBBB'><center>EQUIPEMENT PNEUMATIQUE</center></th><td style='color:black;background-color:#fe7f64;text-align:right;'>0.0049</td><td style='color:black;background-color:#fe7f64;text-align:right;'>0.0028</td><td style='color:black;background-color:#ff7f64;text-align:right;'>0.0000</td><td style='color:black;background-color:#fe7f64;text-align:right;'>0.0011</td><td style='color:black;background-color:#ff7f64;text-align:right;'>0.0000</td><td style='color:black;background-color:#fe7f64;text-align:right;'>0.0035</td><td style='color:black;background-color:#ff7f64;text-align:right;'>0.0000</td><td style='color:black;background-color:#fc8164;text-align:right;'>0.0227</td><td style='color:black;background-color:#ff7f64;text-align:right;'>0.0000</td><td style='color:black;background-color:#ff7f64;text-align:right;'>0.0000</td><td style='color:black;background-color:#fa8364;text-align:right;'>0.0370</td><td style='color:black;background-color:#fe7f64;text-align:right;'>0.0005</td><td style='color:black;background-color:#fe7f64;text-align:right;'>0.0059</td><td style='color:black;background-color:#fe7f64;text-align:right;'>0.0046</td><td style='color:black;background-color:#fe7f64;text-align:right;'>0.0037</td><td style='color:black;background-color:#fe7f64;text-align:right;'>0.0001</td><td style='color:black;background-color:#fe7f64;text-align:right;'>0.0010</td><td style='color:black;background-color:#fe7f64;text-align:right;'>0.0001</td><td style='color:black;background-color:#f98464;text-align:right;'>0.0461</td><td style='color:black;background-color:#ff7f64;text-align:right;'>0.0000</td><td style='color:black;background-color:#fe7f64;text-align:right;'>0.0001</td><td style='color:black;background-color:#fe7f64;text-align:right;'>0.0002</td><td style='color:black;background-color:#fe7f64;text-align:right;'>0.0076</td><td style='color:black;background-color:#fe7f64;text-align:right;'>0.0003</td><td style='color:black;background-color:#ff7f64;text-align:right;'>0.0000</td><td style='color:black;background-color:#ff7f64;text-align:right;'>0.0000</td><td style='color:black;background-color:#fe7f64;text-align:right;'>0.0017</td><td style='color:black;background-color:#fa8364;text-align:right;'>0.0351</td><td style='color:black;background-color:#a8d564;text-align:right;'>0.6786</td><td style='color:black;background-color:#fe7f64;text-align:right;'>0.0062</td><td style='color:black;background-color:#ff7f64;text-align:right;'>0.0000</td><td style='color:black;background-color:#fe7f64;text-align:right;'>0.0027</td><td style='color:black;background-color:#fd8064;text-align:right;'>0.0111</td><td style='color:black;background-color:#fe7f64;text-align:right;'>0.0004</td><td style='color:black;background-color:#ff7f64;text-align:right;'>0.0000</td><td style='color:black;background-color:#fe7f64;text-align:right;'>0.0002</td><td style='color:black;background-color:#fe7f64;text-align:right;'>0.0030</td><td style='color:black;background-color:#ff7f64;text-align:right;'>0.0000</td><td style='color:black;background-color:#ff7f64;text-align:right;'>0.0000</td><td style='color:black;background-color:#ff7f64;text-align:right;'>0.0000</td><td style='color:black;background-color:#fd8064;text-align:right;'>0.0106</td><td style='color:black;background-color:#fe7f64;text-align:right;'>0.0036</td><td style='color:black;background-color:#fe7f64;text-align:right;'>0.0029</td><td style='color:black;background-color:#ff7f64;text-align:right;'>0.0000</td><td style='color:black;background-color:#ff7f64;text-align:right;'>0.0000</td><td style='color:black;background-color:#fe7f64;text-align:right;'>0.0008</td><td style='color:black;background-color:#ff7f64;text-align:right;'>0.0000</td><td style='color:black;background-color:#fe7f64;text-align:right;'>0.0001</td><td style='color:black;background-color:#ff7f64;text-align:right;'>0.0000</td><td style='color:black;background-color:#fe7f64;text-align:right;'>0.0001</td><td style='color:black;background-color:#ff7f64;text-align:right;'>0.0000</td><td style='color:black;background-color:#ff7f64;text-align:right;'>0.0000</td><td style='color:black;background-color:#fe7f64;text-align:right;'>0.0003</td><td style='color:black;background-color:#fe7f64;text-align:right;'>0.0001</td><td style='color:black;background-color:#ff7f64;text-align:right;'>0.0000</td><td style='color:black;background-color:#fe7f64;text-align:right;'>0.0003</td><td style='color:black;background-color:#fe7f64;text-align:right;'>0.0020</td><td style='color:black;background-color:#f28b64;text-align:right;'>0.0966</td><td style='color:black;background-color:#fe7f64;text-align:right;'>0.0010</td></tr>\n",
       "</table>"
      ],
      "text/plain": [
       "(pyAgrum.Potential<double>@000002551F43ABB0) \n",
       "      ||  SIG_OBS                                                                                                                                                                                                                                                                                                                                                                                                                                                                                                                                                                                                    |\n",
       "SYSTEM||A-COUPS  |ABSENT   |ALLUME   |ARRACHE  |ASPIRER  |BALANCE  |BLESSE   |BLOQUE   |BROUTE   |BRUTAL   |BRUYANT  |CALE     |CASSE    |CLAQUE   |CLIGNOTE |CREVE    |DEBOITE  |DECLENCHE|DEGONFLE |DELOCALIS|DEREGLE  |DESSERRE |DUR      |ENFONCE  |FAUX CONT|FENDU    |FERME MAL|FONCTIONN|FUITE    |FUME/CHAU|INCOMPLET|INSUFFISA|INTERMITT|INTERRUPT|JEU      |LACERE   |MANQUE   |MAUVAIS  |N'EMET PA|N'ENCRE P|NE FONCTI|NE TIRE P|ODEUR    |OUVRE MAL|PATINE   |RAYE     |REFUSE TI|SALE     |SECOUSSE |TAGUE    |TANGUE   |TEMOIN OU|TIRE A DR|TIRE A GA|TORDU    |USE/VIDE |VIBRE    |VOYANT AL|VOYANT HS|\n",
       "------||---------|---------|---------|---------|---------|---------|---------|---------|---------|---------|---------|---------|---------|---------|---------|---------|---------|---------|---------|---------|---------|---------|---------|---------|---------|---------|---------|---------|---------|---------|---------|---------|---------|---------|---------|---------|---------|---------|---------|---------|---------|---------|---------|---------|---------|---------|---------|---------|---------|---------|---------|---------|---------|---------|---------|---------|---------|---------|---------|\n",
       "DIVERS|| 0.0213  | 0.0000  | 0.0000  | 0.0213  | 0.0000  | 0.0000  | 0.0000  | 0.0213  | 0.0000  | 0.0000  | 0.2979  | 0.0000  | 0.0213  | 0.0213  | 0.0000  | 0.0000  | 0.0000  | 0.0000  | 0.0213  | 0.0000  | 0.0000  | 0.0000  | 0.2766  | 0.0000  | 0.0000  | 0.0000  | 0.0000  | 0.1277  | 0.0000  | 0.0213  | 0.0000  | 0.0000  | 0.0000  | 0.0000  | 0.0000  | 0.0000  | 0.0000  | 0.0000  | 0.0000  | 0.0000  | 0.0000  | 0.0000  | 0.0000  | 0.0000  | 0.0000  | 0.0000  | 0.0000  | 0.0000  | 0.0000  | 0.0000  | 0.0000  | 0.0000  | 0.0638  | 0.0000  | 0.0000  | 0.0000  | 0.0213  | 0.0638  | 0.0000  |\n",
       "EQUIPE|| 0.0371  | 0.0029  | 0.0001  | 0.0067  | 0.0000  | 0.0344  | 0.0107  | 0.0750  | 0.0000  | 0.0000  | 0.1424  | 0.0006  | 0.0485  | 0.0604  | 0.0078  | 0.0142  | 0.0116  | 0.0001  | 0.1296  | 0.0000  | 0.0017  | 0.0059  | 0.0650  | 0.0119  | 0.0001  | 0.0001  | 0.0004  | 0.0822  | 0.0667  | 0.0054  | 0.0003  | 0.0011  | 0.0082  | 0.0014  | 0.0002  | 0.0038  | 0.0042  | 0.0000  | 0.0000  | 0.0000  | 0.0733  | 0.0007  | 0.0021  | 0.0001  | 0.0004  | 0.0088  | 0.0000  | 0.0000  | 0.0000  | 0.0023  | 0.0002  | 0.0006  | 0.0032  | 0.0017  | 0.0002  | 0.0085  | 0.0105  | 0.0451  | 0.0017  |\n",
       "EQUIPE|| 0.0009  | 0.1313  | 0.0000  | 0.0001  | 0.0000  | 0.0003  | 0.0000  | 0.0382  | 0.0000  | 0.0000  | 0.0443  | 0.0001  | 0.0677  | 0.0006  | 0.0011  | 0.0001  | 0.0046  | 0.0000  | 0.0004  | 0.0000  | 0.0000  | 0.0005  | 0.0004  | 0.0010  | 0.0000  | 0.0000  | 0.0001  | 0.1216  | 0.0967  | 0.0155  | 0.0001  | 0.1347  | 0.0050  | 0.0196  | 0.0000  | 0.0003  | 0.0104  | 0.0000  | 0.0000  | 0.0000  | 0.2411  | 0.0003  | 0.0178  | 0.0000  | 0.0000  | 0.0010  | 0.0000  | 0.0009  | 0.0000  | 0.0000  | 0.0000  | 0.0001  | 0.0001  | 0.0001  | 0.0000  | 0.0000  | 0.0004  | 0.0411  | 0.0016  |\n",
       "EQUIPE|| 0.0010  | 0.0279  | 0.0000  | 0.0247  | 0.0003  | 0.0013  | 0.0001  | 0.0596  | 0.0000  | 0.0002  | 0.0116  | 0.0001  | 0.3580  | 0.0103  | 0.0018  | 0.0001  | 0.0675  | 0.0000  | 0.0018  | 0.0000  | 0.0007  | 0.0229  | 0.0023  | 0.0505  | 0.0001  | 0.0007  | 0.0034  | 0.1064  | 0.0308  | 0.0008  | 0.0012  | 0.0094  | 0.0026  | 0.0139  | 0.0000  | 0.0259  | 0.0250  | 0.0000  | 0.0000  | 0.0000  | 0.0422  | 0.0001  | 0.0004  | 0.0003  | 0.0000  | 0.0756  | 0.0000  | 0.0010  | 0.0000  | 0.0009  | 0.0000  | 0.0009  | 0.0001  | 0.0000  | 0.0010  | 0.0038  | 0.0010  | 0.0071  | 0.0025  |\n",
       "EQUIPE|| 0.0113  | 0.0049  | 0.0000  | 0.0001  | 0.0000  | 0.0014  | 0.0002  | 0.0363  | 0.0000  | 0.0001  | 0.0791  | 0.0007  | 0.0069  | 0.0112  | 0.0073  | 0.0011  | 0.0087  | 0.0011  | 0.0219  | 0.0000  | 0.0000  | 0.0012  | 0.0157  | 0.0020  | 0.0001  | 0.0000  | 0.0001  | 0.1018  | 0.2348  | 0.0454  | 0.0035  | 0.0101  | 0.0124  | 0.0020  | 0.0001  | 0.0003  | 0.0074  | 0.0000  | 0.0000  | 0.0000  | 0.0119  | 0.0013  | 0.0115  | 0.0000  | 0.0001  | 0.0004  | 0.0000  | 0.0000  | 0.0000  | 0.0001  | 0.0000  | 0.0002  | 0.0067  | 0.0103  | 0.0000  | 0.0002  | 0.0032  | 0.3129  | 0.0122  |\n",
       "EQUIPE|| 0.0108  | 0.0152  | 0.0000  | 0.0019  | 0.0000  | 0.0005  | 0.0000  | 0.0085  | 0.0002  | 0.0000  | 0.0570  | 0.0078  | 0.0124  | 0.0024  | 0.0162  | 0.0003  | 0.0043  | 0.0001  | 0.0034  | 0.0000  | 0.0001  | 0.0010  | 0.0015  | 0.0034  | 0.0002  | 0.0000  | 0.0001  | 0.0281  | 0.2423  | 0.0311  | 0.0003  | 0.0137  | 0.0258  | 0.0024  | 0.0000  | 0.0005  | 0.0270  | 0.0000  | 0.0000  | 0.0000  | 0.0162  | 0.0417  | 0.0095  | 0.0000  | 0.0016  | 0.0030  | 0.0001  | 0.0003  | 0.0000  | 0.0000  | 0.0000  | 0.0002  | 0.0005  | 0.0001  | 0.0000  | 0.0021  | 0.0119  | 0.3915  | 0.0026  |\n",
       "EQUIPE|| 0.1772  | 0.0131  | 0.0000  | 0.0007  | 0.0000  | 0.0007  | 0.0000  | 0.0741  | 0.0015  | 0.0007  | 0.0566  | 0.0065  | 0.0574  | 0.0102  | 0.0290  | 0.0000  | 0.0102  | 0.0000  | 0.0080  | 0.0000  | 0.0007  | 0.0022  | 0.0036  | 0.0029  | 0.0000  | 0.0000  | 0.0000  | 0.1227  | 0.0668  | 0.0094  | 0.0000  | 0.0058  | 0.0298  | 0.0167  | 0.0000  | 0.0000  | 0.0073  | 0.0000  | 0.0000  | 0.0000  | 0.0443  | 0.0196  | 0.0058  | 0.0000  | 0.0298  | 0.0015  | 0.0000  | 0.0000  | 0.0000  | 0.0000  | 0.0000  | 0.0000  | 0.0007  | 0.0000  | 0.0000  | 0.0000  | 0.0290  | 0.1285  | 0.0269  |\n",
       "EQUIPE|| 0.0007  | 0.1465  | 0.0000  | 0.0035  | 0.0000  | 0.0001  | 0.0001  | 0.0084  | 0.0000  | 0.0000  | 0.0018  | 0.0002  | 0.1817  | 0.0005  | 0.0049  | 0.0001  | 0.0153  | 0.0000  | 0.0003  | 0.0000  | 0.0001  | 0.0030  | 0.0003  | 0.0043  | 0.0006  | 0.0000  | 0.0002  | 0.0542  | 0.0027  | 0.0003  | 0.0013  | 0.0131  | 0.0032  | 0.0068  | 0.0000  | 0.0019  | 0.0241  | 0.0000  | 0.0000  | 0.0000  | 0.4562  | 0.0002  | 0.0002  | 0.0000  | 0.0000  | 0.0095  | 0.0000  | 0.0001  | 0.0000  | 0.0000  | 0.0000  | 0.0013  | 0.0001  | 0.0000  | 0.0000  | 0.0000  | 0.0002  | 0.0314  | 0.0207  |\n",
       "EQUIPE|| 0.0001  | 0.0963  | 0.0000  | 0.0001  | 0.0000  | 0.0000  | 0.0000  | 0.0764  | 0.0000  | 0.0000  | 0.0068  | 0.0000  | 0.0289  | 0.0001  | 0.0038  | 0.0000  | 0.0033  | 0.0000  | 0.0001  | 0.0121  | 0.0002  | 0.0026  | 0.0000  | 0.0005  | 0.0005  | 0.0000  | 0.0001  | 0.1751  | 0.0012  | 0.0003  | 0.0004  | 0.0054  | 0.0103  | 0.0225  | 0.0000  | 0.0001  | 0.0092  | 0.0000  | 0.0003  | 0.0027  | 0.4944  | 0.0001  | 0.0008  | 0.0000  | 0.0000  | 0.0005  | 0.0190  | 0.0002  | 0.0000  | 0.0001  | 0.0000  | 0.0001  | 0.0000  | 0.0000  | 0.0000  | 0.0000  | 0.0004  | 0.0083  | 0.0162  |\n",
       "EQUIPE|| 0.0049  | 0.0028  | 0.0000  | 0.0011  | 0.0000  | 0.0035  | 0.0000  | 0.0227  | 0.0000  | 0.0000  | 0.0370  | 0.0005  | 0.0059  | 0.0046  | 0.0037  | 0.0001  | 0.0010  | 0.0001  | 0.0461  | 0.0000  | 0.0001  | 0.0002  | 0.0076  | 0.0003  | 0.0000  | 0.0000  | 0.0017  | 0.0351  | 0.6786  | 0.0062  | 0.0000  | 0.0027  | 0.0111  | 0.0004  | 0.0000  | 0.0002  | 0.0030  | 0.0000  | 0.0000  | 0.0000  | 0.0106  | 0.0036  | 0.0029  | 0.0000  | 0.0000  | 0.0008  | 0.0000  | 0.0001  | 0.0000  | 0.0001  | 0.0000  | 0.0000  | 0.0003  | 0.0001  | 0.0000  | 0.0003  | 0.0020  | 0.0966  | 0.0010  |"
      ]
     },
     "execution_count": 33,
     "metadata": {},
     "output_type": "execute_result"
    }
   ],
   "source": [
    "bn.cpt(\"SIG_OBS\")"
   ]
  },
  {
   "cell_type": "markdown",
   "metadata": {
    "pycharm": {
     "name": "#%% md\n"
    }
   },
   "source": [
    "Loi de probabilité de SYSTEM_N1 | SIG_OBS :"
   ]
  },
  {
   "cell_type": "code",
   "execution_count": 34,
   "metadata": {
    "pycharm": {
     "name": "#%%\n"
    }
   },
   "outputs": [
    {
     "data": {
      "text/html": [
       "<table style=\"border:1px solid black;\">\n",
       "<tr style='border:1px solid black;color:black;background-color:#808080'>\n",
       "      <th colspan='10'><center>SYSTEM_N1</center></th></tr>\n",
       "<tr><th style='border:1px solid black;border-bottom-style: double;color:black;background-color:#BBBBBB'>\n",
       "      <center>DIVERS</center></th><th style='border:1px solid black;border-bottom-style: double;color:black;background-color:#BBBBBB'>\n",
       "      <center>EQUIPEMENT CHASSIS</center></th><th style='border:1px solid black;border-bottom-style: double;color:black;background-color:#BBBBBB'>\n",
       "      <center>EQUIPEMENT CLIMATIQUE</center></th><th style='border:1px solid black;border-bottom-style: double;color:black;background-color:#BBBBBB'>\n",
       "      <center>EQUIPEMENT DE CARROSSERIE</center></th><th style='border:1px solid black;border-bottom-style: double;color:black;background-color:#BBBBBB'>\n",
       "      <center>EQUIPEMENT DE FREINAGE</center></th><th style='border:1px solid black;border-bottom-style: double;color:black;background-color:#BBBBBB'>\n",
       "      <center>EQUIPEMENT DE MOTORISATION</center></th><th style='border:1px solid black;border-bottom-style: double;color:black;background-color:#BBBBBB'>\n",
       "      <center>EQUIPEMENT DE TRANSMISSION</center></th><th style='border:1px solid black;border-bottom-style: double;color:black;background-color:#BBBBBB'>\n",
       "      <center>EQUIPEMENT ELECTRIQUE</center></th><th style='border:1px solid black;border-bottom-style: double;color:black;background-color:#BBBBBB'>\n",
       "      <center>EQUIPEMENT EMBARQUE</center></th><th style='border:1px solid black;border-bottom-style: double;color:black;background-color:#BBBBBB'>\n",
       "      <center>EQUIPEMENT PNEUMATIQUE</center></th></tr>\n",
       "<tr><td style='color:black;background-color:#fe7f64;text-align:right;'>0.0001</td><td style='color:black;background-color:#fa8364;text-align:right;'>0.0316</td><td style='color:black;background-color:#fb8264;text-align:right;'>0.0270</td><td style='color:black;background-color:#df9e64;text-align:right;'>0.2472</td><td style='color:black;background-color:#fc8164;text-align:right;'>0.0232</td><td style='color:black;background-color:#f98464;text-align:right;'>0.0450</td><td style='color:black;background-color:#fe7f64;text-align:right;'>0.0027</td><td style='color:black;background-color:#b6c764;text-align:right;'>0.5633</td><td style='color:black;background-color:#f98464;text-align:right;'>0.0405</td><td style='color:black;background-color:#fc8164;text-align:right;'>0.0195</td></tr>\n",
       "</table>"
      ],
      "text/plain": [
       "(pyAgrum.Potential<double>@000002551F43AD50) \n",
       "  SYSTEM_N1                                                                                        |\n",
       "DIVERS   |EQUIPEMEN|EQUIPEMEN|EQUIPEMEN|EQUIPEMEN|EQUIPEMEN|EQUIPEMEN|EQUIPEMEN|EQUIPEMEN|EQUIPEMEN|\n",
       "---------|---------|---------|---------|---------|---------|---------|---------|---------|---------|\n",
       " 0.0001  | 0.0316  | 0.0270  | 0.2472  | 0.0232  | 0.0450  | 0.0027  | 0.5633  | 0.0405  | 0.0195  |"
      ]
     },
     "execution_count": 34,
     "metadata": {},
     "output_type": "execute_result"
    }
   ],
   "source": [
    "bn.cpt(\"SYSTEM_N1\")"
   ]
  },
  {
   "cell_type": "markdown",
   "metadata": {
    "pycharm": {
     "name": "#%% md\n"
    }
   },
   "source": [
    "## Prédictions"
   ]
  },
  {
   "cell_type": "markdown",
   "metadata": {
    "pycharm": {
     "name": "#%% md\n"
    }
   },
   "source": [
    "À ce stade, vous pouvez reprendre la fonction predict que nous avons utilisée dans ce TD pour réaliser des prédictions d'une variable cible à partir de données. Chaque ligne des données fournies est utilisée comme évidence (conditionnement) pour calculer la loi de la variable cible sachant les données observées."
   ]
  },
  {
   "cell_type": "code",
   "execution_count": 35,
   "metadata": {
    "pycharm": {
     "name": "#%%\n"
    }
   },
   "outputs": [],
   "source": [
    "def predict(bn, data, var_target, show_progress=False):\n",
    "    \"\"\"\n",
    "    This function is used to predict the posterior probability of a target variable from observations  \n",
    "    using a bayesian network model. \n",
    "\n",
    "    Inputs:\n",
    "    - =bn=: the predictive model given as a =pyAgrum.BayesNet= object\n",
    "    - =data=: the data containing the observations used to predict the target variable \n",
    "    as a =pandas.DataFrame= object\n",
    "    - =var_target=: the name of the target variable as a =str= object\n",
    "\n",
    "    Returns:\n",
    "    - a =DataFrame= containing the posterior probability distribution of the target \n",
    "    variable given each observation in =data=.\n",
    "    \"\"\"\n",
    "    # Initialize the inference engine\n",
    "    inf_bn = gum.LazyPropagation(bn)\n",
    "    inf_bn.setTargets({var_target})\n",
    "    nb_data = len(data)\n",
    "    target_size = bn.variable(var_target).domainSize()\n",
    "    target_dom = np.array([bn.variable(var_target).label(i)\n",
    "                           for i in range(target_size)])\n",
    "    data_records = data.to_dict(\"records\")\n",
    "    post_prob = np.zeros((nb_data, target_size))\n",
    "    for i in range(nb_data):\n",
    "        # Set the evidence\n",
    "        inf_bn.setEvidence(data_records[i])\n",
    "        # Run inference\n",
    "        inf_bn.makeInference()\n",
    "        # Compute posterior probability of target variable\n",
    "        post_prob[i, :] = inf_bn.posterior(var_target).toarray()\n",
    "        # Erase evidence\n",
    "        inf_bn.eraseAllEvidence()\n",
    "        if show_progress:\n",
    "            sys.stdout.write(\"predict progress: {0:3.0%}\\r\".format(i/nb_data))\n",
    "\n",
    "    post_prob_df = pd.DataFrame(post_prob,\n",
    "                                index=data.index,\n",
    "                                columns=bn.variable(var_target).labels())\n",
    "    post_prob_df.columns.name = var_target\n",
    "    return post_prob_df"
   ]
  },
  {
   "cell_type": "code",
   "execution_count": 36,
   "metadata": {
    "pycharm": {
     "name": "#%%\n"
    }
   },
   "outputs": [
    {
     "name": "stdout",
     "output_type": "stream",
     "text": [
      "predict progress: 100%\r"
     ]
    }
   ],
   "source": [
    "pred_prob = predict(bn,\n",
    "                    data=joined_df_filtered[[\"SIG_OBS\", \"SIG_ORGANE\",\"KM_GROUP\"]].iloc[-1000:], \n",
    "                    var_target=\"SYSTEM_N1\",\n",
    "                    show_progress=True)\n",
    "\n",
    "pred_var = pred_prob.idxmax(axis=1).rename(\"pred\")"
   ]
  },
  {
   "cell_type": "markdown",
   "metadata": {
    "pycharm": {
     "name": "#%% md\n"
    }
   },
   "source": [
    "On finit par évaluer le taux de prédictions du modèle par rapport aux données observées."
   ]
  },
  {
   "cell_type": "code",
   "execution_count": 38,
   "metadata": {
    "pycharm": {
     "name": "#%%\n"
    }
   },
   "outputs": [
    {
     "data": {
      "text/plain": [
       "0.94"
      ]
     },
     "execution_count": 38,
     "metadata": {},
     "output_type": "execute_result"
    }
   ],
   "source": [
    "(joined_df_filtered[\"SYSTEM_N1\"].iloc[-1000:] == pred_var).mean()"
   ]
  },
  {
   "cell_type": "markdown",
   "metadata": {
    "pycharm": {
     "name": "#%% md\n"
    }
   },
   "source": [
    "Et la matrice de confusion associée :"
   ]
  },
  {
   "cell_type": "code",
   "execution_count": 39,
   "metadata": {
    "pycharm": {
     "name": "#%%\n"
    }
   },
   "outputs": [
    {
     "data": {
      "text/html": [
       "<div>\n",
       "<style scoped>\n",
       "    .dataframe tbody tr th:only-of-type {\n",
       "        vertical-align: middle;\n",
       "    }\n",
       "\n",
       "    .dataframe tbody tr th {\n",
       "        vertical-align: top;\n",
       "    }\n",
       "\n",
       "    .dataframe thead th {\n",
       "        text-align: right;\n",
       "    }\n",
       "</style>\n",
       "<table border=\"1\" class=\"dataframe\">\n",
       "  <thead>\n",
       "    <tr style=\"text-align: right;\">\n",
       "      <th>pred</th>\n",
       "      <th>EQUIPEMENT CHASSIS</th>\n",
       "      <th>EQUIPEMENT CLIMATIQUE</th>\n",
       "      <th>EQUIPEMENT DE CARROSSERIE</th>\n",
       "      <th>EQUIPEMENT DE FREINAGE</th>\n",
       "      <th>EQUIPEMENT DE MOTORISATION</th>\n",
       "      <th>EQUIPEMENT ELECTRIQUE</th>\n",
       "      <th>EQUIPEMENT EMBARQUE</th>\n",
       "      <th>EQUIPEMENT PNEUMATIQUE</th>\n",
       "    </tr>\n",
       "    <tr>\n",
       "      <th>SYSTEM_N1</th>\n",
       "      <th></th>\n",
       "      <th></th>\n",
       "      <th></th>\n",
       "      <th></th>\n",
       "      <th></th>\n",
       "      <th></th>\n",
       "      <th></th>\n",
       "      <th></th>\n",
       "    </tr>\n",
       "  </thead>\n",
       "  <tbody>\n",
       "    <tr>\n",
       "      <th>EQUIPEMENT CHASSIS</th>\n",
       "      <td>3</td>\n",
       "      <td>0</td>\n",
       "      <td>2</td>\n",
       "      <td>0</td>\n",
       "      <td>1</td>\n",
       "      <td>0</td>\n",
       "      <td>0</td>\n",
       "      <td>0</td>\n",
       "    </tr>\n",
       "    <tr>\n",
       "      <th>EQUIPEMENT CLIMATIQUE</th>\n",
       "      <td>0</td>\n",
       "      <td>74</td>\n",
       "      <td>3</td>\n",
       "      <td>0</td>\n",
       "      <td>0</td>\n",
       "      <td>2</td>\n",
       "      <td>0</td>\n",
       "      <td>0</td>\n",
       "    </tr>\n",
       "    <tr>\n",
       "      <th>EQUIPEMENT DE CARROSSERIE</th>\n",
       "      <td>1</td>\n",
       "      <td>0</td>\n",
       "      <td>232</td>\n",
       "      <td>0</td>\n",
       "      <td>3</td>\n",
       "      <td>6</td>\n",
       "      <td>1</td>\n",
       "      <td>1</td>\n",
       "    </tr>\n",
       "    <tr>\n",
       "      <th>EQUIPEMENT DE FREINAGE</th>\n",
       "      <td>0</td>\n",
       "      <td>0</td>\n",
       "      <td>0</td>\n",
       "      <td>5</td>\n",
       "      <td>1</td>\n",
       "      <td>0</td>\n",
       "      <td>0</td>\n",
       "      <td>0</td>\n",
       "    </tr>\n",
       "    <tr>\n",
       "      <th>EQUIPEMENT DE MOTORISATION</th>\n",
       "      <td>0</td>\n",
       "      <td>0</td>\n",
       "      <td>4</td>\n",
       "      <td>0</td>\n",
       "      <td>19</td>\n",
       "      <td>0</td>\n",
       "      <td>0</td>\n",
       "      <td>0</td>\n",
       "    </tr>\n",
       "    <tr>\n",
       "      <th>EQUIPEMENT DE TRANSMISSION</th>\n",
       "      <td>0</td>\n",
       "      <td>0</td>\n",
       "      <td>0</td>\n",
       "      <td>0</td>\n",
       "      <td>0</td>\n",
       "      <td>1</td>\n",
       "      <td>0</td>\n",
       "      <td>0</td>\n",
       "    </tr>\n",
       "    <tr>\n",
       "      <th>EQUIPEMENT ELECTRIQUE</th>\n",
       "      <td>0</td>\n",
       "      <td>1</td>\n",
       "      <td>22</td>\n",
       "      <td>1</td>\n",
       "      <td>7</td>\n",
       "      <td>493</td>\n",
       "      <td>0</td>\n",
       "      <td>0</td>\n",
       "    </tr>\n",
       "    <tr>\n",
       "      <th>EQUIPEMENT EMBARQUE</th>\n",
       "      <td>0</td>\n",
       "      <td>0</td>\n",
       "      <td>2</td>\n",
       "      <td>0</td>\n",
       "      <td>1</td>\n",
       "      <td>0</td>\n",
       "      <td>114</td>\n",
       "      <td>0</td>\n",
       "    </tr>\n",
       "  </tbody>\n",
       "</table>\n",
       "</div>"
      ],
      "text/plain": [
       "pred                        EQUIPEMENT CHASSIS  EQUIPEMENT CLIMATIQUE  \\\n",
       "SYSTEM_N1                                                               \n",
       "EQUIPEMENT CHASSIS                           3                      0   \n",
       "EQUIPEMENT CLIMATIQUE                        0                     74   \n",
       "EQUIPEMENT DE CARROSSERIE                    1                      0   \n",
       "EQUIPEMENT DE FREINAGE                       0                      0   \n",
       "EQUIPEMENT DE MOTORISATION                   0                      0   \n",
       "EQUIPEMENT DE TRANSMISSION                   0                      0   \n",
       "EQUIPEMENT ELECTRIQUE                        0                      1   \n",
       "EQUIPEMENT EMBARQUE                          0                      0   \n",
       "\n",
       "pred                        EQUIPEMENT DE CARROSSERIE  EQUIPEMENT DE FREINAGE  \\\n",
       "SYSTEM_N1                                                                       \n",
       "EQUIPEMENT CHASSIS                                  2                       0   \n",
       "EQUIPEMENT CLIMATIQUE                               3                       0   \n",
       "EQUIPEMENT DE CARROSSERIE                         232                       0   \n",
       "EQUIPEMENT DE FREINAGE                              0                       5   \n",
       "EQUIPEMENT DE MOTORISATION                          4                       0   \n",
       "EQUIPEMENT DE TRANSMISSION                          0                       0   \n",
       "EQUIPEMENT ELECTRIQUE                              22                       1   \n",
       "EQUIPEMENT EMBARQUE                                 2                       0   \n",
       "\n",
       "pred                        EQUIPEMENT DE MOTORISATION  EQUIPEMENT ELECTRIQUE  \\\n",
       "SYSTEM_N1                                                                       \n",
       "EQUIPEMENT CHASSIS                                   1                      0   \n",
       "EQUIPEMENT CLIMATIQUE                                0                      2   \n",
       "EQUIPEMENT DE CARROSSERIE                            3                      6   \n",
       "EQUIPEMENT DE FREINAGE                               1                      0   \n",
       "EQUIPEMENT DE MOTORISATION                          19                      0   \n",
       "EQUIPEMENT DE TRANSMISSION                           0                      1   \n",
       "EQUIPEMENT ELECTRIQUE                                7                    493   \n",
       "EQUIPEMENT EMBARQUE                                  1                      0   \n",
       "\n",
       "pred                        EQUIPEMENT EMBARQUE  EQUIPEMENT PNEUMATIQUE  \n",
       "SYSTEM_N1                                                                \n",
       "EQUIPEMENT CHASSIS                            0                       0  \n",
       "EQUIPEMENT CLIMATIQUE                         0                       0  \n",
       "EQUIPEMENT DE CARROSSERIE                     1                       1  \n",
       "EQUIPEMENT DE FREINAGE                        0                       0  \n",
       "EQUIPEMENT DE MOTORISATION                    0                       0  \n",
       "EQUIPEMENT DE TRANSMISSION                    0                       0  \n",
       "EQUIPEMENT ELECTRIQUE                         0                       0  \n",
       "EQUIPEMENT EMBARQUE                         114                       0  "
      ]
     },
     "execution_count": 39,
     "metadata": {},
     "output_type": "execute_result"
    }
   ],
   "source": [
    "pd.crosstab(joined_df_filtered[\"SYSTEM_N1\"].iloc[-1000:], pred_var)"
   ]
  },
  {
   "cell_type": "code",
   "execution_count": null,
   "metadata": {},
   "outputs": [],
   "source": []
  }
 ],
 "metadata": {
  "kernelspec": {
   "display_name": "Python 3 (ipykernel)",
   "language": "python",
   "name": "python3"
  },
  "language_info": {
   "codemirror_mode": {
    "name": "ipython",
    "version": 3
   },
   "file_extension": ".py",
   "mimetype": "text/x-python",
   "name": "python",
   "nbconvert_exporter": "python",
   "pygments_lexer": "ipython3",
   "version": "3.11.6"
  }
 },
 "nbformat": 4,
 "nbformat_minor": 4
}
